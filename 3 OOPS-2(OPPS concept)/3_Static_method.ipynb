{
 "cells": [
  {
   "cell_type": "code",
   "execution_count": 11,
   "id": "4a676a1d",
   "metadata": {},
   "outputs": [],
   "source": [
    "class pwskill:\n",
    "    def student_details(self,name,mail_id,number):\n",
    "        print(name,mail_id,number)\n",
    "    \n",
    "    @staticmethod\n",
    "    def mentor_class(list_mentor):\n",
    "        print(list_mentor)\n",
    "        \n",
    "    def mentor(self):\n",
    "        print(self.list_mentor)"
   ]
  },
  {
   "cell_type": "code",
   "execution_count": 12,
   "id": "d6f4a94d",
   "metadata": {},
   "outputs": [
    {
     "name": "stdout",
     "output_type": "stream",
     "text": [
      "['akjfi', 'brazil', 'AEWV']\n"
     ]
    }
   ],
   "source": [
    "pw = pwskill.mentor_class([\"akjfi\",\"brazil\",\"AEWV\"])"
   ]
  },
  {
   "cell_type": "code",
   "execution_count": 13,
   "id": "950f4de4",
   "metadata": {},
   "outputs": [
    {
     "data": {
      "text/plain": [
       "<function __main__.pwskill.mentor_class(list_mentor)>"
      ]
     },
     "execution_count": 13,
     "metadata": {},
     "output_type": "execute_result"
    }
   ],
   "source": [
    "pwskill.mentor_class"
   ]
  },
  {
   "cell_type": "code",
   "execution_count": 31,
   "id": "320747cf",
   "metadata": {},
   "outputs": [],
   "source": [
    "# staticmethod in classmethod\n",
    "class pwskill2:\n",
    "    def student_details(self,name,mail_id,number):\n",
    "        print(name,mail_id,number)\n",
    "    \n",
    "    @staticmethod\n",
    "    def mentor_class(list_mentor):\n",
    "        print(list_mentor)\n",
    "        \n",
    "    @classmethod\n",
    "    def class_name(cls):\n",
    "        cls.mentor_class(\"brsrbes\")"
   ]
  },
  {
   "cell_type": "code",
   "execution_count": 33,
   "id": "b90990c9",
   "metadata": {},
   "outputs": [
    {
     "name": "stdout",
     "output_type": "stream",
     "text": [
      "brsrbes\n"
     ]
    }
   ],
   "source": [
    "pwskill2.class_name()"
   ]
  },
  {
   "cell_type": "code",
   "execution_count": 39,
   "id": "fa9d061b",
   "metadata": {},
   "outputs": [],
   "source": [
    "\n",
    "class pwskill3:\n",
    "    def student_details(self,name,mail_id,number):\n",
    "        print(name,mail_id,number)\n",
    "    \n",
    "    @staticmethod\n",
    "    def mentor_mail(mail_id_mentor):\n",
    "        print(mail_id_mentor)  \n",
    "       \n",
    "    @staticmethod\n",
    "    def mentor_class(list_mentor):\n",
    "        pwskill2.mentor_mail(['sbre@df','brs@rv'])\n",
    "        print(list_mentor)\n",
    "        \n",
    "    @classmethod\n",
    "    def class_name(cls):\n",
    "        cls.mentor_class(\"brsrbes\")"
   ]
  },
  {
   "cell_type": "code",
   "execution_count": 40,
   "id": "d3d144fb",
   "metadata": {},
   "outputs": [
    {
     "name": "stdout",
     "output_type": "stream",
     "text": [
      "['sbre@df', 'brs@rv']\n",
      "['vaes', 'sfba']\n"
     ]
    }
   ],
   "source": [
    "pwskill2.mentor_class([\"vaes\",\"sfba\"])"
   ]
  },
  {
   "cell_type": "code",
   "execution_count": 42,
   "id": "aaa51ae6",
   "metadata": {},
   "outputs": [],
   "source": [
    "# pwskill2.class_name()"
   ]
  },
  {
   "cell_type": "code",
   "execution_count": 49,
   "id": "e6bd1a83",
   "metadata": {},
   "outputs": [],
   "source": [
    "\n",
    "class pwskill4:\n",
    "    def student_details(self,name,mail_id,number):\n",
    "        print(name,mail_id,number)\n",
    "    \n",
    "    @staticmethod\n",
    "    def mentor_mail(mail_id_mentor):\n",
    "        print(mail_id_mentor)  \n",
    "       \n",
    "    @staticmethod\n",
    "    def mentor_class(list_mentor):\n",
    "        pwskill2.mentor_mail(['sbre@df','brs@rv'])\n",
    "        print(list_mentor)\n",
    "        \n",
    "    @classmethod\n",
    "    def class_name(cls):\n",
    "        cls.mentor_class(\"brsrbes\")\n",
    "        \n",
    "    def mentor(self,mentor_list):\n",
    "        print(mentor_list)\n",
    "        self.mentor_class([\"ksri\",\"raone\"])"
   ]
  },
  {
   "cell_type": "code",
   "execution_count": 51,
   "id": "f8fbf4c3",
   "metadata": {},
   "outputs": [
    {
     "name": "stdout",
     "output_type": "stream",
     "text": [
      "['da']\n",
      "['sbre@df', 'brs@rv']\n",
      "['ksri', 'raone']\n"
     ]
    }
   ],
   "source": [
    "pw = pwskill4()\n",
    "pw.mentor([\"da\"])"
   ]
  },
  {
   "cell_type": "code",
   "execution_count": null,
   "id": "e0dcd56b",
   "metadata": {},
   "outputs": [],
   "source": []
  },
  {
   "cell_type": "code",
   "execution_count": null,
   "id": "a687c1a7",
   "metadata": {},
   "outputs": [],
   "source": []
  }
 ],
 "metadata": {
  "kernelspec": {
   "display_name": "Python 3 (ipykernel)",
   "language": "python",
   "name": "python3"
  },
  "language_info": {
   "codemirror_mode": {
    "name": "ipython",
    "version": 3
   },
   "file_extension": ".py",
   "mimetype": "text/x-python",
   "name": "python",
   "nbconvert_exporter": "python",
   "pygments_lexer": "ipython3",
   "version": "3.9.13"
  }
 },
 "nbformat": 4,
 "nbformat_minor": 5
}
