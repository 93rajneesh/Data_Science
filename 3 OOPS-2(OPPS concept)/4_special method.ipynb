{
 "cells": [
  {
   "cell_type": "code",
   "execution_count": 6,
   "id": "587fbf9c",
   "metadata": {},
   "outputs": [],
   "source": [
    "# dir()\n",
    "# dir(str)"
   ]
  },
  {
   "cell_type": "code",
   "execution_count": 8,
   "id": "91a2377b",
   "metadata": {},
   "outputs": [
    {
     "data": {
      "text/plain": [
       "40"
      ]
     },
     "execution_count": 8,
     "metadata": {},
     "output_type": "execute_result"
    }
   ],
   "source": [
    "a = 34\n",
    "a.__add__(6)"
   ]
  },
  {
   "cell_type": "code",
   "execution_count": 13,
   "id": "21ebad16",
   "metadata": {},
   "outputs": [],
   "source": [
    "class pwskill:\n",
    "    def __init__(self):\n",
    "        self.mobile_number = 95522331554"
   ]
  },
  {
   "cell_type": "code",
   "execution_count": 14,
   "id": "e3330dda",
   "metadata": {},
   "outputs": [
    {
     "data": {
      "text/plain": [
       "95522331554"
      ]
     },
     "execution_count": 14,
     "metadata": {},
     "output_type": "execute_result"
    }
   ],
   "source": [
    "pw = pwskill()\n",
    "pw.mobile_number"
   ]
  },
  {
   "cell_type": "code",
   "execution_count": 25,
   "id": "2eb5bf54",
   "metadata": {},
   "outputs": [],
   "source": [
    "class pwskill1:\n",
    "#     def __init__(self):\n",
    "#         self.mobile_number = 6476476\n",
    "    \n",
    "    def __str__(self):\n",
    "        return \"this is return string\""
   ]
  },
  {
   "cell_type": "code",
   "execution_count": 26,
   "id": "0fc85479",
   "metadata": {},
   "outputs": [],
   "source": [
    "pw1 = pwskill1()"
   ]
  },
  {
   "cell_type": "code",
   "execution_count": 27,
   "id": "ea36794c",
   "metadata": {},
   "outputs": [
    {
     "data": {
      "text/plain": [
       "<__main__.pwskill1 at 0x1a88a04be50>"
      ]
     },
     "execution_count": 27,
     "metadata": {},
     "output_type": "execute_result"
    }
   ],
   "source": [
    "pw1"
   ]
  },
  {
   "cell_type": "code",
   "execution_count": 28,
   "id": "663b92ab",
   "metadata": {},
   "outputs": [
    {
     "name": "stdout",
     "output_type": "stream",
     "text": [
      "this is return string\n"
     ]
    }
   ],
   "source": [
    "print(pw1) "
   ]
  },
  {
   "cell_type": "code",
   "execution_count": 19,
   "id": "c6d2178e",
   "metadata": {},
   "outputs": [],
   "source": [
    "# class pwskill2:\n",
    "#     def __init__(ra):\n",
    "#         ra.mobile_number = 6476476\n",
    "        \n",
    "#     def la(ra):\n",
    "#         return \"sfd\"\n",
    "    \n"
   ]
  },
  {
   "cell_type": "code",
   "execution_count": 20,
   "id": "f8fe0405",
   "metadata": {},
   "outputs": [
    {
     "data": {
      "text/plain": [
       "'sfd'"
      ]
     },
     "execution_count": 20,
     "metadata": {},
     "output_type": "execute_result"
    }
   ],
   "source": [
    "pw8 = pwskill2()\n",
    "pw8.la()"
   ]
  },
  {
   "cell_type": "code",
   "execution_count": null,
   "id": "45fb617d",
   "metadata": {},
   "outputs": [],
   "source": []
  }
 ],
 "metadata": {
  "kernelspec": {
   "display_name": "Python 3 (ipykernel)",
   "language": "python",
   "name": "python3"
  },
  "language_info": {
   "codemirror_mode": {
    "name": "ipython",
    "version": 3
   },
   "file_extension": ".py",
   "mimetype": "text/x-python",
   "name": "python",
   "nbconvert_exporter": "python",
   "pygments_lexer": "ipython3",
   "version": "3.9.13"
  }
 },
 "nbformat": 4,
 "nbformat_minor": 5
}
