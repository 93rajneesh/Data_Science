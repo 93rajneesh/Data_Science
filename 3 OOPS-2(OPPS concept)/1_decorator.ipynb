{
 "cells": [
  {
   "cell_type": "code",
   "execution_count": 1,
   "id": "2f6b78a5",
   "metadata": {},
   "outputs": [],
   "source": [
    "def test():\n",
    "    print(\"this is start of function\")\n",
    "    print(\"this is end of function\")\n",
    "    "
   ]
  },
  {
   "cell_type": "code",
   "execution_count": 4,
   "id": "df08251b",
   "metadata": {},
   "outputs": [],
   "source": [
    "def deco(func):\n",
    "    def inner_dec():\n",
    "        print(\"this is start of function\")\n",
    "        func()\n",
    "        print(\"this is end of function\")\n",
    "    return inner_dec()"
   ]
  },
  {
   "cell_type": "code",
   "execution_count": 5,
   "id": "49189526",
   "metadata": {},
   "outputs": [
    {
     "name": "stdout",
     "output_type": "stream",
     "text": [
      "this is start of function\n",
      "8\n",
      "this is end of function\n"
     ]
    }
   ],
   "source": [
    "@deco\n",
    "def bank():\n",
    "    print(2*4)"
   ]
  },
  {
   "cell_type": "code",
   "execution_count": null,
   "id": "81dee1f6",
   "metadata": {},
   "outputs": [],
   "source": []
  }
 ],
 "metadata": {
  "kernelspec": {
   "display_name": "Python 3 (ipykernel)",
   "language": "python",
   "name": "python3"
  },
  "language_info": {
   "codemirror_mode": {
    "name": "ipython",
    "version": 3
   },
   "file_extension": ".py",
   "mimetype": "text/x-python",
   "name": "python",
   "nbconvert_exporter": "python",
   "pygments_lexer": "ipython3",
   "version": "3.9.13"
  }
 },
 "nbformat": 4,
 "nbformat_minor": 5
}
