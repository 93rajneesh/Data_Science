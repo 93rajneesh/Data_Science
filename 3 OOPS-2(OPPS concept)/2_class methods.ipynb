{
 "cells": [
  {
   "cell_type": "code",
   "execution_count": 37,
   "id": "04053425",
   "metadata": {},
   "outputs": [],
   "source": [
    "# type1\n",
    "class pwskill:\n",
    "    def __init__(self, name,email):\n",
    "        self.name = name\n",
    "        self.email = email\n",
    "    \n",
    "    @classmethod\n",
    "    def details(cls, name , email):\n",
    "        return cls(name , email)\n",
    "    \n",
    "    def student_details(self):\n",
    "        return self.name,self.email"
   ]
  },
  {
   "cell_type": "code",
   "execution_count": 40,
   "id": "02b53c00",
   "metadata": {},
   "outputs": [],
   "source": [
    "pw = pwskill.details(\"Fea\", \"nitj@ac.in\")"
   ]
  },
  {
   "cell_type": "code",
   "execution_count": 41,
   "id": "6c0f90d5",
   "metadata": {},
   "outputs": [
    {
     "data": {
      "text/plain": [
       "'Fea'"
      ]
     },
     "execution_count": 41,
     "metadata": {},
     "output_type": "execute_result"
    }
   ],
   "source": [
    "pw.name"
   ]
  },
  {
   "cell_type": "code",
   "execution_count": 42,
   "id": "2e977967",
   "metadata": {},
   "outputs": [],
   "source": [
    "# type2\n",
    "class pwskill2:\n",
    "    mobile_num = 2596030 \n",
    "    def __init__(self, name,email):\n",
    "        self.name = name\n",
    "        self.email = email\n",
    "    \n",
    "    @classmethod\n",
    "    def change_num(clas, number):\n",
    "        pwskill2.mobile_num = number"
   ]
  },
  {
   "cell_type": "code",
   "execution_count": 43,
   "id": "6535c4a6",
   "metadata": {},
   "outputs": [],
   "source": [
    "pwskill2.change_num(4577645)"
   ]
  },
  {
   "cell_type": "code",
   "execution_count": 44,
   "id": "d59b90dd",
   "metadata": {},
   "outputs": [
    {
     "data": {
      "text/plain": [
       "4577645"
      ]
     },
     "execution_count": 44,
     "metadata": {},
     "output_type": "execute_result"
    }
   ],
   "source": [
    "pwskill2.mobile_num"
   ]
  },
  {
   "cell_type": "code",
   "execution_count": 45,
   "id": "26ea97af",
   "metadata": {},
   "outputs": [],
   "source": [
    "# type3\n",
    "class pwskill3:\n",
    "    mobile_num = 2596030 \n",
    "    def __init__(self, name,email):\n",
    "        self.name = name\n",
    "        self.email = email\n",
    "    \n",
    "    @classmethod\n",
    "    def change_num(clas, number):\n",
    "        pwskill2.mobile_num = number\n",
    "    "
   ]
  },
  {
   "cell_type": "code",
   "execution_count": 46,
   "id": "7d36e02b",
   "metadata": {},
   "outputs": [],
   "source": [
    "def course_details(cls, course_details):\n",
    "    print(\"course name is:\", course_details)"
   ]
  },
  {
   "cell_type": "code",
   "execution_count": 52,
   "id": "33f68280",
   "metadata": {},
   "outputs": [
    {
     "ename": "NameError",
     "evalue": "name 'course_detailsa' is not defined",
     "output_type": "error",
     "traceback": [
      "\u001b[1;31m---------------------------------------------------------------------------\u001b[0m",
      "\u001b[1;31mNameError\u001b[0m                                 Traceback (most recent call last)",
      "\u001b[1;32m~\\AppData\\Local\\Temp\\ipykernel_8196\\794318400.py\u001b[0m in \u001b[0;36m<module>\u001b[1;34m\u001b[0m\n\u001b[1;32m----> 1\u001b[1;33m \u001b[0mpwskill3\u001b[0m\u001b[1;33m.\u001b[0m\u001b[0mcourse_details_name1\u001b[0m \u001b[1;33m=\u001b[0m \u001b[0mclassmethod\u001b[0m\u001b[1;33m(\u001b[0m\u001b[0mcourse_detailsa\u001b[0m\u001b[1;33m)\u001b[0m\u001b[1;33m\u001b[0m\u001b[1;33m\u001b[0m\u001b[0m\n\u001b[0m",
      "\u001b[1;31mNameError\u001b[0m: name 'course_detailsa' is not defined"
     ]
    }
   ],
   "source": [
    "pwskill3.course_details_name1 = classmethod(course_details)"
   ]
  },
  {
   "cell_type": "code",
   "execution_count": 51,
   "id": "63fdae8c",
   "metadata": {},
   "outputs": [
    {
     "name": "stdout",
     "output_type": "stream",
     "text": [
      "course name is: dsa\n"
     ]
    }
   ],
   "source": [
    "pwskill3.course_details_name1(\"dsa\")"
   ]
  },
  {
   "cell_type": "code",
   "execution_count": 71,
   "id": "e3ebb1bb",
   "metadata": {},
   "outputs": [],
   "source": [
    "class pwskill4:\n",
    "    def __init__(self, name,email):\n",
    "        self.name = name\n",
    "        self.email = email\n",
    "    \n",
    "    @classmethod\n",
    "    def details(cls, name , email):\n",
    "        return cls(name , email)\n",
    "    \n",
    "    def student_details(self):\n",
    "        return self.name,self.email\n",
    "    \n",
    "    def email_details(self):\n",
    "        return self.email"
   ]
  },
  {
   "cell_type": "code",
   "execution_count": 72,
   "id": "279beba8",
   "metadata": {},
   "outputs": [],
   "source": [
    "del pwskill4.student_details"
   ]
  },
  {
   "cell_type": "code",
   "execution_count": 73,
   "id": "315a09fa",
   "metadata": {},
   "outputs": [],
   "source": [
    "pw1 = pwskill4.details(\"ds\",\"sfbh@sr\")"
   ]
  },
  {
   "cell_type": "code",
   "execution_count": 74,
   "id": "49ae7dd2",
   "metadata": {},
   "outputs": [
    {
     "ename": "AttributeError",
     "evalue": "'pwskill4' object has no attribute 'student_details'",
     "output_type": "error",
     "traceback": [
      "\u001b[1;31m---------------------------------------------------------------------------\u001b[0m",
      "\u001b[1;31mAttributeError\u001b[0m                            Traceback (most recent call last)",
      "\u001b[1;32m~\\AppData\\Local\\Temp\\ipykernel_8196\\2184486920.py\u001b[0m in \u001b[0;36m<module>\u001b[1;34m\u001b[0m\n\u001b[1;32m----> 1\u001b[1;33m \u001b[0mpw1\u001b[0m\u001b[1;33m.\u001b[0m\u001b[0mstudent_details\u001b[0m\u001b[1;33m\u001b[0m\u001b[1;33m\u001b[0m\u001b[0m\n\u001b[0m",
      "\u001b[1;31mAttributeError\u001b[0m: 'pwskill4' object has no attribute 'student_details'"
     ]
    }
   ],
   "source": [
    "pw1.student_details"
   ]
  },
  {
   "cell_type": "code",
   "execution_count": 75,
   "id": "bca26074",
   "metadata": {},
   "outputs": [],
   "source": [
    "delattr(pwskill4,\"details\")"
   ]
  },
  {
   "cell_type": "code",
   "execution_count": 77,
   "id": "e7da48d0",
   "metadata": {},
   "outputs": [
    {
     "data": {
      "text/plain": [
       "'sfbh@sr'"
      ]
     },
     "execution_count": 77,
     "metadata": {},
     "output_type": "execute_result"
    }
   ],
   "source": [
    "pw1.email_details()"
   ]
  },
  {
   "cell_type": "code",
   "execution_count": null,
   "id": "71f1250d",
   "metadata": {},
   "outputs": [],
   "source": []
  }
 ],
 "metadata": {
  "kernelspec": {
   "display_name": "Python 3 (ipykernel)",
   "language": "python",
   "name": "python3"
  },
  "language_info": {
   "codemirror_mode": {
    "name": "ipython",
    "version": 3
   },
   "file_extension": ".py",
   "mimetype": "text/x-python",
   "name": "python",
   "nbconvert_exporter": "python",
   "pygments_lexer": "ipython3",
   "version": "3.9.13"
  }
 },
 "nbformat": 4,
 "nbformat_minor": 5
}
