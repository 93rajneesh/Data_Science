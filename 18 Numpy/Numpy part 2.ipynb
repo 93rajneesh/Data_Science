{
 "cells": [
  {
   "cell_type": "code",
   "execution_count": 1,
   "id": "89bcc2ee-2ffd-4fdd-ab74-21ad6b250f0f",
   "metadata": {},
   "outputs": [],
   "source": [
    "import numpy as np"
   ]
  },
  {
   "cell_type": "code",
   "execution_count": 2,
   "id": "72079758-e536-484e-bc5d-7a8ad601e794",
   "metadata": {},
   "outputs": [
    {
     "data": {
      "text/plain": [
       "array([[4, 3, 3, 9],\n",
       "       [3, 5, 6, 6],\n",
       "       [9, 4, 1, 6]])"
      ]
     },
     "execution_count": 2,
     "metadata": {},
     "output_type": "execute_result"
    }
   ],
   "source": [
    "arr = np.random.randint(1,10, (3,4))\n",
    "arr"
   ]
  },
  {
   "cell_type": "code",
   "execution_count": 3,
   "id": "597fc69c-c5e4-4cff-ac31-be08ab34042b",
   "metadata": {},
   "outputs": [
    {
     "data": {
      "text/plain": [
       "array([[4, 3],\n",
       "       [3, 9],\n",
       "       [3, 5],\n",
       "       [6, 6],\n",
       "       [9, 4],\n",
       "       [1, 6]])"
      ]
     },
     "execution_count": 3,
     "metadata": {},
     "output_type": "execute_result"
    }
   ],
   "source": [
    "arr.reshape(6,2)"
   ]
  },
  {
   "cell_type": "code",
   "execution_count": 4,
   "id": "0017836f-1490-4365-bf81-7359d29ea6f6",
   "metadata": {},
   "outputs": [
    {
     "data": {
      "text/plain": [
       "array([[4, 3],\n",
       "       [3, 9],\n",
       "       [3, 5],\n",
       "       [6, 6],\n",
       "       [9, 4],\n",
       "       [1, 6]])"
      ]
     },
     "execution_count": 4,
     "metadata": {},
     "output_type": "execute_result"
    }
   ],
   "source": [
    "arr.reshape(6,-13222353)"
   ]
  },
  {
   "cell_type": "code",
   "execution_count": 26,
   "id": "2dc6112e-b6a9-4560-9237-8edaba1e8468",
   "metadata": {},
   "outputs": [
    {
     "data": {
      "text/plain": [
       "array([[4, 3, 9],\n",
       "       [3, 5, 4],\n",
       "       [3, 6, 1],\n",
       "       [9, 6, 6]])"
      ]
     },
     "execution_count": 26,
     "metadata": {},
     "output_type": "execute_result"
    }
   ],
   "source": [
    "arr.T"
   ]
  },
  {
   "cell_type": "code",
   "execution_count": 27,
   "id": "16c744ec-1b7d-4b37-b080-c4c0305cf53b",
   "metadata": {},
   "outputs": [
    {
     "data": {
      "text/plain": [
       "array([4, 3, 3, 9, 3, 5, 6, 6, 9, 4, 1, 6])"
      ]
     },
     "execution_count": 27,
     "metadata": {},
     "output_type": "execute_result"
    }
   ],
   "source": [
    "arr.flatten()"
   ]
  },
  {
   "cell_type": "code",
   "execution_count": 28,
   "id": "c6bb38f5-2e5c-4351-bf17-14499617074a",
   "metadata": {},
   "outputs": [
    {
     "data": {
      "text/plain": [
       "array([1, 2, 3, 4])"
      ]
     },
     "execution_count": 28,
     "metadata": {},
     "output_type": "execute_result"
    }
   ],
   "source": [
    "arr1 = np.array([1,2,3,4])\n",
    "arr1"
   ]
  },
  {
   "cell_type": "code",
   "execution_count": 29,
   "id": "a1dac167-dbe5-4af8-a916-c5ff4a439d11",
   "metadata": {},
   "outputs": [
    {
     "data": {
      "text/plain": [
       "array([1, 2, 3, 4])"
      ]
     },
     "execution_count": 29,
     "metadata": {},
     "output_type": "execute_result"
    }
   ],
   "source": [
    "arr1.T"
   ]
  },
  {
   "cell_type": "code",
   "execution_count": 35,
   "id": "ca63220a-7135-4535-82a7-ba3144fbab9b",
   "metadata": {},
   "outputs": [
    {
     "data": {
      "text/plain": [
       "array([[1],\n",
       "       [2],\n",
       "       [3],\n",
       "       [4]])"
      ]
     },
     "execution_count": 35,
     "metadata": {},
     "output_type": "execute_result"
    }
   ],
   "source": [
    "#  transpose the one dimension array\n",
    "np.expand_dims(arr1,axis = 1)"
   ]
  },
  {
   "cell_type": "code",
   "execution_count": 39,
   "id": "20cb7822-1297-4783-8582-acbfbb3411b6",
   "metadata": {},
   "outputs": [
    {
     "data": {
      "text/plain": [
       "array([[3, 1, 1, 3],\n",
       "       [1, 3, 3, 3],\n",
       "       [2, 3, 3, 2]])"
      ]
     },
     "execution_count": 39,
     "metadata": {},
     "output_type": "execute_result"
    }
   ],
   "source": [
    "sque = np.random.randint(1,4, (3,4))\n",
    "sque"
   ]
  },
  {
   "cell_type": "code",
   "execution_count": 41,
   "id": "c950f070-960c-47fa-b445-6f28fc55e2d1",
   "metadata": {
    "jp-MarkdownHeadingCollapsed": true,
    "tags": []
   },
   "outputs": [
    {
     "data": {
      "text/plain": [
       "array([[3, 1, 1, 3],\n",
       "       [1, 3, 3, 3],\n",
       "       [2, 3, 3, 2]])"
      ]
     },
     "execution_count": 41,
     "metadata": {},
     "output_type": "execute_result"
    }
   ],
   "source": [
    "np.squeeze(sque)\n",
    "# note"
   ]
  },
  {
   "cell_type": "code",
   "execution_count": 43,
   "id": "f6d54d18-4dd6-4e2d-80eb-54e37bfa53bd",
   "metadata": {},
   "outputs": [
    {
     "data": {
      "text/plain": [
       "array([[1],\n",
       "       [2],\n",
       "       [3]])"
      ]
     },
     "execution_count": 43,
     "metadata": {},
     "output_type": "execute_result"
    }
   ],
   "source": [
    "sque1 = np.array([[1] , [2] , [3]])\n",
    "sque1"
   ]
  },
  {
   "cell_type": "code",
   "execution_count": 44,
   "id": "672a5ebf-932c-47e9-9c01-5189a5b4ae7d",
   "metadata": {},
   "outputs": [
    {
     "data": {
      "text/plain": [
       "array([1, 2, 3])"
      ]
     },
     "execution_count": 44,
     "metadata": {},
     "output_type": "execute_result"
    }
   ],
   "source": [
    "np.squeeze(sque1)# it works on single data"
   ]
  },
  {
   "cell_type": "code",
   "execution_count": 47,
   "id": "e95d6f7c-eeb1-4e6d-b0fc-fc51baeba2b3",
   "metadata": {},
   "outputs": [
    {
     "data": {
      "text/plain": [
       "array([1, 1, 1, 2, 2, 2, 3, 3, 3, 4, 4, 4])"
      ]
     },
     "execution_count": 47,
     "metadata": {},
     "output_type": "execute_result"
    }
   ],
   "source": [
    "# repeat the array\n",
    "np.repeat(arr1, 3)"
   ]
  },
  {
   "cell_type": "code",
   "execution_count": 48,
   "id": "2caafada-cdfb-419f-b0a1-b1d7f3b00d7a",
   "metadata": {},
   "outputs": [
    {
     "data": {
      "text/plain": [
       "array([3, 4, 1, 2])"
      ]
     },
     "execution_count": 48,
     "metadata": {},
     "output_type": "execute_result"
    }
   ],
   "source": [
    "# reshuffle the array element by its position\n",
    "np.roll(arr1 , 2)"
   ]
  },
  {
   "cell_type": "code",
   "execution_count": 49,
   "id": "e7bc4fbf-6787-4afe-9baf-f291e4efb4af",
   "metadata": {},
   "outputs": [
    {
     "data": {
      "text/plain": [
       "array([1, 2, 3, 4])"
      ]
     },
     "execution_count": 49,
     "metadata": {},
     "output_type": "execute_result"
    }
   ],
   "source": [
    "arr1"
   ]
  },
  {
   "cell_type": "code",
   "execution_count": 54,
   "id": "8c490def-60ed-4ad9-a69c-c87d511189c7",
   "metadata": {},
   "outputs": [
    {
     "data": {
      "text/plain": [
       "array([[1, 0, 0, 0],\n",
       "       [0, 2, 0, 0],\n",
       "       [0, 0, 3, 0],\n",
       "       [0, 0, 0, 4]])"
      ]
     },
     "execution_count": 54,
     "metadata": {},
     "output_type": "execute_result"
    }
   ],
   "source": [
    "np.diag(arr1)"
   ]
  },
  {
   "cell_type": "code",
   "execution_count": 51,
   "id": "c460c2ff-679e-46fe-9690-a91480c06c50",
   "metadata": {},
   "outputs": [
    {
     "data": {
      "text/plain": [
       "array([4, 5, 1])"
      ]
     },
     "execution_count": 51,
     "metadata": {},
     "output_type": "execute_result"
    }
   ],
   "source": [
    "np.diagonal(arr)"
   ]
  },
  {
   "cell_type": "code",
   "execution_count": 53,
   "id": "db01f38e-3e8b-44de-95f5-b2e035152029",
   "metadata": {},
   "outputs": [
    {
     "data": {
      "text/plain": [
       "array([[4, 3, 3, 9],\n",
       "       [3, 5, 6, 6],\n",
       "       [9, 4, 1, 6]])"
      ]
     },
     "execution_count": 53,
     "metadata": {},
     "output_type": "execute_result"
    }
   ],
   "source": [
    "arr"
   ]
  },
  {
   "cell_type": "code",
   "execution_count": 56,
   "id": "2763b38b-fbb3-455c-bea5-0136cbd1dc3c",
   "metadata": {},
   "outputs": [],
   "source": [
    "# Binary operators\n",
    "arr2 = np.random.randint(1,10 , (3,4))\n",
    "arr3 = np.random.randint(1,10 , (3,4))"
   ]
  },
  {
   "cell_type": "code",
   "execution_count": 57,
   "id": "45444b1d-ff3b-4414-9e3a-a92dc749fecc",
   "metadata": {},
   "outputs": [
    {
     "data": {
      "text/plain": [
       "array([[6, 4, 4, 1],\n",
       "       [4, 4, 9, 3],\n",
       "       [1, 5, 8, 4]])"
      ]
     },
     "execution_count": 57,
     "metadata": {},
     "output_type": "execute_result"
    }
   ],
   "source": [
    "arr2"
   ]
  },
  {
   "cell_type": "code",
   "execution_count": 58,
   "id": "b99cda99-4041-4ec2-bedd-c64f0201601a",
   "metadata": {},
   "outputs": [
    {
     "data": {
      "text/plain": [
       "array([[5, 3, 2, 9],\n",
       "       [7, 2, 2, 4],\n",
       "       [5, 8, 8, 3]])"
      ]
     },
     "execution_count": 58,
     "metadata": {},
     "output_type": "execute_result"
    }
   ],
   "source": [
    "arr3"
   ]
  },
  {
   "cell_type": "code",
   "execution_count": 59,
   "id": "f9485dcb-1aa3-4e38-bc68-69aad4a18e1e",
   "metadata": {},
   "outputs": [
    {
     "data": {
      "text/plain": [
       "array([[1.2       , 1.33333333, 2.        , 0.11111111],\n",
       "       [0.57142857, 2.        , 4.5       , 0.75      ],\n",
       "       [0.2       , 0.625     , 1.        , 1.33333333]])"
      ]
     },
     "execution_count": 59,
     "metadata": {},
     "output_type": "execute_result"
    }
   ],
   "source": [
    "arr2/arr3"
   ]
  },
  {
   "cell_type": "code",
   "execution_count": 60,
   "id": "6470933e-d9d8-48b6-8cab-d942388519d5",
   "metadata": {},
   "outputs": [
    {
     "data": {
      "text/plain": [
       "array([[    7776,       64,       16,        1],\n",
       "       [   16384,       16,       81,       81],\n",
       "       [       1,   390625, 16777216,       64]], dtype=int32)"
      ]
     },
     "execution_count": 60,
     "metadata": {},
     "output_type": "execute_result"
    }
   ],
   "source": [
    "arr2**arr3"
   ]
  },
  {
   "cell_type": "code",
   "execution_count": 61,
   "id": "f7c77b63-a177-4155-abec-08b5ae1ce4d8",
   "metadata": {},
   "outputs": [
    {
     "data": {
      "text/plain": [
       "array([[11,  7,  6, 10],\n",
       "       [11,  6, 11,  7],\n",
       "       [ 6, 13, 16,  7]])"
      ]
     },
     "execution_count": 61,
     "metadata": {},
     "output_type": "execute_result"
    }
   ],
   "source": [
    "arr2+arr3"
   ]
  },
  {
   "cell_type": "code",
   "execution_count": 62,
   "id": "4e0631eb-ddf4-4e80-8b2d-0afb37eb2acb",
   "metadata": {},
   "outputs": [
    {
     "data": {
      "text/plain": [
       "array([[1, 1, 0, 1],\n",
       "       [4, 0, 1, 3],\n",
       "       [1, 5, 0, 1]], dtype=int32)"
      ]
     },
     "execution_count": 62,
     "metadata": {},
     "output_type": "execute_result"
    }
   ],
   "source": [
    "arr2%arr3"
   ]
  },
  {
   "cell_type": "code",
   "execution_count": 63,
   "id": "7e8f62b0-9ff3-40fb-8b00-cca2e858d8fa",
   "metadata": {},
   "outputs": [
    {
     "data": {
      "text/plain": [
       "array([[ -7,  -5,  -5,  -2],\n",
       "       [ -5,  -5, -10,  -4],\n",
       "       [ -2,  -6,  -9,  -5]], dtype=int32)"
      ]
     },
     "execution_count": 63,
     "metadata": {},
     "output_type": "execute_result"
    }
   ],
   "source": [
    "~arr2"
   ]
  },
  {
   "cell_type": "code",
   "execution_count": 70,
   "id": "63ceb7ba-8e22-454a-a83c-7bf7046c40c2",
   "metadata": {},
   "outputs": [
    {
     "data": {
      "text/plain": [
       "array([[ True,  True,  True, False],\n",
       "       [False,  True,  True, False],\n",
       "       [False, False, False,  True]])"
      ]
     },
     "execution_count": 70,
     "metadata": {},
     "output_type": "execute_result"
    }
   ],
   "source": [
    "arr2>arr3"
   ]
  },
  {
   "cell_type": "code",
   "execution_count": 73,
   "id": "6959e5db-223f-4914-b590-4f20296f394f",
   "metadata": {},
   "outputs": [],
   "source": [
    "# string function\n",
    "arr4 = np.array(['hello' , 'apple' , 'google'])"
   ]
  },
  {
   "cell_type": "code",
   "execution_count": 76,
   "id": "98325736-6e16-4dd4-aa5c-183f5e44214c",
   "metadata": {},
   "outputs": [
    {
     "data": {
      "text/plain": [
       "array(['Hello', 'Apple', 'Google'], dtype='<U6')"
      ]
     },
     "execution_count": 76,
     "metadata": {},
     "output_type": "execute_result"
    }
   ],
   "source": [
    "np.char.capitalize(arr4)"
   ]
  },
  {
   "cell_type": "code",
   "execution_count": 79,
   "id": "c18c0044-eb1f-45c5-92ac-c33edf7b8bdf",
   "metadata": {},
   "outputs": [
    {
     "data": {
      "text/plain": [
       "array([1, 0, 2])"
      ]
     },
     "execution_count": 79,
     "metadata": {},
     "output_type": "execute_result"
    }
   ],
   "source": [
    "np.char.count(arr4, 'o')"
   ]
  },
  {
   "cell_type": "code",
   "execution_count": 80,
   "id": "a7b7a7a3-5e4b-4557-b828-dd9aad594b52",
   "metadata": {},
   "outputs": [
    {
     "data": {
      "text/plain": [
       "array(['HELLO', 'APPLE', 'GOOGLE'], dtype='<U6')"
      ]
     },
     "execution_count": 80,
     "metadata": {},
     "output_type": "execute_result"
    }
   ],
   "source": [
    "np.char.upper(arr4)"
   ]
  },
  {
   "cell_type": "code",
   "execution_count": 82,
   "id": "8659f9d0-74ab-4f19-bbd4-0178da8cab72",
   "metadata": {},
   "outputs": [
    {
     "data": {
      "text/plain": [
       "array([1, 4, 5])"
      ]
     },
     "execution_count": 82,
     "metadata": {},
     "output_type": "execute_result"
    }
   ],
   "source": [
    "np.char.find(arr4,'e')"
   ]
  },
  {
   "cell_type": "code",
   "execution_count": 84,
   "id": "3061dc87-7e4a-4942-8f71-6f2090d3b19c",
   "metadata": {},
   "outputs": [
    {
     "data": {
      "text/plain": [
       "array([[6, 4, 4, 1],\n",
       "       [4, 4, 9, 3],\n",
       "       [1, 5, 8, 4]])"
      ]
     },
     "execution_count": 84,
     "metadata": {},
     "output_type": "execute_result"
    }
   ],
   "source": [
    "arr2"
   ]
  },
  {
   "cell_type": "code",
   "execution_count": 83,
   "id": "7968b2a7-5f4b-4b68-80cf-4d6ecf378c5d",
   "metadata": {},
   "outputs": [
    {
     "data": {
      "text/plain": [
       "array([[-0.2794155 , -0.7568025 , -0.7568025 ,  0.84147098],\n",
       "       [-0.7568025 , -0.7568025 ,  0.41211849,  0.14112001],\n",
       "       [ 0.84147098, -0.95892427,  0.98935825, -0.7568025 ]])"
      ]
     },
     "execution_count": 83,
     "metadata": {},
     "output_type": "execute_result"
    }
   ],
   "source": [
    "# mathematical operation\n",
    "np.sin(arr2)"
   ]
  },
  {
   "cell_type": "code",
   "execution_count": 85,
   "id": "05106752-aae4-4197-9b52-3fc7dbd6d6a6",
   "metadata": {},
   "outputs": [
    {
     "data": {
      "text/plain": [
       "array([[0.77815125, 0.60205999, 0.60205999, 0.        ],\n",
       "       [0.60205999, 0.60205999, 0.95424251, 0.47712125],\n",
       "       [0.        , 0.69897   , 0.90308999, 0.60205999]])"
      ]
     },
     "execution_count": 85,
     "metadata": {},
     "output_type": "execute_result"
    }
   ],
   "source": [
    "np.log10(arr2)"
   ]
  },
  {
   "cell_type": "code",
   "execution_count": 86,
   "id": "e28b5a55-1113-468c-987b-0e89029123b7",
   "metadata": {},
   "outputs": [
    {
     "data": {
      "text/plain": [
       "array([[-0.29100619,  1.15782128,  1.15782128,  1.55740772],\n",
       "       [ 1.15782128,  1.15782128, -0.45231566, -0.14254654],\n",
       "       [ 1.55740772, -3.38051501, -6.79971146,  1.15782128]])"
      ]
     },
     "execution_count": 86,
     "metadata": {},
     "output_type": "execute_result"
    }
   ],
   "source": [
    "np.tan(arr2)"
   ]
  },
  {
   "cell_type": "code",
   "execution_count": 88,
   "id": "2102cf84-2544-49f0-a9b1-a9673b7ff3f3",
   "metadata": {},
   "outputs": [
    {
     "data": {
      "text/plain": [
       "array([[36, 16, 16,  1],\n",
       "       [16, 16, 81,  9],\n",
       "       [ 1, 25, 64, 16]], dtype=int32)"
      ]
     },
     "execution_count": 88,
     "metadata": {},
     "output_type": "execute_result"
    }
   ],
   "source": [
    "np.power(arr2,2)"
   ]
  },
  {
   "cell_type": "code",
   "execution_count": 90,
   "id": "5cdeca8b-4ce0-41e1-95bd-9844981ef2c7",
   "metadata": {},
   "outputs": [
    {
     "data": {
      "text/plain": [
       "array([[2.44948974, 2.        , 2.        , 1.        ],\n",
       "       [2.        , 2.        , 3.        , 1.73205081],\n",
       "       [1.        , 2.23606798, 2.82842712, 2.        ]])"
      ]
     },
     "execution_count": 90,
     "metadata": {},
     "output_type": "execute_result"
    }
   ],
   "source": [
    "np.sqrt(arr2)"
   ]
  },
  {
   "cell_type": "code",
   "execution_count": 91,
   "id": "8a16fac6-e139-41e2-8f0a-f0b74f33dcbc",
   "metadata": {},
   "outputs": [
    {
     "data": {
      "text/plain": [
       "4.416666666666667"
      ]
     },
     "execution_count": 91,
     "metadata": {},
     "output_type": "execute_result"
    }
   ],
   "source": [
    "np.mean(arr2)"
   ]
  },
  {
   "cell_type": "code",
   "execution_count": 92,
   "id": "de9d128e-7d31-4d4a-9b2e-c1329f6dc0dd",
   "metadata": {},
   "outputs": [
    {
     "data": {
      "text/plain": [
       "2.289771944005681"
      ]
     },
     "execution_count": 92,
     "metadata": {},
     "output_type": "execute_result"
    }
   ],
   "source": [
    "np.std(arr2)"
   ]
  },
  {
   "cell_type": "code",
   "execution_count": null,
   "id": "96d38cf0-ccfe-40c6-b0c8-a231bacc2fdf",
   "metadata": {},
   "outputs": [],
   "source": []
  }
 ],
 "metadata": {
  "kernelspec": {
   "display_name": "Python 3 (ipykernel)",
   "language": "python",
   "name": "python3"
  },
  "language_info": {
   "codemirror_mode": {
    "name": "ipython",
    "version": 3
   },
   "file_extension": ".py",
   "mimetype": "text/x-python",
   "name": "python",
   "nbconvert_exporter": "python",
   "pygments_lexer": "ipython3",
   "version": "3.9.13"
  }
 },
 "nbformat": 4,
 "nbformat_minor": 5
}
