{
 "cells": [
  {
   "cell_type": "code",
   "execution_count": 1,
   "id": "8ff34f7e-384e-4154-b4c1-aed5d771f116",
   "metadata": {},
   "outputs": [],
   "source": [
    "import numpy as np"
   ]
  },
  {
   "cell_type": "code",
   "execution_count": 2,
   "id": "ccd2d267-a513-4936-8af3-c6dd2f84aadf",
   "metadata": {},
   "outputs": [],
   "source": [
    "#Sort, Search & Counting Functions.\n",
    "arr = np.array([1,2,3,4,5,7,3,2,4,6,6,8,7,2334,4,6,534,2])"
   ]
  },
  {
   "cell_type": "code",
   "execution_count": 3,
   "id": "74e66be2-981c-4761-925c-40ea283af623",
   "metadata": {},
   "outputs": [
    {
     "data": {
      "text/plain": [
       "array([   1,    2,    2,    2,    3,    3,    4,    4,    4,    5,    6,\n",
       "          6,    6,    7,    7,    8,  534, 2334])"
      ]
     },
     "execution_count": 3,
     "metadata": {},
     "output_type": "execute_result"
    }
   ],
   "source": [
    "np.sort(arr)"
   ]
  },
  {
   "cell_type": "code",
   "execution_count": 4,
   "id": "aee685ee-8397-4bd5-bf88-1ed0e7144368",
   "metadata": {},
   "outputs": [
    {
     "data": {
      "text/plain": [
       "2334"
      ]
     },
     "execution_count": 4,
     "metadata": {},
     "output_type": "execute_result"
    }
   ],
   "source": [
    "arr.max()"
   ]
  },
  {
   "cell_type": "code",
   "execution_count": 5,
   "id": "d448139f-da03-43a8-9bf1-a786bda2711f",
   "metadata": {},
   "outputs": [
    {
     "data": {
      "text/plain": [
       "16"
      ]
     },
     "execution_count": 5,
     "metadata": {},
     "output_type": "execute_result"
    }
   ],
   "source": [
    "np.searchsorted(arr , 8)"
   ]
  },
  {
   "cell_type": "code",
   "execution_count": 6,
   "id": "37305f36-880a-4d33-857a-d0cbbcb49236",
   "metadata": {},
   "outputs": [],
   "source": [
    "arr1 = np.array([0,3,0,42,42,5,0])"
   ]
  },
  {
   "cell_type": "code",
   "execution_count": 7,
   "id": "db94a2b0-a4c5-43a1-bcc1-eab3a34da648",
   "metadata": {},
   "outputs": [
    {
     "data": {
      "text/plain": [
       "4"
      ]
     },
     "execution_count": 7,
     "metadata": {},
     "output_type": "execute_result"
    }
   ],
   "source": [
    "np.count_nonzero(arr1)"
   ]
  },
  {
   "cell_type": "code",
   "execution_count": 8,
   "id": "8f69cf17-59de-4406-a786-c224b95e139c",
   "metadata": {},
   "outputs": [
    {
     "data": {
      "text/plain": [
       "(array([ 5,  9, 10, 11, 12, 13, 15, 16], dtype=int64),)"
      ]
     },
     "execution_count": 8,
     "metadata": {},
     "output_type": "execute_result"
    }
   ],
   "source": [
    "# Return elements chosen from `x` or `y` depending on `condition`.\n",
    "np.where(arr >5)"
   ]
  },
  {
   "cell_type": "code",
   "execution_count": 9,
   "id": "28bda172-3e0b-4271-b908-f6731aaecbb4",
   "metadata": {},
   "outputs": [
    {
     "data": {
      "text/plain": [
       "array([2334,  534])"
      ]
     },
     "execution_count": 9,
     "metadata": {},
     "output_type": "execute_result"
    }
   ],
   "source": [
    "# extract:Return the elements of an array that satisfy some condition.\n",
    "np.extract(arr >10 , arr)"
   ]
  },
  {
   "cell_type": "code",
   "execution_count": 10,
   "id": "2dc4cfa0-aea3-4d0b-8365-5b98086fc126",
   "metadata": {},
   "outputs": [
    {
     "data": {
      "text/plain": [
       "array([   1,    2,    3,    4,    5,    7,    3,    2,    4,    6,    6,\n",
       "          8,    7, 2334,    4,    6,  534,    2])"
      ]
     },
     "execution_count": 10,
     "metadata": {},
     "output_type": "execute_result"
    }
   ],
   "source": [
    "#Numpy - Byte Swapping.\n",
    "arr"
   ]
  },
  {
   "cell_type": "code",
   "execution_count": 11,
   "id": "6f673453-eebd-4c22-93a8-9af5d1f275aa",
   "metadata": {},
   "outputs": [
    {
     "data": {
      "text/plain": [
       "array([ 16777216,  33554432,  50331648,  67108864,  83886080, 117440512,\n",
       "        50331648,  33554432,  67108864, 100663296, 100663296, 134217728,\n",
       "       117440512, 503906304,  67108864, 100663296, 369229824,  33554432])"
      ]
     },
     "execution_count": 11,
     "metadata": {},
     "output_type": "execute_result"
    }
   ],
   "source": [
    "arr.byteswap()"
   ]
  },
  {
   "cell_type": "code",
   "execution_count": 12,
   "id": "bfaeb04d-c4ff-4191-991a-805b5c836118",
   "metadata": {},
   "outputs": [],
   "source": [
    "# copies and views"
   ]
  },
  {
   "cell_type": "code",
   "execution_count": 13,
   "id": "6a097732-cd4a-41ba-90ab-d5ee4d785840",
   "metadata": {},
   "outputs": [
    {
     "data": {
      "text/plain": [
       "array([   1,    2,    3,    4,    5,    7,    3,    2,    4,    6,    6,\n",
       "          8,    7, 2334,    4,    6,  534,    2])"
      ]
     },
     "execution_count": 13,
     "metadata": {},
     "output_type": "execute_result"
    }
   ],
   "source": [
    "arr"
   ]
  },
  {
   "cell_type": "code",
   "execution_count": 14,
   "id": "ab4173b2-cc94-4844-b3b4-0216c7f6044d",
   "metadata": {},
   "outputs": [
    {
     "data": {
      "text/plain": [
       "array([   1,    2,    3,    4,    5,    7,    3,    2,    4,    6,    6,\n",
       "          8,    7, 2334,    4,    6,  534,    2])"
      ]
     },
     "execution_count": 14,
     "metadata": {},
     "output_type": "execute_result"
    }
   ],
   "source": [
    "a = np.copy(arr)# call them deep copy\n",
    "a"
   ]
  },
  {
   "cell_type": "code",
   "execution_count": 15,
   "id": "a77f48d4-275e-40c9-b0a0-1cd4bdbcba6f",
   "metadata": {},
   "outputs": [
    {
     "data": {
      "text/plain": [
       "array([   1,    2,    3,    4,    5,    7,    3,    2,    4,    6,    6,\n",
       "          8,    7, 2334,    4,    6,  534,    2])"
      ]
     },
     "execution_count": 15,
     "metadata": {},
     "output_type": "execute_result"
    }
   ],
   "source": [
    "# view: it does not create newdata like copy()\n",
    "b = arr.view() #it also create copy. if change in a doesnot reflect in a\n",
    "b"
   ]
  },
  {
   "cell_type": "code",
   "execution_count": 16,
   "id": "bc05d4e1-3e37-4968-b8a8-c5cf21aecf14",
   "metadata": {},
   "outputs": [
    {
     "data": {
      "text/plain": [
       "array([   1,    2,    3,    4,    5,    7,    3,    2,    4,    6,    6,\n",
       "          8,    7, 2334,    4,    6,  534,    2])"
      ]
     },
     "execution_count": 16,
     "metadata": {},
     "output_type": "execute_result"
    }
   ],
   "source": [
    "arr"
   ]
  },
  {
   "cell_type": "code",
   "execution_count": 17,
   "id": "87fee31e-ea92-46ef-ba99-c45e555d3809",
   "metadata": {},
   "outputs": [
    {
     "data": {
      "text/plain": [
       "array([  73,    2,    3,    4,    5,    7,    3,    2,    4,    6,    6,\n",
       "          8,    7, 2334,    4,    6,  534,    2])"
      ]
     },
     "execution_count": 17,
     "metadata": {},
     "output_type": "execute_result"
    }
   ],
   "source": [
    "b[0] = 73\n",
    "b"
   ]
  },
  {
   "cell_type": "code",
   "execution_count": 18,
   "id": "9202fc20-4764-4c81-91cb-ccdc0c5194c6",
   "metadata": {},
   "outputs": [
    {
     "data": {
      "text/plain": [
       "array([  73,    2,    3,    4,    5,    7,    3,    2,    4,    6,    6,\n",
       "          8,    7, 2334,    4,    6,  534,    2])"
      ]
     },
     "execution_count": 18,
     "metadata": {},
     "output_type": "execute_result"
    }
   ],
   "source": [
    "arr"
   ]
  },
  {
   "cell_type": "code",
   "execution_count": 19,
   "id": "1574a064-b2da-4206-b251-34ff6f1c33b7",
   "metadata": {},
   "outputs": [],
   "source": [
    "a[1] = 23"
   ]
  },
  {
   "cell_type": "code",
   "execution_count": 20,
   "id": "19597a47-f57e-43e7-940c-9cde72f5a136",
   "metadata": {},
   "outputs": [
    {
     "data": {
      "text/plain": [
       "array([  73,    2,    3,    4,    5,    7,    3,    2,    4,    6,    6,\n",
       "          8,    7, 2334,    4,    6,  534,    2])"
      ]
     },
     "execution_count": 20,
     "metadata": {},
     "output_type": "execute_result"
    }
   ],
   "source": [
    "b"
   ]
  },
  {
   "cell_type": "code",
   "execution_count": 21,
   "id": "713d1817-90b1-40a9-bb2f-207059bdc5af",
   "metadata": {},
   "outputs": [
    {
     "data": {
      "text/plain": [
       "array([  73,    2,    3,    4,    5,    7,    3,    2,    4,    6,    6,\n",
       "          8,    7, 2334,    4,    6,  534,    2])"
      ]
     },
     "execution_count": 21,
     "metadata": {},
     "output_type": "execute_result"
    }
   ],
   "source": [
    "arr"
   ]
  },
  {
   "cell_type": "code",
   "execution_count": 22,
   "id": "285dbc79-a4f8-4451-9906-0721d83cfa15",
   "metadata": {},
   "outputs": [
    {
     "data": {
      "text/plain": [
       "array([   1,   23,    3,    4,    5,    7,    3,    2,    4,    6,    6,\n",
       "          8,    7, 2334,    4,    6,  534,    2])"
      ]
     },
     "execution_count": 22,
     "metadata": {},
     "output_type": "execute_result"
    }
   ],
   "source": [
    "a"
   ]
  },
  {
   "cell_type": "code",
   "execution_count": 23,
   "id": "9cbde615-8511-42e1-930e-a1b94a4292b5",
   "metadata": {},
   "outputs": [],
   "source": [
    "import numpy.matlib as nm\n",
    "# this used to create matrix"
   ]
  },
  {
   "cell_type": "code",
   "execution_count": 24,
   "id": "cbb2662a-90d4-4cfc-8a69-189bb919e05b",
   "metadata": {},
   "outputs": [
    {
     "data": {
      "text/plain": [
       "matrix([[0., 0., 0., 0., 0., 0.]])"
      ]
     },
     "execution_count": 24,
     "metadata": {},
     "output_type": "execute_result"
    }
   ],
   "source": [
    "nm.zeros(6)"
   ]
  },
  {
   "cell_type": "code",
   "execution_count": 25,
   "id": "9ad3f599-8222-44d4-819d-96cba50bcc73",
   "metadata": {},
   "outputs": [
    {
     "data": {
      "text/plain": [
       "matrix([[1., 1., 1., 1.]])"
      ]
     },
     "execution_count": 25,
     "metadata": {},
     "output_type": "execute_result"
    }
   ],
   "source": [
    "nm.ones(4)"
   ]
  },
  {
   "cell_type": "code",
   "execution_count": 26,
   "id": "28039079-8cc7-47d2-9fc0-0a8a28ca690b",
   "metadata": {},
   "outputs": [
    {
     "data": {
      "text/plain": [
       "array([[2, 2, 2, 2],\n",
       "       [2, 1, 3, 2],\n",
       "       [2, 2, 3, 1]])"
      ]
     },
     "execution_count": 26,
     "metadata": {},
     "output_type": "execute_result"
    }
   ],
   "source": [
    "nm.random.randint(1,4 , (3,4))"
   ]
  },
  {
   "cell_type": "code",
   "execution_count": 27,
   "id": "5edd7e4f-f6e3-4828-b535-18eaff451b0c",
   "metadata": {},
   "outputs": [
    {
     "data": {
      "text/plain": [
       "matrix([[1., 0., 0., 0., 0., 0.],\n",
       "        [0., 1., 0., 0., 0., 0.],\n",
       "        [0., 0., 1., 0., 0., 0.],\n",
       "        [0., 0., 0., 1., 0., 0.],\n",
       "        [0., 0., 0., 0., 1., 0.],\n",
       "        [0., 0., 0., 0., 0., 1.]])"
      ]
     },
     "execution_count": 27,
     "metadata": {},
     "output_type": "execute_result"
    }
   ],
   "source": [
    "nm.eye(6)"
   ]
  },
  {
   "cell_type": "code",
   "execution_count": 31,
   "id": "764567bc-c1a6-4c9d-ac11-b9a966a0c438",
   "metadata": {},
   "outputs": [],
   "source": [
    "# linear algebra\n",
    "arr1 = np.random.randint([[2,3] , [4,5]])\n",
    "arr2 = np.random.randint([[5,3] , [2,5]])"
   ]
  },
  {
   "cell_type": "code",
   "execution_count": 32,
   "id": "4f539456-de34-49fa-ae22-601b160bffea",
   "metadata": {},
   "outputs": [
    {
     "data": {
      "text/plain": [
       "array([[0, 2],\n",
       "       [1, 1]])"
      ]
     },
     "execution_count": 32,
     "metadata": {},
     "output_type": "execute_result"
    }
   ],
   "source": [
    "arr1"
   ]
  },
  {
   "cell_type": "code",
   "execution_count": 33,
   "id": "b7afc231-aedd-4a60-8332-4a7f641dbe36",
   "metadata": {},
   "outputs": [
    {
     "data": {
      "text/plain": [
       "array([[3, 1],\n",
       "       [0, 2]])"
      ]
     },
     "execution_count": 33,
     "metadata": {},
     "output_type": "execute_result"
    }
   ],
   "source": [
    "arr2"
   ]
  },
  {
   "cell_type": "code",
   "execution_count": 34,
   "id": "79b75675-61aa-484c-9612-60c91487969c",
   "metadata": {},
   "outputs": [
    {
     "data": {
      "text/plain": [
       "array([[0, 4],\n",
       "       [3, 3]])"
      ]
     },
     "execution_count": 34,
     "metadata": {},
     "output_type": "execute_result"
    }
   ],
   "source": [
    "np.dot(arr1,arr2)"
   ]
  },
  {
   "cell_type": "code",
   "execution_count": 35,
   "id": "2a00b839-8107-4459-b0f1-451568447026",
   "metadata": {},
   "outputs": [
    {
     "data": {
      "text/plain": [
       "array([[0, 4],\n",
       "       [3, 3]])"
      ]
     },
     "execution_count": 35,
     "metadata": {},
     "output_type": "execute_result"
    }
   ],
   "source": [
    "arr1@arr2"
   ]
  },
  {
   "cell_type": "code",
   "execution_count": null,
   "id": "de10a9f1-caf1-4cf5-a1eb-aa25204ba405",
   "metadata": {},
   "outputs": [],
   "source": []
  }
 ],
 "metadata": {
  "kernelspec": {
   "display_name": "Python 3 (ipykernel)",
   "language": "python",
   "name": "python3"
  },
  "language_info": {
   "codemirror_mode": {
    "name": "ipython",
    "version": 3
   },
   "file_extension": ".py",
   "mimetype": "text/x-python",
   "name": "python",
   "nbconvert_exporter": "python",
   "pygments_lexer": "ipython3",
   "version": "3.9.13"
  }
 },
 "nbformat": 4,
 "nbformat_minor": 5
}
