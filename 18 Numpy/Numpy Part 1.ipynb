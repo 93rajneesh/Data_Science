{
 "cells": [
  {
   "cell_type": "code",
   "execution_count": 1,
   "id": "54d838cc-d97f-4521-82b6-74e164ca382b",
   "metadata": {},
   "outputs": [],
   "source": [
    "import numpy as np"
   ]
  },
  {
   "cell_type": "code",
   "execution_count": 2,
   "id": "c6e74b51-b0bb-4bf1-b8b5-87f42ca18de7",
   "metadata": {},
   "outputs": [],
   "source": [
    "l = [1,2,4,2,5]\n"
   ]
  },
  {
   "cell_type": "code",
   "execution_count": 3,
   "id": "559e58b8-f563-4ce7-9c72-7933eda50e53",
   "metadata": {},
   "outputs": [
    {
     "data": {
      "text/plain": [
       "array([1, 2, 4, 2, 5])"
      ]
     },
     "execution_count": 3,
     "metadata": {},
     "output_type": "execute_result"
    }
   ],
   "source": [
    "ar = np.array(l)\n",
    "ar"
   ]
  },
  {
   "cell_type": "code",
   "execution_count": 4,
   "id": "86f04729-ae93-417b-90e4-1d6a3b0fa7aa",
   "metadata": {},
   "outputs": [
    {
     "data": {
      "text/plain": [
       "numpy.ndarray"
      ]
     },
     "execution_count": 4,
     "metadata": {},
     "output_type": "execute_result"
    }
   ],
   "source": [
    "# nd mean n dimensional data\n",
    "type(ar)"
   ]
  },
  {
   "cell_type": "code",
   "execution_count": 5,
   "id": "d1fb6385-2384-4084-acdd-6b9c777bb60c",
   "metadata": {},
   "outputs": [
    {
     "data": {
      "text/plain": [
       "array([[1, 2, 3],\n",
       "       [4, 5, 6]])"
      ]
     },
     "execution_count": 5,
     "metadata": {},
     "output_type": "execute_result"
    }
   ],
   "source": [
    "# Create an array.\n",
    "np.array( [[1,2,3] , [4,5,6]] )"
   ]
  },
  {
   "cell_type": "code",
   "execution_count": 6,
   "id": "8cf7dc48-5b8c-4e5a-99fc-10a868a5e1db",
   "metadata": {},
   "outputs": [
    {
     "data": {
      "text/plain": [
       "array([1, 2, 4, 2, 5])"
      ]
     },
     "execution_count": 6,
     "metadata": {},
     "output_type": "execute_result"
    }
   ],
   "source": [
    "# Convert the input to an array.\n",
    "np.asarray(l)"
   ]
  },
  {
   "cell_type": "code",
   "execution_count": 7,
   "id": "16f331be-20cd-4b46-9c66-b7792570cbe0",
   "metadata": {},
   "outputs": [
    {
     "data": {
      "text/plain": [
       "array([1, 2, 4, 2, 5])"
      ]
     },
     "execution_count": 7,
     "metadata": {},
     "output_type": "execute_result"
    }
   ],
   "source": [
    "# Convert the input to an ndarray, but pass ndarray subclasses through.\n",
    "np.asanyarray(l)"
   ]
  },
  {
   "cell_type": "code",
   "execution_count": 8,
   "id": "fa77bfea-9d09-40c4-9d76-dc839eee5614",
   "metadata": {},
   "outputs": [
    {
     "data": {
      "text/plain": [
       "matrix([[1, 2, 4, 2, 5]])"
      ]
     },
     "execution_count": 8,
     "metadata": {},
     "output_type": "execute_result"
    }
   ],
   "source": [
    "# matrix is subset of array.because matrix is 2D and array is nD\n",
    "b = np.matrix(l)\n",
    "b"
   ]
  },
  {
   "cell_type": "code",
   "execution_count": 9,
   "id": "d68f69b4-361f-4368-8be8-7086a0ba1408",
   "metadata": {},
   "outputs": [
    {
     "data": {
      "text/plain": [
       "numpy.matrix"
      ]
     },
     "execution_count": 9,
     "metadata": {},
     "output_type": "execute_result"
    }
   ],
   "source": [
    "type(b)"
   ]
  },
  {
   "cell_type": "code",
   "execution_count": 10,
   "id": "13bff8e0-9d21-4374-8b04-dbba9d0eb0c9",
   "metadata": {},
   "outputs": [
    {
     "data": {
      "text/plain": [
       "matrix([[1, 2, 4, 2, 5]])"
      ]
     },
     "execution_count": 10,
     "metadata": {},
     "output_type": "execute_result"
    }
   ],
   "source": [
    "# np.asanyarray(b) : This function is not convert into array . because matrix is array subset\n",
    "# np.asanyarray(): it convert input(except array) into array\n",
    "np.asanyarray(b)"
   ]
  },
  {
   "cell_type": "code",
   "execution_count": 11,
   "id": "d994c792-f64d-4149-959f-3d84d6047381",
   "metadata": {},
   "outputs": [
    {
     "data": {
      "text/plain": [
       "array([1, 2, 4, 2, 5])"
      ]
     },
     "execution_count": 11,
     "metadata": {},
     "output_type": "execute_result"
    }
   ],
   "source": [
    "a = np.array(l)\n",
    "a"
   ]
  },
  {
   "cell_type": "code",
   "execution_count": 12,
   "id": "3c7134b4-3385-4fad-bbca-cf90e82bdfc8",
   "metadata": {},
   "outputs": [
    {
     "data": {
      "text/plain": [
       "array([1, 2, 4, 2, 5])"
      ]
     },
     "execution_count": 12,
     "metadata": {},
     "output_type": "execute_result"
    }
   ],
   "source": [
    "c = a # c having  refrence to a \n",
    "c"
   ]
  },
  {
   "cell_type": "code",
   "execution_count": 13,
   "id": "a8e2c34e-1f9c-4496-bb66-0176a4178d13",
   "metadata": {},
   "outputs": [
    {
     "data": {
      "text/plain": [
       "array([1294,    2,    4,    2,    5])"
      ]
     },
     "execution_count": 13,
     "metadata": {},
     "output_type": "execute_result"
    }
   ],
   "source": [
    "c[0] = 1294 #note\n",
    "a"
   ]
  },
  {
   "cell_type": "code",
   "execution_count": 14,
   "id": "dc1b10ff-d760-44c1-84c8-8f008b287123",
   "metadata": {},
   "outputs": [],
   "source": [
    "d = np.copy(a) # d copying the value of a"
   ]
  },
  {
   "cell_type": "code",
   "execution_count": 15,
   "id": "327fefcc-e9ba-4f2a-9dcc-2c1793030c0d",
   "metadata": {},
   "outputs": [
    {
     "data": {
      "text/plain": [
       "array([1294,    2,    4,    2,    5])"
      ]
     },
     "execution_count": 15,
     "metadata": {},
     "output_type": "execute_result"
    }
   ],
   "source": [
    "d"
   ]
  },
  {
   "cell_type": "code",
   "execution_count": 16,
   "id": "44fae6dd-9734-413c-b053-1866ea3b6c34",
   "metadata": {},
   "outputs": [
    {
     "data": {
      "text/plain": [
       "array([1294,  122,    4,    2,    5])"
      ]
     },
     "execution_count": 16,
     "metadata": {},
     "output_type": "execute_result"
    }
   ],
   "source": [
    "a[1] = 122\n",
    "a"
   ]
  },
  {
   "cell_type": "code",
   "execution_count": 17,
   "id": "a7c7a84c-c486-405b-858a-2a488e92c20c",
   "metadata": {},
   "outputs": [
    {
     "data": {
      "text/plain": [
       "array([1294,    2,    4,    2,    5])"
      ]
     },
     "execution_count": 17,
     "metadata": {},
     "output_type": "execute_result"
    }
   ],
   "source": [
    "d"
   ]
  },
  {
   "cell_type": "code",
   "execution_count": 18,
   "id": "c2cbec56-43b6-412d-a0f0-b0bf328c4b55",
   "metadata": {},
   "outputs": [
    {
     "data": {
      "text/plain": [
       "array([[ True, False, False],\n",
       "       [False,  True, False],\n",
       "       [False, False,  True]])"
      ]
     },
     "execution_count": 18,
     "metadata": {},
     "output_type": "execute_result"
    }
   ],
   "source": [
    "# Construct an array by executing a function over each coordinate.\n",
    "np.fromfunction(lambda i,j : i==j , (3,3)) #matric->> 3x3"
   ]
  },
  {
   "cell_type": "code",
   "execution_count": 19,
   "id": "c28cdc17-c13b-442c-8ce3-521474264614",
   "metadata": {},
   "outputs": [
    {
     "data": {
      "text/plain": [
       "array([[0., 0., 0.],\n",
       "       [0., 1., 2.],\n",
       "       [0., 2., 4.]])"
      ]
     },
     "execution_count": 19,
     "metadata": {},
     "output_type": "execute_result"
    }
   ],
   "source": [
    "np.fromfunction(lambda i,j : i*j , (3,3))"
   ]
  },
  {
   "cell_type": "code",
   "execution_count": 20,
   "id": "f4b4eb24-05f3-444f-acae-33ebae3c9416",
   "metadata": {},
   "outputs": [],
   "source": [
    "iterable = (i*i for i in range(5))"
   ]
  },
  {
   "cell_type": "markdown",
   "id": "2105a870-9fd2-4218-992c-0dfe94aa2c00",
   "metadata": {},
   "source": [
    "np.from"
   ]
  },
  {
   "cell_type": "code",
   "execution_count": 21,
   "id": "e6c4712d-5e8c-4481-b0c5-41497967083a",
   "metadata": {},
   "outputs": [
    {
     "data": {
      "text/plain": [
       "array([ 0.,  1.,  4.,  9., 16.])"
      ]
     },
     "execution_count": 21,
     "metadata": {},
     "output_type": "execute_result"
    }
   ],
   "source": [
    "# fromiter(iter, dtype, count=-1, *, like=None)\n",
    "# Create a new 1-dimensional array from an iterable object.\n",
    "\n",
    "np.fromiter(iterable ,float)"
   ]
  },
  {
   "cell_type": "code",
   "execution_count": 22,
   "id": "584fb5bc-8db2-4811-bfaa-0913f93a85b5",
   "metadata": {},
   "outputs": [
    {
     "data": {
      "text/plain": [
       "array([3., 2., 4., 7., 8.])"
      ]
     },
     "execution_count": 22,
     "metadata": {},
     "output_type": "execute_result"
    }
   ],
   "source": [
    "# create array from string\n",
    "# sep mean sperate\n",
    "# A new 1-D array initialized from text data in a string.\n",
    "np.fromstring('3,2,4,7,8' , sep =',')"
   ]
  },
  {
   "cell_type": "code",
   "execution_count": 23,
   "id": "566e7f8d-8264-4a48-9bf4-f680cbde389b",
   "metadata": {},
   "outputs": [
    {
     "data": {
      "text/plain": [
       "array([1, 2, 3, 4])"
      ]
     },
     "execution_count": 23,
     "metadata": {},
     "output_type": "execute_result"
    }
   ],
   "source": [
    "# dimension of  numpy\n",
    "l = [1,2,3,4]\n",
    "ar = np.array(l)\n",
    "ar"
   ]
  },
  {
   "cell_type": "code",
   "execution_count": 24,
   "id": "bcf940d6-a7cc-4ff1-9a50-528d35718881",
   "metadata": {},
   "outputs": [
    {
     "data": {
      "text/plain": [
       "1"
      ]
     },
     "execution_count": 24,
     "metadata": {},
     "output_type": "execute_result"
    }
   ],
   "source": [
    "ar.ndim"
   ]
  },
  {
   "cell_type": "code",
   "execution_count": 25,
   "id": "bdd0be78-17f2-4e07-aac4-7efac0e60df7",
   "metadata": {},
   "outputs": [
    {
     "data": {
      "text/plain": [
       "array([[1, 2, 3, 3, 4],\n",
       "       [5, 6, 7, 4, 1]])"
      ]
     },
     "execution_count": 25,
     "metadata": {},
     "output_type": "execute_result"
    }
   ],
   "source": [
    "ar1 = np.array([[1,2,3,3,4] , [5,6,7,4,1]])\n",
    "ar1"
   ]
  },
  {
   "cell_type": "code",
   "execution_count": 26,
   "id": "8920b50e-f38e-4d90-b54b-a2f119603dd4",
   "metadata": {},
   "outputs": [
    {
     "data": {
      "text/plain": [
       "2"
      ]
     },
     "execution_count": 26,
     "metadata": {},
     "output_type": "execute_result"
    }
   ],
   "source": [
    "ar1.ndim"
   ]
  },
  {
   "cell_type": "code",
   "execution_count": 27,
   "id": "91c5308e-69a4-46f2-a693-c9d29f207f09",
   "metadata": {},
   "outputs": [
    {
     "data": {
      "text/plain": [
       "4"
      ]
     },
     "execution_count": 27,
     "metadata": {},
     "output_type": "execute_result"
    }
   ],
   "source": [
    "# elements in array\n",
    "ar.size"
   ]
  },
  {
   "cell_type": "code",
   "execution_count": 28,
   "id": "ae8af5a3-a5cf-4ac2-9221-9b8b0643a4ca",
   "metadata": {},
   "outputs": [
    {
     "data": {
      "text/plain": [
       "10"
      ]
     },
     "execution_count": 28,
     "metadata": {},
     "output_type": "execute_result"
    }
   ],
   "source": [
    "ar1.size"
   ]
  },
  {
   "cell_type": "code",
   "execution_count": 29,
   "id": "bd359406-a4ae-4cee-a8c9-e5e11d577094",
   "metadata": {},
   "outputs": [
    {
     "data": {
      "text/plain": [
       "(4,)"
      ]
     },
     "execution_count": 29,
     "metadata": {},
     "output_type": "execute_result"
    }
   ],
   "source": [
    "# shape of array\n",
    "# (4,) mean 4row and zero column\n",
    "ar.shape"
   ]
  },
  {
   "cell_type": "code",
   "execution_count": 30,
   "id": "2fa68a5a-27ab-4c5f-9beb-e7036a5a2a55",
   "metadata": {},
   "outputs": [
    {
     "data": {
      "text/plain": [
       "(2, 5)"
      ]
     },
     "execution_count": 30,
     "metadata": {},
     "output_type": "execute_result"
    }
   ],
   "source": [
    "# 2 row and 5 column\n",
    "ar1.shape"
   ]
  },
  {
   "cell_type": "code",
   "execution_count": 31,
   "id": "99a00e32-8574-464a-a445-5fdf3c867a7a",
   "metadata": {},
   "outputs": [
    {
     "data": {
      "text/plain": [
       "dtype('int32')"
      ]
     },
     "execution_count": 31,
     "metadata": {},
     "output_type": "execute_result"
    }
   ],
   "source": [
    "# datatype of array\n",
    "ar1.dtype"
   ]
  },
  {
   "cell_type": "code",
   "execution_count": 32,
   "id": "a181abbc-d1e2-47ba-86ed-df4c9f3df684",
   "metadata": {},
   "outputs": [
    {
     "data": {
      "text/plain": [
       "dtype('int32')"
      ]
     },
     "execution_count": 32,
     "metadata": {},
     "output_type": "execute_result"
    }
   ],
   "source": [
    "ar.dtype"
   ]
  },
  {
   "cell_type": "code",
   "execution_count": 33,
   "id": "eeb6a157-5cc0-4b00-bd10-c1b4ddfaccc2",
   "metadata": {},
   "outputs": [
    {
     "data": {
      "text/plain": [
       "array([[1. , 2. , 3.4, 4. ],\n",
       "       [1. , 2. , 8. , 5. ]])"
      ]
     },
     "execution_count": 33,
     "metadata": {},
     "output_type": "execute_result"
    }
   ],
   "source": [
    "ar22 = np.array([(1,2,3.4,4) , (1,2,8,5)])\n",
    "ar22"
   ]
  },
  {
   "cell_type": "code",
   "execution_count": 34,
   "id": "9f96bbd6-f214-4414-8e4a-35667cbe94df",
   "metadata": {},
   "outputs": [
    {
     "data": {
      "text/plain": [
       "dtype('float64')"
      ]
     },
     "execution_count": 34,
     "metadata": {},
     "output_type": "execute_result"
    }
   ],
   "source": [
    "ar22.dtype"
   ]
  },
  {
   "cell_type": "code",
   "execution_count": 35,
   "id": "919aff6a-812e-4885-a0d2-2bed7f76152d",
   "metadata": {},
   "outputs": [
    {
     "data": {
      "text/plain": [
       "array([2.3, 3.3, 4.3])"
      ]
     },
     "execution_count": 35,
     "metadata": {},
     "output_type": "execute_result"
    }
   ],
   "source": [
    "# in list float range cannot interpreted. mean list takes online int range\n",
    "# ex: list(range(2.3 , 6.4)) #typeerror \n",
    "# but in numpy this function avaible\n",
    "ar33 = np.arange(2.3, 5.3)\n",
    "ar33\n"
   ]
  },
  {
   "cell_type": "code",
   "execution_count": 36,
   "id": "e909b349-d171-4d82-b482-4286f48b9924",
   "metadata": {},
   "outputs": [
    {
     "data": {
      "text/plain": [
       "array([2.3, 2.6, 2.9, 3.2, 3.5, 3.8, 4.1, 4.4, 4.7, 5. ])"
      ]
     },
     "execution_count": 36,
     "metadata": {},
     "output_type": "execute_result"
    }
   ],
   "source": [
    "ar34 = np.arange(2.3 , 5.3, .3)\n",
    "ar34"
   ]
  },
  {
   "cell_type": "code",
   "execution_count": 37,
   "id": "175499ec-5276-43f5-b118-6ec8ed991a7c",
   "metadata": {},
   "outputs": [
    {
     "data": {
      "text/plain": [
       "dtype('float64')"
      ]
     },
     "execution_count": 37,
     "metadata": {},
     "output_type": "execute_result"
    }
   ],
   "source": [
    "ar34.dtype"
   ]
  },
  {
   "cell_type": "code",
   "execution_count": 38,
   "id": "add524bc-61ed-473c-9080-d6bf019dd135",
   "metadata": {},
   "outputs": [
    {
     "data": {
      "text/plain": [
       "[2.3,\n",
       " 2.5999999999999996,\n",
       " 2.8999999999999995,\n",
       " 3.1999999999999993,\n",
       " 3.499999999999999,\n",
       " 3.799999999999999,\n",
       " 4.099999999999999,\n",
       " 4.399999999999999,\n",
       " 4.699999999999998,\n",
       " 4.999999999999998]"
      ]
     },
     "execution_count": 38,
     "metadata": {},
     "output_type": "execute_result"
    }
   ],
   "source": [
    "# convert array to list\n",
    "list(ar34)"
   ]
  },
  {
   "cell_type": "code",
   "execution_count": 39,
   "id": "d6bfe178-9214-4278-8c80-afd6f1831f0f",
   "metadata": {},
   "outputs": [
    {
     "data": {
      "text/plain": [
       "array([1.        , 1.00526316, 1.01052632, 1.01578947, 1.02105263,\n",
       "       1.02631579, 1.03157895, 1.03684211, 1.04210526, 1.04736842,\n",
       "       1.05263158, 1.05789474, 1.06315789, 1.06842105, 1.07368421,\n",
       "       1.07894737, 1.08421053, 1.08947368, 1.09473684, 1.1       ])"
      ]
     },
     "execution_count": 39,
     "metadata": {},
     "output_type": "execute_result"
    }
   ],
   "source": [
    "# create a array between 1 to 1.1 of 20 elements\n",
    "np.linspace(1,1.1 , 20)"
   ]
  },
  {
   "cell_type": "code",
   "execution_count": 40,
   "id": "0617c527-c3ef-417b-b731-24ecadafedcc",
   "metadata": {},
   "outputs": [
    {
     "data": {
      "text/plain": [
       "array([[0., 0., 0., 0.],\n",
       "       [0., 0., 0., 0.],\n",
       "       [0., 0., 0., 0.]])"
      ]
     },
     "execution_count": 40,
     "metadata": {},
     "output_type": "execute_result"
    }
   ],
   "source": [
    "#  create null array of 3 rows and 4 columns \n",
    "np.zeros((3,4))"
   ]
  },
  {
   "cell_type": "code",
   "execution_count": 41,
   "id": "054f3356-c9e3-44e9-a218-8f98613e6f65",
   "metadata": {},
   "outputs": [
    {
     "data": {
      "text/plain": [
       "array([[0., 0., 0.],\n",
       "       [0., 0., 0.]])"
      ]
     },
     "execution_count": 41,
     "metadata": {},
     "output_type": "execute_result"
    }
   ],
   "source": [
    "np.zeros((2,3))"
   ]
  },
  {
   "cell_type": "code",
   "execution_count": 42,
   "id": "0eb72dbf-2368-42cc-91f7-9078a826c529",
   "metadata": {},
   "outputs": [
    {
     "data": {
      "text/plain": [
       "array([[[0., 0., 0., 0.],\n",
       "        [0., 0., 0., 0.]],\n",
       "\n",
       "       [[0., 0., 0., 0.],\n",
       "        [0., 0., 0., 0.]],\n",
       "\n",
       "       [[0., 0., 0., 0.],\n",
       "        [0., 0., 0., 0.]]])"
      ]
     },
     "execution_count": 42,
     "metadata": {},
     "output_type": "execute_result"
    }
   ],
   "source": [
    "# create 3 null arrays of 2x4\n",
    "ar35 = np.zeros((3,2,4))\n",
    "ar35"
   ]
  },
  {
   "cell_type": "code",
   "execution_count": 43,
   "id": "8d67184e-6ed8-4653-9ae1-a2c912f09213",
   "metadata": {},
   "outputs": [
    {
     "data": {
      "text/plain": [
       "3"
      ]
     },
     "execution_count": 43,
     "metadata": {},
     "output_type": "execute_result"
    }
   ],
   "source": [
    "ar35.ndim"
   ]
  },
  {
   "cell_type": "code",
   "execution_count": 44,
   "id": "4f9e262c-f9c9-450d-8b54-07fb17b57e85",
   "metadata": {},
   "outputs": [
    {
     "data": {
      "text/plain": [
       "dtype('float64')"
      ]
     },
     "execution_count": 44,
     "metadata": {},
     "output_type": "execute_result"
    }
   ],
   "source": [
    "ar35.dtype"
   ]
  },
  {
   "cell_type": "code",
   "execution_count": 45,
   "id": "453c4f05-c535-4a14-89a7-7059e10fb44f",
   "metadata": {},
   "outputs": [
    {
     "data": {
      "text/plain": [
       "array([[[[0., 0., 0., 0., 0., 0.],\n",
       "         [0., 0., 0., 0., 0., 0.],\n",
       "         [0., 0., 0., 0., 0., 0.],\n",
       "         [0., 0., 0., 0., 0., 0.]],\n",
       "\n",
       "        [[0., 0., 0., 0., 0., 0.],\n",
       "         [0., 0., 0., 0., 0., 0.],\n",
       "         [0., 0., 0., 0., 0., 0.],\n",
       "         [0., 0., 0., 0., 0., 0.]]],\n",
       "\n",
       "\n",
       "       [[[0., 0., 0., 0., 0., 0.],\n",
       "         [0., 0., 0., 0., 0., 0.],\n",
       "         [0., 0., 0., 0., 0., 0.],\n",
       "         [0., 0., 0., 0., 0., 0.]],\n",
       "\n",
       "        [[0., 0., 0., 0., 0., 0.],\n",
       "         [0., 0., 0., 0., 0., 0.],\n",
       "         [0., 0., 0., 0., 0., 0.],\n",
       "         [0., 0., 0., 0., 0., 0.]]],\n",
       "\n",
       "\n",
       "       [[[0., 0., 0., 0., 0., 0.],\n",
       "         [0., 0., 0., 0., 0., 0.],\n",
       "         [0., 0., 0., 0., 0., 0.],\n",
       "         [0., 0., 0., 0., 0., 0.]],\n",
       "\n",
       "        [[0., 0., 0., 0., 0., 0.],\n",
       "         [0., 0., 0., 0., 0., 0.],\n",
       "         [0., 0., 0., 0., 0., 0.],\n",
       "         [0., 0., 0., 0., 0., 0.]]]])"
      ]
     },
     "execution_count": 45,
     "metadata": {},
     "output_type": "execute_result"
    }
   ],
   "source": [
    "ar36 = np.zeros((3,2,4,6))\n",
    "ar36"
   ]
  },
  {
   "cell_type": "code",
   "execution_count": 46,
   "id": "9a8e2206-8b7d-46ba-9fc4-9d2a5a7aa6ba",
   "metadata": {},
   "outputs": [
    {
     "data": {
      "text/plain": [
       "4"
      ]
     },
     "execution_count": 46,
     "metadata": {},
     "output_type": "execute_result"
    }
   ],
   "source": [
    "ar36.ndim"
   ]
  },
  {
   "cell_type": "code",
   "execution_count": 47,
   "id": "687c1263-358c-40dc-baa5-9b5aba6e4c21",
   "metadata": {},
   "outputs": [
    {
     "data": {
      "text/plain": [
       "array([1., 1., 1., 1.])"
      ]
     },
     "execution_count": 47,
     "metadata": {},
     "output_type": "execute_result"
    }
   ],
   "source": [
    "np.ones(4)"
   ]
  },
  {
   "cell_type": "code",
   "execution_count": 48,
   "id": "6793fa9d-4823-41b1-8e1b-50355ca1e8f2",
   "metadata": {},
   "outputs": [
    {
     "data": {
      "text/plain": [
       "array([[[1., 1., 1., 1.],\n",
       "        [1., 1., 1., 1.]],\n",
       "\n",
       "       [[1., 1., 1., 1.],\n",
       "        [1., 1., 1., 1.]]])"
      ]
     },
     "execution_count": 48,
     "metadata": {},
     "output_type": "execute_result"
    }
   ],
   "source": [
    "on=np.ones((2,2,4))\n",
    "on"
   ]
  },
  {
   "cell_type": "code",
   "execution_count": 49,
   "id": "c4becabf-4f78-48e1-b9f9-c5b6a96caad1",
   "metadata": {},
   "outputs": [
    {
     "data": {
      "text/plain": [
       "array([[[5., 5., 5., 5.],\n",
       "        [5., 5., 5., 5.]],\n",
       "\n",
       "       [[5., 5., 5., 5.],\n",
       "        [5., 5., 5., 5.]]])"
      ]
     },
     "execution_count": 49,
     "metadata": {},
     "output_type": "execute_result"
    }
   ],
   "source": [
    "on+4"
   ]
  },
  {
   "cell_type": "code",
   "execution_count": 50,
   "id": "f102467e-cd52-442d-9576-b4eed71d7af6",
   "metadata": {},
   "outputs": [
    {
     "data": {
      "text/plain": [
       "array([[0., 0., 0.],\n",
       "       [0., 0., 0.],\n",
       "       [0., 0., 0.],\n",
       "       [0., 0., 0.],\n",
       "       [0., 0., 0.]])"
      ]
     },
     "execution_count": 50,
     "metadata": {},
     "output_type": "execute_result"
    }
   ],
   "source": [
    "np.empty((5,3))"
   ]
  },
  {
   "cell_type": "code",
   "execution_count": 51,
   "id": "9e4cd8b2-d45b-4b80-939c-29c61e16088a",
   "metadata": {},
   "outputs": [
    {
     "data": {
      "text/plain": [
       "array([[1., 0., 0.],\n",
       "       [0., 1., 0.],\n",
       "       [0., 0., 1.]])"
      ]
     },
     "execution_count": 51,
     "metadata": {},
     "output_type": "execute_result"
    }
   ],
   "source": [
    "# identical matrix\n",
    "np.eye(3)"
   ]
  },
  {
   "cell_type": "code",
   "execution_count": 52,
   "id": "c20a36eb-decd-4521-8e19-be993beb005b",
   "metadata": {},
   "outputs": [
    {
     "data": {
      "text/plain": [
       "array([ 1.  ,  3.25,  5.5 ,  7.75, 10.  ])"
      ]
     },
     "execution_count": 52,
     "metadata": {},
     "output_type": "execute_result"
    }
   ],
   "source": [
    "np.linspace(1,10,5)"
   ]
  },
  {
   "cell_type": "code",
   "execution_count": 53,
   "id": "24660ffb-3455-4c27-970d-722618cb0ac8",
   "metadata": {},
   "outputs": [
    {
     "data": {
      "text/plain": [
       "array([   100.        ,    215.443469  ,    464.15888336,   1000.        ,\n",
       "         2154.43469003,   4641.58883361,  10000.        ,  21544.34690032,\n",
       "        46415.88833613, 100000.        ])"
      ]
     },
     "execution_count": 53,
     "metadata": {},
     "output_type": "execute_result"
    }
   ],
   "source": [
    "# find the log of the array element\n",
    "np.logspace(2,5, 10)"
   ]
  },
  {
   "cell_type": "code",
   "execution_count": 54,
   "id": "d75c6e16-5ac3-43f2-8624-0061d6540296",
   "metadata": {},
   "outputs": [
    {
     "data": {
      "text/plain": [
       "array([ 4.        ,  5.0396842 ,  6.34960421,  8.        , 10.0793684 ,\n",
       "       12.69920842, 16.        , 20.1587368 , 25.39841683, 32.        ])"
      ]
     },
     "execution_count": 54,
     "metadata": {},
     "output_type": "execute_result"
    }
   ],
   "source": [
    "np.logspace(2,5, 10 , base = 2)"
   ]
  },
  {
   "cell_type": "code",
   "execution_count": 55,
   "id": "636a5f2f-606c-424d-97a6-63e4d0228f49",
   "metadata": {},
   "outputs": [
    {
     "data": {
      "text/plain": [
       "array([[-0.36549587,  1.12857826,  1.23536639, -0.69728538, -0.67279343],\n",
       "       [-0.8721631 ,  0.42437832, -1.49458271,  1.28643692, -0.13329221],\n",
       "       [ 0.98434947, -0.9374616 ,  0.46787574,  0.17399357,  1.32304613],\n",
       "       [-0.46223702,  2.05913427, -0.90265243, -0.83668616,  1.7658782 ],\n",
       "       [-1.36938091,  2.18608798,  0.04751426,  0.67117192, -1.88447069]])"
      ]
     },
     "execution_count": 55,
     "metadata": {},
     "output_type": "execute_result"
    }
   ],
   "source": [
    "# random data genration\n",
    "# np.random.randn() : data genration from mean value.The default mean is 0 and\n",
    "# std is 1\n",
    "arr = np.random.randn(5,5)\n",
    "arr"
   ]
  },
  {
   "cell_type": "code",
   "execution_count": 56,
   "id": "c68717ac-fe0b-496a-8e8b-8b29069ce757",
   "metadata": {},
   "outputs": [
    {
     "data": {
      "text/html": [
       "<div>\n",
       "<style scoped>\n",
       "    .dataframe tbody tr th:only-of-type {\n",
       "        vertical-align: middle;\n",
       "    }\n",
       "\n",
       "    .dataframe tbody tr th {\n",
       "        vertical-align: top;\n",
       "    }\n",
       "\n",
       "    .dataframe thead th {\n",
       "        text-align: right;\n",
       "    }\n",
       "</style>\n",
       "<table border=\"1\" class=\"dataframe\">\n",
       "  <thead>\n",
       "    <tr style=\"text-align: right;\">\n",
       "      <th></th>\n",
       "      <th>0</th>\n",
       "      <th>1</th>\n",
       "      <th>2</th>\n",
       "      <th>3</th>\n",
       "      <th>4</th>\n",
       "    </tr>\n",
       "  </thead>\n",
       "  <tbody>\n",
       "    <tr>\n",
       "      <th>0</th>\n",
       "      <td>-0.365496</td>\n",
       "      <td>1.128578</td>\n",
       "      <td>1.235366</td>\n",
       "      <td>-0.697285</td>\n",
       "      <td>-0.672793</td>\n",
       "    </tr>\n",
       "    <tr>\n",
       "      <th>1</th>\n",
       "      <td>-0.872163</td>\n",
       "      <td>0.424378</td>\n",
       "      <td>-1.494583</td>\n",
       "      <td>1.286437</td>\n",
       "      <td>-0.133292</td>\n",
       "    </tr>\n",
       "    <tr>\n",
       "      <th>2</th>\n",
       "      <td>0.984349</td>\n",
       "      <td>-0.937462</td>\n",
       "      <td>0.467876</td>\n",
       "      <td>0.173994</td>\n",
       "      <td>1.323046</td>\n",
       "    </tr>\n",
       "    <tr>\n",
       "      <th>3</th>\n",
       "      <td>-0.462237</td>\n",
       "      <td>2.059134</td>\n",
       "      <td>-0.902652</td>\n",
       "      <td>-0.836686</td>\n",
       "      <td>1.765878</td>\n",
       "    </tr>\n",
       "    <tr>\n",
       "      <th>4</th>\n",
       "      <td>-1.369381</td>\n",
       "      <td>2.186088</td>\n",
       "      <td>0.047514</td>\n",
       "      <td>0.671172</td>\n",
       "      <td>-1.884471</td>\n",
       "    </tr>\n",
       "  </tbody>\n",
       "</table>\n",
       "</div>"
      ],
      "text/plain": [
       "          0         1         2         3         4\n",
       "0 -0.365496  1.128578  1.235366 -0.697285 -0.672793\n",
       "1 -0.872163  0.424378 -1.494583  1.286437 -0.133292\n",
       "2  0.984349 -0.937462  0.467876  0.173994  1.323046\n",
       "3 -0.462237  2.059134 -0.902652 -0.836686  1.765878\n",
       "4 -1.369381  2.186088  0.047514  0.671172 -1.884471"
      ]
     },
     "execution_count": 56,
     "metadata": {},
     "output_type": "execute_result"
    }
   ],
   "source": [
    "import pandas as pd\n",
    "pd.DataFrame(arr)"
   ]
  },
  {
   "cell_type": "code",
   "execution_count": 57,
   "id": "79658e6e-e939-44ce-9fa4-f05c8d40b2b8",
   "metadata": {},
   "outputs": [],
   "source": [
    "arr1 = np.random.rand(4,3)"
   ]
  },
  {
   "cell_type": "code",
   "execution_count": 58,
   "id": "ac8d2014-f429-4a57-9216-e0e97bda030e",
   "metadata": {},
   "outputs": [
    {
     "data": {
      "text/html": [
       "<div>\n",
       "<style scoped>\n",
       "    .dataframe tbody tr th:only-of-type {\n",
       "        vertical-align: middle;\n",
       "    }\n",
       "\n",
       "    .dataframe tbody tr th {\n",
       "        vertical-align: top;\n",
       "    }\n",
       "\n",
       "    .dataframe thead th {\n",
       "        text-align: right;\n",
       "    }\n",
       "</style>\n",
       "<table border=\"1\" class=\"dataframe\">\n",
       "  <thead>\n",
       "    <tr style=\"text-align: right;\">\n",
       "      <th></th>\n",
       "      <th>0</th>\n",
       "      <th>1</th>\n",
       "      <th>2</th>\n",
       "    </tr>\n",
       "  </thead>\n",
       "  <tbody>\n",
       "    <tr>\n",
       "      <th>0</th>\n",
       "      <td>0.668275</td>\n",
       "      <td>0.561005</td>\n",
       "      <td>0.995165</td>\n",
       "    </tr>\n",
       "    <tr>\n",
       "      <th>1</th>\n",
       "      <td>0.994756</td>\n",
       "      <td>0.259915</td>\n",
       "      <td>0.952608</td>\n",
       "    </tr>\n",
       "    <tr>\n",
       "      <th>2</th>\n",
       "      <td>0.900380</td>\n",
       "      <td>0.536684</td>\n",
       "      <td>0.896109</td>\n",
       "    </tr>\n",
       "    <tr>\n",
       "      <th>3</th>\n",
       "      <td>0.167537</td>\n",
       "      <td>0.345342</td>\n",
       "      <td>0.900294</td>\n",
       "    </tr>\n",
       "  </tbody>\n",
       "</table>\n",
       "</div>"
      ],
      "text/plain": [
       "          0         1         2\n",
       "0  0.668275  0.561005  0.995165\n",
       "1  0.994756  0.259915  0.952608\n",
       "2  0.900380  0.536684  0.896109\n",
       "3  0.167537  0.345342  0.900294"
      ]
     },
     "execution_count": 58,
     "metadata": {},
     "output_type": "execute_result"
    }
   ],
   "source": [
    "pd.DataFrame(arr1)"
   ]
  },
  {
   "cell_type": "code",
   "execution_count": 59,
   "id": "4032559c-b151-4fe6-a0a1-d0b38aebf9f7",
   "metadata": {},
   "outputs": [],
   "source": [
    "# np.random.randint\n",
    "# start range = 1 , end range = 110 , matrix  = 30,40\n",
    "pd.DataFrame(np.random.randint(1,110 , (30,40))).to_html('test.html')"
   ]
  },
  {
   "cell_type": "code",
   "execution_count": 60,
   "id": "85a8d384-9222-47d8-8309-d035cc9a9107",
   "metadata": {},
   "outputs": [
    {
     "data": {
      "text/plain": [
       "array([[0.79627054, 0.55131031, 0.90256256, 0.43078367],\n",
       "       [0.87052331, 0.14431346, 0.11474055, 0.7531443 ],\n",
       "       [0.6982373 , 0.17205592, 0.84817705, 0.67582468]])"
      ]
     },
     "execution_count": 60,
     "metadata": {},
     "output_type": "execute_result"
    }
   ],
   "source": [
    "np.random.rand(3,4)"
   ]
  },
  {
   "cell_type": "code",
   "execution_count": 61,
   "id": "ae057f1b-8afd-4ee8-9ce0-3e9eb542337d",
   "metadata": {},
   "outputs": [
    {
     "data": {
      "text/plain": [
       "array([[0.16116609, 0.62648655],\n",
       "       [0.29933685, 0.82710486],\n",
       "       [0.95298679, 0.8920459 ],\n",
       "       [0.10760458, 0.38983892],\n",
       "       [0.55965965, 0.65671194],\n",
       "       [0.48888738, 0.52884826]])"
      ]
     },
     "execution_count": 61,
     "metadata": {},
     "output_type": "execute_result"
    }
   ],
   "source": [
    "# reshape the array\n",
    "# note reshape matrix row and column should equal to element of reshaping matrix\n",
    "# ex: 3*4 = 12 and 6*2 = 12\n",
    "(np.random.rand(3,4)).reshape(6,2)"
   ]
  },
  {
   "cell_type": "code",
   "execution_count": 62,
   "id": "130c834f-1e5c-4cd6-a11f-724932423f17",
   "metadata": {},
   "outputs": [
    {
     "data": {
      "text/plain": [
       "array([[0.84140162, 0.78009732, 0.5943345 , 0.76858435, 0.67623056,\n",
       "        0.40240278],\n",
       "       [0.2992538 , 0.17907744, 0.18461305, 0.84875347, 0.71637994,\n",
       "        0.47273553]])"
      ]
     },
     "execution_count": 62,
     "metadata": {},
     "output_type": "execute_result"
    }
   ],
   "source": [
    "arr= np.random.rand(2,6)\n",
    "arr"
   ]
  },
  {
   "cell_type": "code",
   "execution_count": 70,
   "id": "a5fa4ba8-2d02-41b5-9282-5b16377f2ac6",
   "metadata": {},
   "outputs": [
    {
     "data": {
      "text/plain": [
       "array([[0.84140162, 0.78009732],\n",
       "       [0.5943345 , 0.76858435],\n",
       "       [0.67623056, 0.40240278],\n",
       "       [0.2992538 , 0.17907744],\n",
       "       [0.18461305, 0.84875347],\n",
       "       [0.71637994, 0.47273553]])"
      ]
     },
     "execution_count": 70,
     "metadata": {},
     "output_type": "execute_result"
    }
   ],
   "source": [
    "arr1 = arr.reshape(6,2)\n",
    "# application used in image processing\n",
    "arr1"
   ]
  },
  {
   "cell_type": "code",
   "execution_count": 71,
   "id": "301bc38a-dce5-4de6-94ce-6f9368103f3a",
   "metadata": {},
   "outputs": [
    {
     "data": {
      "text/plain": [
       "array([0.84140162, 0.78009732, 0.5943345 , 0.76858435, 0.67623056,\n",
       "       0.40240278])"
      ]
     },
     "execution_count": 71,
     "metadata": {},
     "output_type": "execute_result"
    }
   ],
   "source": [
    "arr[0]"
   ]
  },
  {
   "cell_type": "code",
   "execution_count": 72,
   "id": "71af1d9d-0208-42f1-b712-cfb088c0f467",
   "metadata": {},
   "outputs": [
    {
     "data": {
      "text/plain": [
       "0.7800973163997393"
      ]
     },
     "execution_count": 72,
     "metadata": {},
     "output_type": "execute_result"
    }
   ],
   "source": [
    "arr[0,1]"
   ]
  },
  {
   "cell_type": "code",
   "execution_count": 73,
   "id": "91a24863-262a-4d85-b87c-76002096e6f6",
   "metadata": {},
   "outputs": [
    {
     "data": {
      "text/plain": [
       "0.7800973163997393"
      ]
     },
     "execution_count": 73,
     "metadata": {},
     "output_type": "execute_result"
    }
   ],
   "source": [
    "# slicing\n",
    "arr[0][1]"
   ]
  },
  {
   "cell_type": "code",
   "execution_count": 90,
   "id": "2dadb65a-5a65-433c-a013-29e2fab01a94",
   "metadata": {},
   "outputs": [
    {
     "data": {
      "text/plain": [
       "array([[0.67623056, 0.40240278],\n",
       "       [0.2992538 , 0.17907744]])"
      ]
     },
     "execution_count": 90,
     "metadata": {},
     "output_type": "execute_result"
    }
   ],
   "source": [
    "arr1[2:4]"
   ]
  },
  {
   "cell_type": "code",
   "execution_count": 93,
   "id": "dba59513-66a7-40ab-a97c-1b20c7a6e640",
   "metadata": {},
   "outputs": [
    {
     "data": {
      "text/plain": [
       "array([0.40240278, 0.17907744])"
      ]
     },
     "execution_count": 93,
     "metadata": {},
     "output_type": "execute_result"
    }
   ],
   "source": [
    "arr1[2:4,1]"
   ]
  },
  {
   "cell_type": "code",
   "execution_count": 95,
   "id": "49bea004-2ee8-480b-b52d-519bce6d9491",
   "metadata": {},
   "outputs": [
    {
     "data": {
      "text/plain": [
       "0.40240277758189336"
      ]
     },
     "execution_count": 95,
     "metadata": {},
     "output_type": "execute_result"
    }
   ],
   "source": [
    "# In numpy, `arr1[2:5][0,1]` means that you are selecting the elements from the 2nd to the 4th index of the first dimension of the array `arr1`, and then selecting the element at index `(0,1)` of the resulting array. The first dimension of an array is indexed by 0 and the second dimension is indexed by 1. So, `arr1[2:5]` selects rows 2 through 4 (inclusive) of `arr1`, and `[0,1]` selects the element at row 0 and column 1 of that subarray. ³\n",
    "\n",
    "# Source: Conversation with Bing, 8/6/2023(1) what is the working of arr[arr1,arr2] in numpy - Stack Overflow. https://stackoverflow.com/questions/59498207/what-is-the-working-of-arrarr1-arr2-in-numpy Accessed 8/6/2023.\n",
    "# (2) What is the meaning of arr[:] in assignment in numpy?. https://stackoverflow.com/questions/35713891/what-is-the-meaning-of-arr-in-assignment-in-numpy Accessed 8/6/2023.\n",
    "# (3) Basics of NumPy Arrays - GeeksforGeeks. https://www.geeksforgeeks.org/basics-of-numpy-arrays/ Accessed 8/6/2023.\n",
    "# (4) NumPy Creating Arrays - W3Schools. https://www.w3schools.com/python/numpy/numpy_creating_arrays.asp Accessed 8/6/2023.\n",
    "# (5) reshaping data in numpy with (-1,1). What does it mean?. https://stackoverflow.com/questions/57962718/reshaping-data-in-numpy-with-1-1-what-does-it-mean Accessed 8/6/2023.\n",
    "arr1[2:5][0,1]"
   ]
  },
  {
   "cell_type": "code",
   "execution_count": 105,
   "id": "a04994c2-b5b4-4a69-88d6-f95b6a44239a",
   "metadata": {},
   "outputs": [
    {
     "data": {
      "text/plain": [
       "array([[34, 58, 88, 35, 91],\n",
       "       [24, 31, 65, 48, 28],\n",
       "       [96,  3, 31, 95, 56],\n",
       "       [98, 66, 71, 45, 75],\n",
       "       [77, 59, 36, 53, 28]])"
      ]
     },
     "execution_count": 105,
     "metadata": {},
     "output_type": "execute_result"
    }
   ],
   "source": [
    "arr2 = np.random.randint(1,100 , (5,5))\n",
    "arr2"
   ]
  },
  {
   "cell_type": "code",
   "execution_count": 103,
   "id": "5bc96b53-677a-4ced-ada5-832513eebf7d",
   "metadata": {},
   "outputs": [
    {
     "data": {
      "text/plain": [
       "array([[False,  True,  True,  True,  True],\n",
       "       [False, False,  True,  True,  True],\n",
       "       [ True, False, False,  True,  True],\n",
       "       [False,  True, False, False, False],\n",
       "       [ True,  True, False, False, False]])"
      ]
     },
     "execution_count": 103,
     "metadata": {},
     "output_type": "execute_result"
    }
   ],
   "source": [
    "# condition apply on arr\n",
    "# o/p: bool\n",
    "arr2 > 50 "
   ]
  },
  {
   "cell_type": "code",
   "execution_count": 104,
   "id": "a20d20b7-eb5e-48b9-b325-b8b2d9a98097",
   "metadata": {},
   "outputs": [
    {
     "data": {
      "text/plain": [
       "array([84, 88, 72, 61, 69, 76, 66, 71, 59, 60, 81, 82, 83])"
      ]
     },
     "execution_count": 104,
     "metadata": {},
     "output_type": "execute_result"
    }
   ],
   "source": [
    "# extracted the value from # condition apply on arr\n",
    "arr2[arr2>50]"
   ]
  },
  {
   "cell_type": "code",
   "execution_count": 117,
   "id": "8fa129fa-c2f4-4b02-aa57-8cef3f324440",
   "metadata": {},
   "outputs": [
    {
     "data": {
      "text/plain": [
       "array([[ 3, 31],\n",
       "       [66, 71]])"
      ]
     },
     "execution_count": 117,
     "metadata": {},
     "output_type": "execute_result"
    }
   ],
   "source": [
    "# extracted  the particular data from array\n",
    "#  2:4 : select the row from 2 to 4\n",
    "# print the value of position of 1 to 2\n",
    "# note row 2nd now 0th row because we select the matrix from 2:4.But not change in columns\n",
    "arr2[2:4,[1,2]]"
   ]
  },
  {
   "cell_type": "code",
   "execution_count": 118,
   "id": "800b35c4-b039-498b-8e6a-20fc2996061a",
   "metadata": {},
   "outputs": [
    {
     "data": {
      "text/plain": [
       "array([[45, 75]])"
      ]
     },
     "execution_count": 118,
     "metadata": {},
     "output_type": "execute_result"
    }
   ],
   "source": [
    "arr2[3:4,[3,4]]"
   ]
  },
  {
   "cell_type": "code",
   "execution_count": 119,
   "id": "1635be99-52c5-4ee0-8967-c449361d94b8",
   "metadata": {},
   "outputs": [
    {
     "data": {
      "text/plain": [
       "71"
      ]
     },
     "execution_count": 119,
     "metadata": {},
     "output_type": "execute_result"
    }
   ],
   "source": [
    "arr2[2:4][1,2]"
   ]
  },
  {
   "cell_type": "code",
   "execution_count": 116,
   "id": "55400f16-2e8c-442e-b1ff-cfec7c5e886f",
   "metadata": {},
   "outputs": [
    {
     "data": {
      "text/plain": [
       "3"
      ]
     },
     "execution_count": 116,
     "metadata": {},
     "output_type": "execute_result"
    }
   ],
   "source": [
    "# this method give the particular positon of element in array\n",
    "# synatx: arr_name[array][position of element]\n",
    "arr2[1:3][1,1]"
   ]
  },
  {
   "cell_type": "code",
   "execution_count": 120,
   "id": "bbf2f12c-7368-4cd1-a4d4-9e95698c73b9",
   "metadata": {},
   "outputs": [],
   "source": [
    "# manupulate data in array\n",
    "arr2[0][0] = 382"
   ]
  },
  {
   "cell_type": "code",
   "execution_count": 121,
   "id": "2e7a70da-cb08-4818-a6f0-7f89e4e5b7e9",
   "metadata": {},
   "outputs": [
    {
     "data": {
      "text/plain": [
       "array([[382,  58,  88,  35,  91],\n",
       "       [ 24,  31,  65,  48,  28],\n",
       "       [ 96,   3,  31,  95,  56],\n",
       "       [ 98,  66,  71,  45,  75],\n",
       "       [ 77,  59,  36,  53,  28]])"
      ]
     },
     "execution_count": 121,
     "metadata": {},
     "output_type": "execute_result"
    }
   ],
   "source": [
    "arr2"
   ]
  },
  {
   "cell_type": "code",
   "execution_count": 158,
   "id": "29cd4689-3c26-4420-a878-dbd97f7f09b0",
   "metadata": {},
   "outputs": [],
   "source": [
    "arr3 = np.random.randint(1,3,(3,3))\n",
    "arr4 = np.random.randint(1,3,(3,3))"
   ]
  },
  {
   "cell_type": "code",
   "execution_count": 159,
   "id": "46d4f311-aae5-4a00-9ed2-f19c568fe741",
   "metadata": {},
   "outputs": [
    {
     "data": {
      "text/plain": [
       "array([[2, 2, 1],\n",
       "       [2, 1, 1],\n",
       "       [1, 2, 2]])"
      ]
     },
     "execution_count": 159,
     "metadata": {},
     "output_type": "execute_result"
    }
   ],
   "source": [
    "arr3"
   ]
  },
  {
   "cell_type": "code",
   "execution_count": 160,
   "id": "eed5e216-fee1-484d-aa17-e0b239563e87",
   "metadata": {},
   "outputs": [
    {
     "data": {
      "text/plain": [
       "array([[1, 2, 1],\n",
       "       [2, 1, 1],\n",
       "       [2, 1, 1]])"
      ]
     },
     "execution_count": 160,
     "metadata": {},
     "output_type": "execute_result"
    }
   ],
   "source": [
    "arr4"
   ]
  },
  {
   "cell_type": "code",
   "execution_count": 161,
   "id": "926fc7f7-f2c9-464b-ad8f-d4d569df18ab",
   "metadata": {},
   "outputs": [
    {
     "data": {
      "text/plain": [
       "array([[3, 4, 2],\n",
       "       [4, 2, 2],\n",
       "       [3, 3, 3]])"
      ]
     },
     "execution_count": 161,
     "metadata": {},
     "output_type": "execute_result"
    }
   ],
   "source": [
    "# addition: index wise\n",
    "arr3+arr4"
   ]
  },
  {
   "cell_type": "code",
   "execution_count": 162,
   "id": "4ab3a254-8b67-4cfd-8977-8149faa44ad4",
   "metadata": {},
   "outputs": [
    {
     "data": {
      "text/plain": [
       "array([[ 1,  0,  0],\n",
       "       [ 0,  0,  0],\n",
       "       [-1,  1,  1]])"
      ]
     },
     "execution_count": 162,
     "metadata": {},
     "output_type": "execute_result"
    }
   ],
   "source": [
    "# index wise subtraction \n",
    "arr3-arr4"
   ]
  },
  {
   "cell_type": "code",
   "execution_count": 163,
   "id": "253bf62c-680d-47c8-8c10-0b1b7803f875",
   "metadata": {},
   "outputs": [
    {
     "data": {
      "text/plain": [
       "array([[2, 4, 1],\n",
       "       [4, 1, 1],\n",
       "       [2, 2, 2]])"
      ]
     },
     "execution_count": 163,
     "metadata": {},
     "output_type": "execute_result"
    }
   ],
   "source": [
    "# index wise multipication\n",
    "arr3*arr4"
   ]
  },
  {
   "cell_type": "code",
   "execution_count": 164,
   "id": "1e160f94-7b00-4a23-a1c2-759b3256b65c",
   "metadata": {},
   "outputs": [
    {
     "data": {
      "text/plain": [
       "array([[2. , 1. , 1. ],\n",
       "       [1. , 1. , 1. ],\n",
       "       [0.5, 2. , 2. ]])"
      ]
     },
     "execution_count": 164,
     "metadata": {},
     "output_type": "execute_result"
    }
   ],
   "source": [
    "# index wise divison\n",
    "arr3/arr4"
   ]
  },
  {
   "cell_type": "code",
   "execution_count": 165,
   "id": "af27b78c-cd0b-42de-b538-23c695871163",
   "metadata": {},
   "outputs": [
    {
     "data": {
      "text/plain": [
       "array([[8, 7, 5],\n",
       "       [6, 6, 4],\n",
       "       [9, 6, 5]])"
      ]
     },
     "execution_count": 165,
     "metadata": {},
     "output_type": "execute_result"
    }
   ],
   "source": [
    "# matrix multipication : @ help to matrix multipication\n",
    "# matrix1 = mxn , matrix2 = pxq\n",
    "# conditon : m = q\n",
    "arr3@arr4"
   ]
  },
  {
   "cell_type": "code",
   "execution_count": 166,
   "id": "a82a04e1-eec3-46c8-977c-bafe627d7334",
   "metadata": {},
   "outputs": [
    {
     "name": "stderr",
     "output_type": "stream",
     "text": [
      "C:\\Users\\hp\\AppData\\Local\\Temp\\ipykernel_4684\\2890472672.py:1: RuntimeWarning: divide by zero encountered in true_divide\n",
      "  arr1/0\n"
     ]
    },
    {
     "data": {
      "text/plain": [
       "array([[inf, inf],\n",
       "       [inf, inf],\n",
       "       [inf, inf],\n",
       "       [inf, inf],\n",
       "       [inf, inf],\n",
       "       [inf, inf]])"
      ]
     },
     "execution_count": 166,
     "metadata": {},
     "output_type": "execute_result"
    }
   ],
   "source": [
    "arr1/0\n",
    "# inf mean infinity"
   ]
  },
  {
   "cell_type": "code",
   "execution_count": 167,
   "id": "9b814c9c-8ab5-451d-a4fa-6c2d59d72394",
   "metadata": {},
   "outputs": [
    {
     "data": {
      "text/plain": [
       "array([[1202, 1202, 1201],\n",
       "       [1202, 1201, 1201],\n",
       "       [1201, 1202, 1202]])"
      ]
     },
     "execution_count": 167,
     "metadata": {},
     "output_type": "execute_result"
    }
   ],
   "source": [
    "arr3+ 1200\n",
    "# arr3\n",
    "# try\n",
    "#  arr3 = arr3+ 1200\n",
    "# arr3"
   ]
  },
  {
   "cell_type": "code",
   "execution_count": 168,
   "id": "e4b5ca2a-df37-4079-9a50-a01e6b033d11",
   "metadata": {},
   "outputs": [
    {
     "data": {
      "text/plain": [
       "array([[4, 4, 1],\n",
       "       [4, 1, 1],\n",
       "       [1, 4, 4]], dtype=int32)"
      ]
     },
     "execution_count": 168,
     "metadata": {},
     "output_type": "execute_result"
    }
   ],
   "source": [
    "arr3**2"
   ]
  },
  {
   "cell_type": "code",
   "execution_count": 176,
   "id": "bddfca6e-c694-4cf1-b398-0743f7765861",
   "metadata": {},
   "outputs": [
    {
     "data": {
      "text/plain": [
       "array([[0., 0., 0., 0.],\n",
       "       [0., 0., 0., 0.],\n",
       "       [0., 0., 0., 0.],\n",
       "       [0., 0., 0., 0.]])"
      ]
     },
     "execution_count": 176,
     "metadata": {},
     "output_type": "execute_result"
    }
   ],
   "source": [
    "# Broadcasting\n",
    "arr5 = np.zeros((4,4) )\n",
    "arr5"
   ]
  },
  {
   "cell_type": "code",
   "execution_count": 187,
   "id": "44ff33b2-3ef2-4cdd-b9d7-d82bb625a302",
   "metadata": {},
   "outputs": [
    {
     "data": {
      "text/plain": [
       "array([1, 2, 3, 4])"
      ]
     },
     "execution_count": 187,
     "metadata": {},
     "output_type": "execute_result"
    }
   ],
   "source": [
    "row1 = np.array([1,2,3,4])\n",
    "row1"
   ]
  },
  {
   "cell_type": "code",
   "execution_count": 188,
   "id": "0c605e8a-99c4-4388-8867-7115a8ebeb77",
   "metadata": {},
   "outputs": [
    {
     "data": {
      "text/plain": [
       "array([[1., 2., 3., 4.],\n",
       "       [1., 2., 3., 4.],\n",
       "       [1., 2., 3., 4.],\n",
       "       [1., 2., 3., 4.]])"
      ]
     },
     "execution_count": 188,
     "metadata": {},
     "output_type": "execute_result"
    }
   ],
   "source": [
    "# adding row in array row wise\n",
    "row1 + arr5"
   ]
  },
  {
   "cell_type": "code",
   "execution_count": 190,
   "id": "4a5dd138-07f1-4ee3-afe9-948b35c2fd83",
   "metadata": {},
   "outputs": [
    {
     "data": {
      "text/plain": [
       "array([1, 2, 3, 4])"
      ]
     },
     "execution_count": 190,
     "metadata": {},
     "output_type": "execute_result"
    }
   ],
   "source": [
    "row1.T"
   ]
  },
  {
   "cell_type": "code",
   "execution_count": 191,
   "id": "43ea7fd9-3746-4d49-8d9f-14570f3412ff",
   "metadata": {},
   "outputs": [],
   "source": [
    "row1 = np.array([[1,2,3,4]])"
   ]
  },
  {
   "cell_type": "code",
   "execution_count": 193,
   "id": "31beebfe-b996-49c8-9637-f03d750e17e0",
   "metadata": {},
   "outputs": [
    {
     "data": {
      "text/plain": [
       "array([[1],\n",
       "       [2],\n",
       "       [3],\n",
       "       [4]])"
      ]
     },
     "execution_count": 193,
     "metadata": {},
     "output_type": "execute_result"
    }
   ],
   "source": [
    "row1.T"
   ]
  },
  {
   "cell_type": "code",
   "execution_count": 195,
   "id": "a0a59d47-33df-4e28-bd8c-62801860f69b",
   "metadata": {},
   "outputs": [
    {
     "data": {
      "text/plain": [
       "array([[1., 2., 3., 4.],\n",
       "       [1., 2., 3., 4.],\n",
       "       [1., 2., 3., 4.],\n",
       "       [1., 2., 3., 4.]])"
      ]
     },
     "execution_count": 195,
     "metadata": {},
     "output_type": "execute_result"
    }
   ],
   "source": [
    "row.T + arr5"
   ]
  },
  {
   "cell_type": "code",
   "execution_count": 199,
   "id": "8eafc25f-4b61-47cd-b6df-7b8d476ba190",
   "metadata": {},
   "outputs": [
    {
     "data": {
      "text/plain": [
       "array([[1, 2, 1, 2],\n",
       "       [2, 1, 2, 3],\n",
       "       [3, 3, 1, 2]])"
      ]
     },
     "execution_count": 199,
     "metadata": {},
     "output_type": "execute_result"
    }
   ],
   "source": [
    "arr6 = np.random.randint(1,4,(3,4))\n",
    "arr6"
   ]
  },
  {
   "cell_type": "code",
   "execution_count": 200,
   "id": "3e8dbaa8-20c7-4fdc-bb06-9b5a97228905",
   "metadata": {},
   "outputs": [
    {
     "data": {
      "text/plain": [
       "array([[1.        , 1.41421356, 1.        , 1.41421356],\n",
       "       [1.41421356, 1.        , 1.41421356, 1.73205081],\n",
       "       [1.73205081, 1.73205081, 1.        , 1.41421356]])"
      ]
     },
     "execution_count": 200,
     "metadata": {},
     "output_type": "execute_result"
    }
   ],
   "source": [
    "np.sqrt(arr6)"
   ]
  },
  {
   "cell_type": "code",
   "execution_count": 201,
   "id": "feb280f0-252c-46f1-8635-6797208a3d38",
   "metadata": {},
   "outputs": [
    {
     "data": {
      "text/plain": [
       "array([[ 2.71828183,  7.3890561 ,  2.71828183,  7.3890561 ],\n",
       "       [ 7.3890561 ,  2.71828183,  7.3890561 , 20.08553692],\n",
       "       [20.08553692, 20.08553692,  2.71828183,  7.3890561 ]])"
      ]
     },
     "execution_count": 201,
     "metadata": {},
     "output_type": "execute_result"
    }
   ],
   "source": [
    "np.exp(arr6)"
   ]
  },
  {
   "cell_type": "code",
   "execution_count": 203,
   "id": "f989b33d-dc77-4c50-a2d0-670e648cb584",
   "metadata": {},
   "outputs": [
    {
     "data": {
      "text/plain": [
       "array([[0.        , 0.30103   , 0.        , 0.30103   ],\n",
       "       [0.30103   , 0.        , 0.30103   , 0.47712125],\n",
       "       [0.47712125, 0.47712125, 0.        , 0.30103   ]])"
      ]
     },
     "execution_count": 203,
     "metadata": {},
     "output_type": "execute_result"
    }
   ],
   "source": [
    "np.log10(arr6)"
   ]
  },
  {
   "cell_type": "code",
   "execution_count": null,
   "id": "da77dab0-fb3c-4dca-afb1-19448d72bfc7",
   "metadata": {},
   "outputs": [],
   "source": []
  }
 ],
 "metadata": {
  "kernelspec": {
   "display_name": "Python 3 (ipykernel)",
   "language": "python",
   "name": "python3"
  },
  "language_info": {
   "codemirror_mode": {
    "name": "ipython",
    "version": 3
   },
   "file_extension": ".py",
   "mimetype": "text/x-python",
   "name": "python",
   "nbconvert_exporter": "python",
   "pygments_lexer": "ipython3",
   "version": "3.9.13"
  }
 },
 "nbformat": 4,
 "nbformat_minor": 5
}
