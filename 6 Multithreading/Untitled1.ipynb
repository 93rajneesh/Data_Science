{
 "cells": [
  {
   "cell_type": "code",
   "execution_count": 1,
   "id": "0b927f4a-e01d-4eb1-81a9-f29bf41e77d1",
   "metadata": {},
   "outputs": [],
   "source": [
    "import threading"
   ]
  },
  {
   "cell_type": "code",
   "execution_count": 2,
   "id": "ede35da1-fb12-4cd9-a8a7-f36c55ef8e94",
   "metadata": {},
   "outputs": [],
   "source": [
    "def input(id):\n",
    "    print(\"prog start %d \" %id)"
   ]
  },
  {
   "cell_type": "code",
   "execution_count": 3,
   "id": "1e092953-1e0d-40e3-a463-ad579121dffe",
   "metadata": {},
   "outputs": [
    {
     "name": "stdout",
     "output_type": "stream",
     "text": [
      "prog start 5 \n"
     ]
    }
   ],
   "source": [
    "input(5)"
   ]
  },
  {
   "cell_type": "code",
   "execution_count": 10,
   "id": "c196262c-c2fd-4d91-b4eb-2a5a768c31f8",
   "metadata": {},
   "outputs": [],
   "source": [
    "thread = [threading.Thread(target= input, args=(i,)) for i in range(10)]\n",
    "# [threading.Thread(target= input, args=(i,)) for i in range(10)]\n"
   ]
  },
  {
   "cell_type": "code",
   "execution_count": 11,
   "id": "e1fcc71d-4959-4814-9d0c-49ec1c76614a",
   "metadata": {},
   "outputs": [
    {
     "name": "stdout",
     "output_type": "stream",
     "text": [
      "prog start 0 \n",
      "prog start 1 \n",
      "prog start 2 \n",
      "prog start 3 \n",
      "prog start 4 \n",
      "prog start 5 \n",
      "prog start 6 \n",
      "prog start 7 \n",
      "prog start 8 \n",
      "prog start 9 \n"
     ]
    }
   ],
   "source": [
    "for t in thread :\n",
    "    t.start()"
   ]
  },
  {
   "cell_type": "code",
   "execution_count": null,
   "id": "718e21c9-0534-4433-831e-209d042429f2",
   "metadata": {},
   "outputs": [],
   "source": []
  }
 ],
 "metadata": {
  "kernelspec": {
   "display_name": "Python 3 (ipykernel)",
   "language": "python",
   "name": "python3"
  },
  "language_info": {
   "codemirror_mode": {
    "name": "ipython",
    "version": 3
   },
   "file_extension": ".py",
   "mimetype": "text/x-python",
   "name": "python",
   "nbconvert_exporter": "python",
   "pygments_lexer": "ipython3",
   "version": "3.9.13"
  }
 },
 "nbformat": 4,
 "nbformat_minor": 5
}
