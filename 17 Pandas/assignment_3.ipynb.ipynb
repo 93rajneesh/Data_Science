{
 "cells": [
  {
   "cell_type": "raw",
   "id": "8a4f6b21-0a23-4358-a0bb-7944c8003b89",
   "metadata": {},
   "source": [
    "Consider following code to answer further questions:\n",
    "\n",
    "import pandas as pd\n",
    "\n",
    "course_name = [‘Data Science’, ‘Machine Learning’, ‘Big Data’, ‘Data Engineer’]\n",
    "\n",
    "duration =  [2,3,6,4]\n",
    "\n",
    "df = pd.DataFrame(data = {‘course_name’ : course_name, ‘duration’ : duration})"
   ]
  },
  {
   "cell_type": "markdown",
   "id": "324347dd-7d5f-4888-bd8b-56aa1fc47765",
   "metadata": {},
   "source": [
    "Q1. Write a code to print the data present in the second row of the dataframe, df"
   ]
  },
  {
   "cell_type": "code",
   "execution_count": 3,
   "id": "b1b34fd9-13b1-43b4-897e-bb1b5b281e62",
   "metadata": {},
   "outputs": [],
   "source": [
    "import pandas as pd\n",
    "\n",
    "course_name = ['Data Science', 'Machine Learning', 'Big Data', 'Data Engineer']\n",
    "\n",
    "duration =  [2,3,6,4]\n",
    "\n",
    "df = pd.DataFrame(data = {'course_name' : course_name, 'duration' : duration})"
   ]
  },
  {
   "cell_type": "code",
   "execution_count": 4,
   "id": "cae9de00-c9e4-46b5-a3ba-91e4eb521f33",
   "metadata": {},
   "outputs": [
    {
     "data": {
      "text/html": [
       "<div>\n",
       "<style scoped>\n",
       "    .dataframe tbody tr th:only-of-type {\n",
       "        vertical-align: middle;\n",
       "    }\n",
       "\n",
       "    .dataframe tbody tr th {\n",
       "        vertical-align: top;\n",
       "    }\n",
       "\n",
       "    .dataframe thead th {\n",
       "        text-align: right;\n",
       "    }\n",
       "</style>\n",
       "<table border=\"1\" class=\"dataframe\">\n",
       "  <thead>\n",
       "    <tr style=\"text-align: right;\">\n",
       "      <th></th>\n",
       "      <th>course_name</th>\n",
       "      <th>duration</th>\n",
       "    </tr>\n",
       "  </thead>\n",
       "  <tbody>\n",
       "    <tr>\n",
       "      <th>0</th>\n",
       "      <td>Data Science</td>\n",
       "      <td>2</td>\n",
       "    </tr>\n",
       "    <tr>\n",
       "      <th>1</th>\n",
       "      <td>Machine Learning</td>\n",
       "      <td>3</td>\n",
       "    </tr>\n",
       "    <tr>\n",
       "      <th>2</th>\n",
       "      <td>Big Data</td>\n",
       "      <td>6</td>\n",
       "    </tr>\n",
       "    <tr>\n",
       "      <th>3</th>\n",
       "      <td>Data Engineer</td>\n",
       "      <td>4</td>\n",
       "    </tr>\n",
       "  </tbody>\n",
       "</table>\n",
       "</div>"
      ],
      "text/plain": [
       "        course_name  duration\n",
       "0      Data Science         2\n",
       "1  Machine Learning         3\n",
       "2          Big Data         6\n",
       "3     Data Engineer         4"
      ]
     },
     "execution_count": 4,
     "metadata": {},
     "output_type": "execute_result"
    }
   ],
   "source": [
    "df"
   ]
  },
  {
   "cell_type": "code",
   "execution_count": 5,
   "id": "3f6e60c1-e664-4bc4-97cc-a359c30603f7",
   "metadata": {
    "tags": []
   },
   "outputs": [
    {
     "data": {
      "text/plain": [
       "course_name    Machine Learning\n",
       "duration                      3\n",
       "Name: 1, dtype: object"
      ]
     },
     "execution_count": 5,
     "metadata": {},
     "output_type": "execute_result"
    }
   ],
   "source": [
    "df.iloc[1]"
   ]
  },
  {
   "cell_type": "code",
   "execution_count": 6,
   "id": "62914836-b0df-4662-a9e3-f15ad3e90850",
   "metadata": {},
   "outputs": [
    {
     "data": {
      "text/plain": [
       "course_name    Machine Learning\n",
       "duration                      3\n",
       "Name: 1, dtype: object"
      ]
     },
     "execution_count": 6,
     "metadata": {},
     "output_type": "execute_result"
    }
   ],
   "source": [
    "df.loc[1]"
   ]
  },
  {
   "cell_type": "code",
   "execution_count": 7,
   "id": "9688f180-f05b-4912-a568-4478b2110057",
   "metadata": {},
   "outputs": [
    {
     "data": {
      "text/plain": [
       "' Q2. What is the difference between the functions loc and iloc in pandas.DataFrame?\\nAns: loc() function: It is lablled based data selecting method , which means we can pass the name of row or column\\niloc() function: It is index based selecting method, which mean we can pass integer index in the method to select a specific row/column. \\n\\nLoc()  vs iloc()\\n\\nloc:\\nA value = A single label or integer e.g. loc [A] or loc [1]\\nA list = A list of labels e.g. loc[[A, B]]\\nSlicing = e.g. loc [A:B], A and B are included\\nConditions = A bool Series or list\\nCallable function = loc[lambda x: x[2]]\\n\\niloc()\\nA value = A single integer e.g.iloc[1]\\n\\nA value =A list of integers e.g. iloc[[1,2,3]]\\nSlicing = e.g.iloc[n:m], n is included, mis excluded\\nConditions =A bool list\\nCallable function = iloc[lambda x: x[2]]\\n\\nex in Q3 '"
      ]
     },
     "execution_count": 7,
     "metadata": {},
     "output_type": "execute_result"
    }
   ],
   "source": [
    "''' Q2. What is the difference between the functions loc and iloc in pandas.DataFrame?\n",
    "Ans: loc() function: It is lablled based data selecting method , which means we can pass the name of row or column\n",
    "iloc() function: It is index based selecting method, which mean we can pass integer index in the method to select a specific row/column. \n",
    "\n",
    "Loc()  vs iloc()\n",
    "\n",
    "loc:\n",
    "A value = A single label or integer e.g. loc [A] or loc [1]\n",
    "A list = A list of labels e.g. loc[[A, B]]\n",
    "Slicing = e.g. loc [A:B], A and B are included\n",
    "Conditions = A bool Series or list\n",
    "Callable function = loc[lambda x: x[2]]\n",
    "\n",
    "iloc()\n",
    "A value = A single integer e.g.iloc[1]\n",
    "\n",
    "A value =A list of integers e.g. iloc[[1,2,3]]\n",
    "Slicing = e.g.iloc[n:m], n is included, mis excluded\n",
    "Conditions =A bool list\n",
    "Callable function = iloc[lambda x: x[2]]\n",
    "\n",
    "ex in Q3 '''"
   ]
  },
  {
   "cell_type": "markdown",
   "id": "cc88d510-4425-4af8-bcdd-121c96cd8f66",
   "metadata": {},
   "source": [
    "Q3. Reindex the given dataframe using a variable, reindex = [3,0,1,2] and store it in the variable, new_df\n",
    "then find the output for both new_df.loc[2] and new_df.iloc[2].\n",
    "Did you observe any difference in both the outputs? If so then explain it."
   ]
  },
  {
   "cell_type": "code",
   "execution_count": 8,
   "id": "52f27ce3-f9b7-41b9-8130-96bd4591f494",
   "metadata": {},
   "outputs": [
    {
     "data": {
      "text/html": [
       "<div>\n",
       "<style scoped>\n",
       "    .dataframe tbody tr th:only-of-type {\n",
       "        vertical-align: middle;\n",
       "    }\n",
       "\n",
       "    .dataframe tbody tr th {\n",
       "        vertical-align: top;\n",
       "    }\n",
       "\n",
       "    .dataframe thead th {\n",
       "        text-align: right;\n",
       "    }\n",
       "</style>\n",
       "<table border=\"1\" class=\"dataframe\">\n",
       "  <thead>\n",
       "    <tr style=\"text-align: right;\">\n",
       "      <th></th>\n",
       "      <th>course_name</th>\n",
       "      <th>duration</th>\n",
       "    </tr>\n",
       "  </thead>\n",
       "  <tbody>\n",
       "    <tr>\n",
       "      <th>3</th>\n",
       "      <td>Data Science</td>\n",
       "      <td>2</td>\n",
       "    </tr>\n",
       "    <tr>\n",
       "      <th>0</th>\n",
       "      <td>Machine Learning</td>\n",
       "      <td>3</td>\n",
       "    </tr>\n",
       "    <tr>\n",
       "      <th>1</th>\n",
       "      <td>Big Data</td>\n",
       "      <td>6</td>\n",
       "    </tr>\n",
       "    <tr>\n",
       "      <th>2</th>\n",
       "      <td>Data Engineer</td>\n",
       "      <td>4</td>\n",
       "    </tr>\n",
       "  </tbody>\n",
       "</table>\n",
       "</div>"
      ],
      "text/plain": [
       "        course_name  duration\n",
       "3      Data Science         2\n",
       "0  Machine Learning         3\n",
       "1          Big Data         6\n",
       "2     Data Engineer         4"
      ]
     },
     "execution_count": 8,
     "metadata": {},
     "output_type": "execute_result"
    }
   ],
   "source": [
    "import pandas as pd\n",
    "\n",
    "course_name = ['Data Science', 'Machine Learning', 'Big Data', 'Data Engineer']\n",
    "\n",
    "duration =  [2,3,6,4]\n",
    "\n",
    "new_df= pd.DataFrame(data = {'course_name' : course_name, 'duration' : duration} , index = [3,0,1,2])\n",
    "new_df"
   ]
  },
  {
   "cell_type": "code",
   "execution_count": 9,
   "id": "7e8e8b55-ddf4-4398-9b4f-7d9308390bfa",
   "metadata": {},
   "outputs": [
    {
     "data": {
      "text/plain": [
       "course_name    Data Engineer\n",
       "duration                   4\n",
       "Name: 2, dtype: object"
      ]
     },
     "execution_count": 9,
     "metadata": {},
     "output_type": "execute_result"
    }
   ],
   "source": [
    "new_df.loc[2]"
   ]
  },
  {
   "cell_type": "code",
   "execution_count": 10,
   "id": "2a259183-a8b8-400f-8888-8edf0f59f64c",
   "metadata": {},
   "outputs": [
    {
     "data": {
      "text/plain": [
       "course_name    Big Data\n",
       "duration              6\n",
       "Name: 1, dtype: object"
      ]
     },
     "execution_count": 10,
     "metadata": {},
     "output_type": "execute_result"
    }
   ],
   "source": [
    "new_df.iloc[2]"
   ]
  },
  {
   "cell_type": "markdown",
   "id": "f1da6094-6c6e-46b3-b85a-ca6427560a93",
   "metadata": {
    "tags": []
   },
   "source": [
    "iloc(): is index based, that reason it gives Bigdata \n",
    "\n",
    "\n",
    "\n",
    "loc(): is labelled based, Data engineer labelled at 2 "
   ]
  },
  {
   "cell_type": "raw",
   "id": "c7fc6ef3-6b86-49ee-9781-1cb2433ef758",
   "metadata": {},
   "source": [
    "Consider the below code to answer further questions:\n",
    "import pandas as pd\n",
    "\n",
    "import numpy as np\n",
    "\n",
    "columns = ['column_1', 'column_2', 'column_3', 'column_4', 'column_5', 'column_6']\n",
    "\n",
    "indices = [1,2,3,4,5,6]\n",
    "\n",
    "#Creating a dataframe:\n",
    "\n",
    "df1 = pd.DataFrame(np.random.rand(6,6), columns = columns, index = indices)"
   ]
  },
  {
   "cell_type": "markdown",
   "id": "8c4fe011-1545-4eab-aa45-7d53e6b58985",
   "metadata": {},
   "source": [
    "Q4. Write a code to find the following statistical measurements for the above dataframe df1:\n",
    "\n",
    "(i) \tmean of each and every column present in the dataframe.\n",
    "\n",
    "(ii) standard deviation of column, ‘column_2’\n",
    "\n",
    "\n"
   ]
  },
  {
   "cell_type": "code",
   "execution_count": 11,
   "id": "2bf28696-6170-4563-9b4f-c9a0aaf53d2a",
   "metadata": {},
   "outputs": [
    {
     "data": {
      "text/plain": [
       "column_1    0.605781\n",
       "column_2    0.516613\n",
       "column_3    0.622280\n",
       "column_4    0.444529\n",
       "column_5    0.673755\n",
       "column_6    0.433906\n",
       "dtype: float64"
      ]
     },
     "execution_count": 11,
     "metadata": {},
     "output_type": "execute_result"
    }
   ],
   "source": [
    "import pandas as pd\n",
    "\n",
    "import numpy as np\n",
    "\n",
    "columns = ['column_1', 'column_2', 'column_3', 'column_4', 'column_5', 'column_6']\n",
    "\n",
    "indices = [1,2,3,4,5,6]\n",
    "\n",
    "#Creating a dataframe:\n",
    "\n",
    "df1 = pd.DataFrame(np.random.rand(6,6), columns = columns, index = indices)\n",
    "\n",
    "df1.mean()"
   ]
  },
  {
   "cell_type": "code",
   "execution_count": 12,
   "id": "ba190a75-6ee3-4553-8cc4-9b5bf2ab6d71",
   "metadata": {},
   "outputs": [
    {
     "data": {
      "text/plain": [
       "column_1    0.244337\n",
       "column_2    0.238645\n",
       "column_3    0.320828\n",
       "column_4    0.267241\n",
       "column_5    0.148624\n",
       "column_6    0.210369\n",
       "dtype: float64"
      ]
     },
     "execution_count": 12,
     "metadata": {},
     "output_type": "execute_result"
    }
   ],
   "source": [
    "df1.std()"
   ]
  },
  {
   "cell_type": "markdown",
   "id": "0c13a973-c8c3-4256-b3db-95122fd5c3fc",
   "metadata": {},
   "source": [
    "Q5. Replace the data present in the second row of column, ‘column_2’ by a string variable then find the\n",
    "mean of column, column_2.\n",
    "\n",
    "If you are getting errors in executing it then explain why.\n",
    "\n",
    "[Hint: To replace the data use df1.loc[] and equate this to string data of your choice.]"
   ]
  },
  {
   "cell_type": "code",
   "execution_count": 24,
   "id": "2cae539c-ede4-45d3-8a2e-1b33c5d5cdc7",
   "metadata": {},
   "outputs": [
    {
     "data": {
      "text/html": [
       "<div>\n",
       "<style scoped>\n",
       "    .dataframe tbody tr th:only-of-type {\n",
       "        vertical-align: middle;\n",
       "    }\n",
       "\n",
       "    .dataframe tbody tr th {\n",
       "        vertical-align: top;\n",
       "    }\n",
       "\n",
       "    .dataframe thead th {\n",
       "        text-align: right;\n",
       "    }\n",
       "</style>\n",
       "<table border=\"1\" class=\"dataframe\">\n",
       "  <thead>\n",
       "    <tr style=\"text-align: right;\">\n",
       "      <th></th>\n",
       "      <th>column_1</th>\n",
       "      <th>column_2</th>\n",
       "      <th>column_3</th>\n",
       "      <th>column_4</th>\n",
       "      <th>column_5</th>\n",
       "      <th>column_6</th>\n",
       "    </tr>\n",
       "  </thead>\n",
       "  <tbody>\n",
       "    <tr>\n",
       "      <th>1</th>\n",
       "      <td>0.731526</td>\n",
       "      <td>0.158920</td>\n",
       "      <td>0.009336</td>\n",
       "      <td>0.018719</td>\n",
       "      <td>0.083868</td>\n",
       "      <td>0.573101</td>\n",
       "    </tr>\n",
       "    <tr>\n",
       "      <th>2</th>\n",
       "      <td>0.070535</td>\n",
       "      <td>0.503251</td>\n",
       "      <td>0.360966</td>\n",
       "      <td>0.680147</td>\n",
       "      <td>0.812244</td>\n",
       "      <td>0.147375</td>\n",
       "    </tr>\n",
       "    <tr>\n",
       "      <th>3</th>\n",
       "      <td>0.948980</td>\n",
       "      <td>0.624777</td>\n",
       "      <td>0.466139</td>\n",
       "      <td>0.154509</td>\n",
       "      <td>0.324905</td>\n",
       "      <td>0.779277</td>\n",
       "    </tr>\n",
       "    <tr>\n",
       "      <th>4</th>\n",
       "      <td>0.426533</td>\n",
       "      <td>0.628206</td>\n",
       "      <td>0.508953</td>\n",
       "      <td>0.605999</td>\n",
       "      <td>0.915605</td>\n",
       "      <td>0.555207</td>\n",
       "    </tr>\n",
       "    <tr>\n",
       "      <th>5</th>\n",
       "      <td>0.833855</td>\n",
       "      <td>0.403136</td>\n",
       "      <td>0.884463</td>\n",
       "      <td>0.363288</td>\n",
       "      <td>0.677445</td>\n",
       "      <td>0.911140</td>\n",
       "    </tr>\n",
       "    <tr>\n",
       "      <th>6</th>\n",
       "      <td>0.612439</td>\n",
       "      <td>0.023054</td>\n",
       "      <td>0.003223</td>\n",
       "      <td>0.641566</td>\n",
       "      <td>0.117523</td>\n",
       "      <td>0.277517</td>\n",
       "    </tr>\n",
       "  </tbody>\n",
       "</table>\n",
       "</div>"
      ],
      "text/plain": [
       "   column_1  column_2  column_3  column_4  column_5  column_6\n",
       "1  0.731526  0.158920  0.009336  0.018719  0.083868  0.573101\n",
       "2  0.070535  0.503251  0.360966  0.680147  0.812244  0.147375\n",
       "3  0.948980  0.624777  0.466139  0.154509  0.324905  0.779277\n",
       "4  0.426533  0.628206  0.508953  0.605999  0.915605  0.555207\n",
       "5  0.833855  0.403136  0.884463  0.363288  0.677445  0.911140\n",
       "6  0.612439  0.023054  0.003223  0.641566  0.117523  0.277517"
      ]
     },
     "execution_count": 24,
     "metadata": {},
     "output_type": "execute_result"
    }
   ],
   "source": [
    "columns = ['column_1', 'column_2', 'column_3', 'column_4', 'column_5', 'column_6']\n",
    "\n",
    "indices = [1,2,3,4,5,6]\n",
    "df1 = pd.DataFrame(np.random.rand(6,6), columns = columns, index = indices)\n",
    "# Assuming you have a DataFrame called 'df1'\n",
    "df1"
   ]
  },
  {
   "cell_type": "code",
   "execution_count": 25,
   "id": "dbe750d5-42f8-48e6-83ff-77aef3b8418d",
   "metadata": {},
   "outputs": [
    {
     "data": {
      "text/html": [
       "<div>\n",
       "<style scoped>\n",
       "    .dataframe tbody tr th:only-of-type {\n",
       "        vertical-align: middle;\n",
       "    }\n",
       "\n",
       "    .dataframe tbody tr th {\n",
       "        vertical-align: top;\n",
       "    }\n",
       "\n",
       "    .dataframe thead th {\n",
       "        text-align: right;\n",
       "    }\n",
       "</style>\n",
       "<table border=\"1\" class=\"dataframe\">\n",
       "  <thead>\n",
       "    <tr style=\"text-align: right;\">\n",
       "      <th></th>\n",
       "      <th>column_1</th>\n",
       "      <th>column_2</th>\n",
       "      <th>column_3</th>\n",
       "      <th>column_4</th>\n",
       "      <th>column_5</th>\n",
       "      <th>column_6</th>\n",
       "    </tr>\n",
       "  </thead>\n",
       "  <tbody>\n",
       "    <tr>\n",
       "      <th>1</th>\n",
       "      <td>0.731526</td>\n",
       "      <td>pwskill</td>\n",
       "      <td>0.009336</td>\n",
       "      <td>0.018719</td>\n",
       "      <td>0.083868</td>\n",
       "      <td>0.573101</td>\n",
       "    </tr>\n",
       "    <tr>\n",
       "      <th>2</th>\n",
       "      <td>0.070535</td>\n",
       "      <td>pwskill</td>\n",
       "      <td>0.360966</td>\n",
       "      <td>0.680147</td>\n",
       "      <td>0.812244</td>\n",
       "      <td>0.147375</td>\n",
       "    </tr>\n",
       "    <tr>\n",
       "      <th>3</th>\n",
       "      <td>0.948980</td>\n",
       "      <td>pwskill</td>\n",
       "      <td>0.466139</td>\n",
       "      <td>0.154509</td>\n",
       "      <td>0.324905</td>\n",
       "      <td>0.779277</td>\n",
       "    </tr>\n",
       "    <tr>\n",
       "      <th>4</th>\n",
       "      <td>0.426533</td>\n",
       "      <td>pwskill</td>\n",
       "      <td>0.508953</td>\n",
       "      <td>0.605999</td>\n",
       "      <td>0.915605</td>\n",
       "      <td>0.555207</td>\n",
       "    </tr>\n",
       "    <tr>\n",
       "      <th>5</th>\n",
       "      <td>0.833855</td>\n",
       "      <td>pwskill</td>\n",
       "      <td>0.884463</td>\n",
       "      <td>0.363288</td>\n",
       "      <td>0.677445</td>\n",
       "      <td>0.911140</td>\n",
       "    </tr>\n",
       "    <tr>\n",
       "      <th>6</th>\n",
       "      <td>0.612439</td>\n",
       "      <td>pwskill</td>\n",
       "      <td>0.003223</td>\n",
       "      <td>0.641566</td>\n",
       "      <td>0.117523</td>\n",
       "      <td>0.277517</td>\n",
       "    </tr>\n",
       "  </tbody>\n",
       "</table>\n",
       "</div>"
      ],
      "text/plain": [
       "   column_1 column_2  column_3  column_4  column_5  column_6\n",
       "1  0.731526  pwskill  0.009336  0.018719  0.083868  0.573101\n",
       "2  0.070535  pwskill  0.360966  0.680147  0.812244  0.147375\n",
       "3  0.948980  pwskill  0.466139  0.154509  0.324905  0.779277\n",
       "4  0.426533  pwskill  0.508953  0.605999  0.915605  0.555207\n",
       "5  0.833855  pwskill  0.884463  0.363288  0.677445  0.911140\n",
       "6  0.612439  pwskill  0.003223  0.641566  0.117523  0.277517"
      ]
     },
     "execution_count": 25,
     "metadata": {},
     "output_type": "execute_result"
    }
   ],
   "source": [
    "df1.loc[1:6, 'column_2'] = 'pwskill'\n",
    "df1"
   ]
  },
  {
   "cell_type": "code",
   "execution_count": 29,
   "id": "8cadddc3-53fa-4357-8b30-58d44f877d2b",
   "metadata": {},
   "outputs": [],
   "source": [
    "df1['column_2'].mean()\n",
    "# TypeError: Could not convert pwskillpwskillpwskillpwskillpwskillpwskill to numeric"
   ]
  },
  {
   "cell_type": "code",
   "execution_count": 31,
   "id": "e4b575fa-43bd-4a68-a25e-6b1142cd31da",
   "metadata": {},
   "outputs": [],
   "source": [
    "# '''\n",
    "# Q6. What do you understand about the windows function in pandas and list the types of windows\n",
    "# functions?\n",
    "# '''\n",
    "# '''\n",
    "# The window functions in Pandas are used to perform some sort of calculations \n",
    "# across a set of rows that are interrelated with the current row. \n",
    "# As we know, we have aggregate functions in SQL, which help us to perform mathematical calculations among the columns of a table. \n",
    "# Similarly, windows functions help us to perform aggregated calculations across various partitions or cross-sections of the data.\n",
    "\n",
    "# Major difference between standard aggregate function of SQL and Windows\n",
    "# aggregate function only return single value after performing the calculation specified in the SQL query.\n",
    "# Windows function in Pandas returns a value for every row of the original table.\n",
    "# '''\n",
    "# '''\n",
    "# windows function divide in three types\n",
    "# 1. Aggregate\n",
    "# 2. Ranking\n",
    "# 3. Value\n",
    "# '''\n",
    "\n",
    "# '''\n",
    "# 1. Aggregate: i) Group\n",
    "#             ii) rolling\n",
    "#             iii)expanding\n",
    "            \n",
    "# 2. Ranking : Row Numbers : i) reset_index and ii) cumcount()\n",
    "\n",
    "#    Rank: i) default_rank\n",
    "#     ii) min_rank\n",
    "#     iii)NA_bottom\n",
    "#     iv)descending\n",
    "    \n",
    "# 3. Value : \n",
    "# Lag / Lead, and\n",
    "# First / Last/nth.\n",
    "\n",
    "# '''"
   ]
  },
  {
   "cell_type": "code",
   "execution_count": 32,
   "id": "3bf4adc4-c7f4-47af-9c8b-a3c183a89fba",
   "metadata": {},
   "outputs": [],
   "source": [
    "# Q8. Write a Python program that takes in two dates as input (in the format YYYY-MM-DD) and\n",
    "# calculates the difference between them in days, hours, and minutes using Pandas time delta. The\n",
    "# program should prompt the user to enter the dates and display the result."
   ]
  },
  {
   "cell_type": "code",
   "execution_count": null,
   "id": "c42d6353-d0ea-4282-adfb-805806ac95b4",
   "metadata": {},
   "outputs": [],
   "source": [
    "Ans: "
   ]
  }
 ],
 "metadata": {
  "kernelspec": {
   "display_name": "Python 3 (ipykernel)",
   "language": "python",
   "name": "python3"
  },
  "language_info": {
   "codemirror_mode": {
    "name": "ipython",
    "version": 3
   },
   "file_extension": ".py",
   "mimetype": "text/x-python",
   "name": "python",
   "nbconvert_exporter": "python",
   "pygments_lexer": "ipython3",
   "version": "3.9.13"
  }
 },
 "nbformat": 4,
 "nbformat_minor": 5
}
