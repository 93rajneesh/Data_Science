{
 "cells": [
  {
   "cell_type": "code",
   "execution_count": 1,
   "id": "d233ca12-8dbd-495e-92a7-163afea5d608",
   "metadata": {},
   "outputs": [],
   "source": [
    "import pandas as pd"
   ]
  },
  {
   "cell_type": "code",
   "execution_count": 2,
   "id": "f432d5b5-346c-468f-bf85-679a663d69d9",
   "metadata": {},
   "outputs": [
    {
     "data": {
      "text/html": [
       "<div>\n",
       "<style scoped>\n",
       "    .dataframe tbody tr th:only-of-type {\n",
       "        vertical-align: middle;\n",
       "    }\n",
       "\n",
       "    .dataframe tbody tr th {\n",
       "        vertical-align: top;\n",
       "    }\n",
       "\n",
       "    .dataframe thead th {\n",
       "        text-align: right;\n",
       "    }\n",
       "</style>\n",
       "<table border=\"1\" class=\"dataframe\">\n",
       "  <thead>\n",
       "    <tr style=\"text-align: right;\">\n",
       "      <th></th>\n",
       "      <th>PassengerId</th>\n",
       "      <th>Survived</th>\n",
       "      <th>Pclass</th>\n",
       "      <th>Lname</th>\n",
       "      <th>Name</th>\n",
       "      <th>Sex</th>\n",
       "      <th>Age</th>\n",
       "      <th>SibSp</th>\n",
       "      <th>Parch</th>\n",
       "      <th>Ticket</th>\n",
       "      <th>Fare</th>\n",
       "      <th>Cabin</th>\n",
       "      <th>Embarked</th>\n",
       "    </tr>\n",
       "  </thead>\n",
       "  <tbody>\n",
       "    <tr>\n",
       "      <th>0</th>\n",
       "      <td>1</td>\n",
       "      <td>0</td>\n",
       "      <td>3</td>\n",
       "      <td>Braund</td>\n",
       "      <td>Mr. Owen Harris</td>\n",
       "      <td>male</td>\n",
       "      <td>22.0</td>\n",
       "      <td>1</td>\n",
       "      <td>0</td>\n",
       "      <td>A/5 21171</td>\n",
       "      <td>7.2500</td>\n",
       "      <td>NaN</td>\n",
       "      <td>S</td>\n",
       "    </tr>\n",
       "    <tr>\n",
       "      <th>1</th>\n",
       "      <td>2</td>\n",
       "      <td>1</td>\n",
       "      <td>1</td>\n",
       "      <td>Cumings</td>\n",
       "      <td>Mrs. John Bradley (Florence Briggs Thayer)</td>\n",
       "      <td>female</td>\n",
       "      <td>38.0</td>\n",
       "      <td>1</td>\n",
       "      <td>0</td>\n",
       "      <td>PC 17599</td>\n",
       "      <td>71.2833</td>\n",
       "      <td>C85</td>\n",
       "      <td>C</td>\n",
       "    </tr>\n",
       "    <tr>\n",
       "      <th>2</th>\n",
       "      <td>3</td>\n",
       "      <td>1</td>\n",
       "      <td>3</td>\n",
       "      <td>Heikkinen</td>\n",
       "      <td>Miss. Laina</td>\n",
       "      <td>female</td>\n",
       "      <td>26.0</td>\n",
       "      <td>0</td>\n",
       "      <td>0</td>\n",
       "      <td>STON/O2. 3101282</td>\n",
       "      <td>7.9250</td>\n",
       "      <td>NaN</td>\n",
       "      <td>S</td>\n",
       "    </tr>\n",
       "    <tr>\n",
       "      <th>3</th>\n",
       "      <td>4</td>\n",
       "      <td>1</td>\n",
       "      <td>1</td>\n",
       "      <td>Futrelle</td>\n",
       "      <td>Mrs. Jacques Heath (Lily May Peel)</td>\n",
       "      <td>female</td>\n",
       "      <td>35.0</td>\n",
       "      <td>1</td>\n",
       "      <td>0</td>\n",
       "      <td>113803</td>\n",
       "      <td>53.1000</td>\n",
       "      <td>C123</td>\n",
       "      <td>S</td>\n",
       "    </tr>\n",
       "    <tr>\n",
       "      <th>4</th>\n",
       "      <td>5</td>\n",
       "      <td>0</td>\n",
       "      <td>3</td>\n",
       "      <td>Allen</td>\n",
       "      <td>Mr. William Henry</td>\n",
       "      <td>male</td>\n",
       "      <td>35.0</td>\n",
       "      <td>0</td>\n",
       "      <td>0</td>\n",
       "      <td>373450</td>\n",
       "      <td>8.0500</td>\n",
       "      <td>NaN</td>\n",
       "      <td>S</td>\n",
       "    </tr>\n",
       "    <tr>\n",
       "      <th>...</th>\n",
       "      <td>...</td>\n",
       "      <td>...</td>\n",
       "      <td>...</td>\n",
       "      <td>...</td>\n",
       "      <td>...</td>\n",
       "      <td>...</td>\n",
       "      <td>...</td>\n",
       "      <td>...</td>\n",
       "      <td>...</td>\n",
       "      <td>...</td>\n",
       "      <td>...</td>\n",
       "      <td>...</td>\n",
       "      <td>...</td>\n",
       "    </tr>\n",
       "    <tr>\n",
       "      <th>151</th>\n",
       "      <td>152</td>\n",
       "      <td>1</td>\n",
       "      <td>1</td>\n",
       "      <td>Pears</td>\n",
       "      <td>Mrs. Thomas (Edith Wearne)</td>\n",
       "      <td>female</td>\n",
       "      <td>22.0</td>\n",
       "      <td>1</td>\n",
       "      <td>0</td>\n",
       "      <td>113776</td>\n",
       "      <td>66.6000</td>\n",
       "      <td>C2</td>\n",
       "      <td>S</td>\n",
       "    </tr>\n",
       "    <tr>\n",
       "      <th>152</th>\n",
       "      <td>153</td>\n",
       "      <td>0</td>\n",
       "      <td>3</td>\n",
       "      <td>Meo</td>\n",
       "      <td>Mr. Alfonzo</td>\n",
       "      <td>male</td>\n",
       "      <td>55.5</td>\n",
       "      <td>0</td>\n",
       "      <td>0</td>\n",
       "      <td>A.5. 11206</td>\n",
       "      <td>8.0500</td>\n",
       "      <td>NaN</td>\n",
       "      <td>S</td>\n",
       "    </tr>\n",
       "    <tr>\n",
       "      <th>153</th>\n",
       "      <td>154</td>\n",
       "      <td>0</td>\n",
       "      <td>3</td>\n",
       "      <td>van Billiard</td>\n",
       "      <td>Mr. Austin Blyler</td>\n",
       "      <td>male</td>\n",
       "      <td>40.5</td>\n",
       "      <td>0</td>\n",
       "      <td>2</td>\n",
       "      <td>A/5. 851</td>\n",
       "      <td>14.5000</td>\n",
       "      <td>NaN</td>\n",
       "      <td>S</td>\n",
       "    </tr>\n",
       "    <tr>\n",
       "      <th>154</th>\n",
       "      <td>155</td>\n",
       "      <td>0</td>\n",
       "      <td>3</td>\n",
       "      <td>Olsen</td>\n",
       "      <td>Mr. Ole Martin</td>\n",
       "      <td>male</td>\n",
       "      <td>NaN</td>\n",
       "      <td>0</td>\n",
       "      <td>0</td>\n",
       "      <td>Fa 265302</td>\n",
       "      <td>7.3125</td>\n",
       "      <td>NaN</td>\n",
       "      <td>S</td>\n",
       "    </tr>\n",
       "    <tr>\n",
       "      <th>155</th>\n",
       "      <td>156</td>\n",
       "      <td>0</td>\n",
       "      <td>1</td>\n",
       "      <td>Williams</td>\n",
       "      <td>Mr. Charles Duane</td>\n",
       "      <td>male</td>\n",
       "      <td>51.0</td>\n",
       "      <td>0</td>\n",
       "      <td>1</td>\n",
       "      <td>PC 17597</td>\n",
       "      <td>61.3792</td>\n",
       "      <td>NaN</td>\n",
       "      <td>C</td>\n",
       "    </tr>\n",
       "  </tbody>\n",
       "</table>\n",
       "<p>156 rows × 13 columns</p>\n",
       "</div>"
      ],
      "text/plain": [
       "     PassengerId  Survived  Pclass         Lname  \\\n",
       "0              1         0       3        Braund   \n",
       "1              2         1       1       Cumings   \n",
       "2              3         1       3     Heikkinen   \n",
       "3              4         1       1      Futrelle   \n",
       "4              5         0       3         Allen   \n",
       "..           ...       ...     ...           ...   \n",
       "151          152         1       1         Pears   \n",
       "152          153         0       3           Meo   \n",
       "153          154         0       3  van Billiard   \n",
       "154          155         0       3         Olsen   \n",
       "155          156         0       1      Williams   \n",
       "\n",
       "                                            Name     Sex   Age  SibSp  Parch  \\\n",
       "0                                Mr. Owen Harris    male  22.0      1      0   \n",
       "1     Mrs. John Bradley (Florence Briggs Thayer)  female  38.0      1      0   \n",
       "2                                    Miss. Laina  female  26.0      0      0   \n",
       "3             Mrs. Jacques Heath (Lily May Peel)  female  35.0      1      0   \n",
       "4                              Mr. William Henry    male  35.0      0      0   \n",
       "..                                           ...     ...   ...    ...    ...   \n",
       "151                   Mrs. Thomas (Edith Wearne)  female  22.0      1      0   \n",
       "152                                  Mr. Alfonzo    male  55.5      0      0   \n",
       "153                            Mr. Austin Blyler    male  40.5      0      2   \n",
       "154                               Mr. Ole Martin    male   NaN      0      0   \n",
       "155                            Mr. Charles Duane    male  51.0      0      1   \n",
       "\n",
       "               Ticket     Fare Cabin Embarked  \n",
       "0           A/5 21171   7.2500   NaN        S  \n",
       "1            PC 17599  71.2833   C85        C  \n",
       "2    STON/O2. 3101282   7.9250   NaN        S  \n",
       "3              113803  53.1000  C123        S  \n",
       "4              373450   8.0500   NaN        S  \n",
       "..                ...      ...   ...      ...  \n",
       "151            113776  66.6000    C2        S  \n",
       "152        A.5. 11206   8.0500   NaN        S  \n",
       "153          A/5. 851  14.5000   NaN        S  \n",
       "154         Fa 265302   7.3125   NaN        S  \n",
       "155          PC 17597  61.3792   NaN        C  \n",
       "\n",
       "[156 rows x 13 columns]"
      ]
     },
     "execution_count": 2,
     "metadata": {},
     "output_type": "execute_result"
    }
   ],
   "source": [
    "df = pd.read_csv(\"https://gist.githubusercontent.com/jwalsh/ce1dc0436aba5b7a5c9666f47fa5a380/raw/5ce3854392b43ff97907112d344fc008229b0445/titanic.csv\")\n",
    "\n",
    "df"
   ]
  },
  {
   "cell_type": "code",
   "execution_count": 3,
   "id": "9a5ee6b1-5780-4358-a028-9ea1564936ca",
   "metadata": {},
   "outputs": [
    {
     "data": {
      "text/plain": [
       "<AxesSubplot:>"
      ]
     },
     "execution_count": 3,
     "metadata": {},
     "output_type": "execute_result"
    },
    {
     "data": {
      "image/png": "[encoded data removed]",
      "text/plain": [
       "<Figure size 640x480 with 1 Axes>"
      ]
     },
     "metadata": {},
     "output_type": "display_data"
    }
   ],
   "source": [
    "df.plot()"
   ]
  },
  {
   "cell_type": "code",
   "execution_count": 4,
   "id": "4b6650cf-01e1-49c7-a61e-26da6a9944ed",
   "metadata": {},
   "outputs": [
    {
     "data": {
      "text/plain": [
       "Index(['PassengerId', 'Survived', 'Pclass', 'Lname', 'Name', 'Sex', 'Age',\n",
       "       'SibSp', 'Parch', 'Ticket', 'Fare', 'Cabin', 'Embarked'],\n",
       "      dtype='object')"
      ]
     },
     "execution_count": 4,
     "metadata": {},
     "output_type": "execute_result"
    }
   ],
   "source": [
    "df.columns"
   ]
  },
  {
   "cell_type": "code",
   "execution_count": 5,
   "id": "67afea4a-cf80-46e3-9903-79d877cb8831",
   "metadata": {},
   "outputs": [
    {
     "data": {
      "text/html": [
       "<div>\n",
       "<style scoped>\n",
       "    .dataframe tbody tr th:only-of-type {\n",
       "        vertical-align: middle;\n",
       "    }\n",
       "\n",
       "    .dataframe tbody tr th {\n",
       "        vertical-align: top;\n",
       "    }\n",
       "\n",
       "    .dataframe thead th {\n",
       "        text-align: right;\n",
       "    }\n",
       "</style>\n",
       "<table border=\"1\" class=\"dataframe\">\n",
       "  <thead>\n",
       "    <tr style=\"text-align: right;\">\n",
       "      <th></th>\n",
       "      <th>PassengerId</th>\n",
       "      <th>Survived</th>\n",
       "      <th>Pclass</th>\n",
       "      <th>Lname</th>\n",
       "      <th>Name</th>\n",
       "      <th>Sex</th>\n",
       "      <th>Age</th>\n",
       "      <th>SibSp</th>\n",
       "      <th>Parch</th>\n",
       "      <th>Ticket</th>\n",
       "      <th>Fare</th>\n",
       "      <th>Cabin</th>\n",
       "      <th>Embarked</th>\n",
       "    </tr>\n",
       "  </thead>\n",
       "  <tbody>\n",
       "    <tr>\n",
       "      <th>0</th>\n",
       "      <td>1</td>\n",
       "      <td>0</td>\n",
       "      <td>3</td>\n",
       "      <td>Braund</td>\n",
       "      <td>Mr. Owen Harris</td>\n",
       "      <td>male</td>\n",
       "      <td>22.0</td>\n",
       "      <td>1</td>\n",
       "      <td>0</td>\n",
       "      <td>A/5 21171</td>\n",
       "      <td>7.2500</td>\n",
       "      <td>NaN</td>\n",
       "      <td>S</td>\n",
       "    </tr>\n",
       "    <tr>\n",
       "      <th>1</th>\n",
       "      <td>2</td>\n",
       "      <td>1</td>\n",
       "      <td>1</td>\n",
       "      <td>Cumings</td>\n",
       "      <td>Mrs. John Bradley (Florence Briggs Thayer)</td>\n",
       "      <td>female</td>\n",
       "      <td>38.0</td>\n",
       "      <td>1</td>\n",
       "      <td>0</td>\n",
       "      <td>PC 17599</td>\n",
       "      <td>71.2833</td>\n",
       "      <td>C85</td>\n",
       "      <td>C</td>\n",
       "    </tr>\n",
       "    <tr>\n",
       "      <th>2</th>\n",
       "      <td>3</td>\n",
       "      <td>1</td>\n",
       "      <td>3</td>\n",
       "      <td>Heikkinen</td>\n",
       "      <td>Miss. Laina</td>\n",
       "      <td>female</td>\n",
       "      <td>26.0</td>\n",
       "      <td>0</td>\n",
       "      <td>0</td>\n",
       "      <td>STON/O2. 3101282</td>\n",
       "      <td>7.9250</td>\n",
       "      <td>NaN</td>\n",
       "      <td>S</td>\n",
       "    </tr>\n",
       "    <tr>\n",
       "      <th>3</th>\n",
       "      <td>4</td>\n",
       "      <td>1</td>\n",
       "      <td>1</td>\n",
       "      <td>Futrelle</td>\n",
       "      <td>Mrs. Jacques Heath (Lily May Peel)</td>\n",
       "      <td>female</td>\n",
       "      <td>35.0</td>\n",
       "      <td>1</td>\n",
       "      <td>0</td>\n",
       "      <td>113803</td>\n",
       "      <td>53.1000</td>\n",
       "      <td>C123</td>\n",
       "      <td>S</td>\n",
       "    </tr>\n",
       "    <tr>\n",
       "      <th>4</th>\n",
       "      <td>5</td>\n",
       "      <td>0</td>\n",
       "      <td>3</td>\n",
       "      <td>Allen</td>\n",
       "      <td>Mr. William Henry</td>\n",
       "      <td>male</td>\n",
       "      <td>35.0</td>\n",
       "      <td>0</td>\n",
       "      <td>0</td>\n",
       "      <td>373450</td>\n",
       "      <td>8.0500</td>\n",
       "      <td>NaN</td>\n",
       "      <td>S</td>\n",
       "    </tr>\n",
       "  </tbody>\n",
       "</table>\n",
       "</div>"
      ],
      "text/plain": [
       "   PassengerId  Survived  Pclass      Lname  \\\n",
       "0            1         0       3     Braund   \n",
       "1            2         1       1    Cumings   \n",
       "2            3         1       3  Heikkinen   \n",
       "3            4         1       1   Futrelle   \n",
       "4            5         0       3      Allen   \n",
       "\n",
       "                                          Name     Sex   Age  SibSp  Parch  \\\n",
       "0                              Mr. Owen Harris    male  22.0      1      0   \n",
       "1   Mrs. John Bradley (Florence Briggs Thayer)  female  38.0      1      0   \n",
       "2                                  Miss. Laina  female  26.0      0      0   \n",
       "3           Mrs. Jacques Heath (Lily May Peel)  female  35.0      1      0   \n",
       "4                            Mr. William Henry    male  35.0      0      0   \n",
       "\n",
       "             Ticket     Fare Cabin Embarked  \n",
       "0         A/5 21171   7.2500   NaN        S  \n",
       "1          PC 17599  71.2833   C85        C  \n",
       "2  STON/O2. 3101282   7.9250   NaN        S  \n",
       "3            113803  53.1000  C123        S  \n",
       "4            373450   8.0500   NaN        S  "
      ]
     },
     "execution_count": 5,
     "metadata": {},
     "output_type": "execute_result"
    }
   ],
   "source": [
    "df.head()"
   ]
  },
  {
   "cell_type": "code",
   "execution_count": 6,
   "id": "6f2e0429-5891-46d0-9cca-0fdde662b422",
   "metadata": {},
   "outputs": [
    {
     "data": {
      "text/html": [
       "<div>\n",
       "<style scoped>\n",
       "    .dataframe tbody tr th:only-of-type {\n",
       "        vertical-align: middle;\n",
       "    }\n",
       "\n",
       "    .dataframe tbody tr th {\n",
       "        vertical-align: top;\n",
       "    }\n",
       "\n",
       "    .dataframe thead th {\n",
       "        text-align: right;\n",
       "    }\n",
       "</style>\n",
       "<table border=\"1\" class=\"dataframe\">\n",
       "  <thead>\n",
       "    <tr style=\"text-align: right;\">\n",
       "      <th></th>\n",
       "      <th>Survived</th>\n",
       "      <th>Pclass</th>\n",
       "      <th>Lname</th>\n",
       "      <th>Name</th>\n",
       "      <th>Sex</th>\n",
       "      <th>Age</th>\n",
       "      <th>SibSp</th>\n",
       "      <th>Parch</th>\n",
       "      <th>Ticket</th>\n",
       "      <th>Fare</th>\n",
       "      <th>Cabin</th>\n",
       "      <th>Embarked</th>\n",
       "    </tr>\n",
       "  </thead>\n",
       "  <tbody>\n",
       "    <tr>\n",
       "      <th>0</th>\n",
       "      <td>0</td>\n",
       "      <td>3</td>\n",
       "      <td>Braund</td>\n",
       "      <td>Mr. Owen Harris</td>\n",
       "      <td>male</td>\n",
       "      <td>22.0</td>\n",
       "      <td>1</td>\n",
       "      <td>0</td>\n",
       "      <td>A/5 21171</td>\n",
       "      <td>7.2500</td>\n",
       "      <td>NaN</td>\n",
       "      <td>S</td>\n",
       "    </tr>\n",
       "    <tr>\n",
       "      <th>1</th>\n",
       "      <td>1</td>\n",
       "      <td>1</td>\n",
       "      <td>Cumings</td>\n",
       "      <td>Mrs. John Bradley (Florence Briggs Thayer)</td>\n",
       "      <td>female</td>\n",
       "      <td>38.0</td>\n",
       "      <td>1</td>\n",
       "      <td>0</td>\n",
       "      <td>PC 17599</td>\n",
       "      <td>71.2833</td>\n",
       "      <td>C85</td>\n",
       "      <td>C</td>\n",
       "    </tr>\n",
       "    <tr>\n",
       "      <th>2</th>\n",
       "      <td>1</td>\n",
       "      <td>3</td>\n",
       "      <td>Heikkinen</td>\n",
       "      <td>Miss. Laina</td>\n",
       "      <td>female</td>\n",
       "      <td>26.0</td>\n",
       "      <td>0</td>\n",
       "      <td>0</td>\n",
       "      <td>STON/O2. 3101282</td>\n",
       "      <td>7.9250</td>\n",
       "      <td>NaN</td>\n",
       "      <td>S</td>\n",
       "    </tr>\n",
       "    <tr>\n",
       "      <th>3</th>\n",
       "      <td>1</td>\n",
       "      <td>1</td>\n",
       "      <td>Futrelle</td>\n",
       "      <td>Mrs. Jacques Heath (Lily May Peel)</td>\n",
       "      <td>female</td>\n",
       "      <td>35.0</td>\n",
       "      <td>1</td>\n",
       "      <td>0</td>\n",
       "      <td>113803</td>\n",
       "      <td>53.1000</td>\n",
       "      <td>C123</td>\n",
       "      <td>S</td>\n",
       "    </tr>\n",
       "    <tr>\n",
       "      <th>4</th>\n",
       "      <td>0</td>\n",
       "      <td>3</td>\n",
       "      <td>Allen</td>\n",
       "      <td>Mr. William Henry</td>\n",
       "      <td>male</td>\n",
       "      <td>35.0</td>\n",
       "      <td>0</td>\n",
       "      <td>0</td>\n",
       "      <td>373450</td>\n",
       "      <td>8.0500</td>\n",
       "      <td>NaN</td>\n",
       "      <td>S</td>\n",
       "    </tr>\n",
       "    <tr>\n",
       "      <th>...</th>\n",
       "      <td>...</td>\n",
       "      <td>...</td>\n",
       "      <td>...</td>\n",
       "      <td>...</td>\n",
       "      <td>...</td>\n",
       "      <td>...</td>\n",
       "      <td>...</td>\n",
       "      <td>...</td>\n",
       "      <td>...</td>\n",
       "      <td>...</td>\n",
       "      <td>...</td>\n",
       "      <td>...</td>\n",
       "    </tr>\n",
       "    <tr>\n",
       "      <th>151</th>\n",
       "      <td>1</td>\n",
       "      <td>1</td>\n",
       "      <td>Pears</td>\n",
       "      <td>Mrs. Thomas (Edith Wearne)</td>\n",
       "      <td>female</td>\n",
       "      <td>22.0</td>\n",
       "      <td>1</td>\n",
       "      <td>0</td>\n",
       "      <td>113776</td>\n",
       "      <td>66.6000</td>\n",
       "      <td>C2</td>\n",
       "      <td>S</td>\n",
       "    </tr>\n",
       "    <tr>\n",
       "      <th>152</th>\n",
       "      <td>0</td>\n",
       "      <td>3</td>\n",
       "      <td>Meo</td>\n",
       "      <td>Mr. Alfonzo</td>\n",
       "      <td>male</td>\n",
       "      <td>55.5</td>\n",
       "      <td>0</td>\n",
       "      <td>0</td>\n",
       "      <td>A.5. 11206</td>\n",
       "      <td>8.0500</td>\n",
       "      <td>NaN</td>\n",
       "      <td>S</td>\n",
       "    </tr>\n",
       "    <tr>\n",
       "      <th>153</th>\n",
       "      <td>0</td>\n",
       "      <td>3</td>\n",
       "      <td>van Billiard</td>\n",
       "      <td>Mr. Austin Blyler</td>\n",
       "      <td>male</td>\n",
       "      <td>40.5</td>\n",
       "      <td>0</td>\n",
       "      <td>2</td>\n",
       "      <td>A/5. 851</td>\n",
       "      <td>14.5000</td>\n",
       "      <td>NaN</td>\n",
       "      <td>S</td>\n",
       "    </tr>\n",
       "    <tr>\n",
       "      <th>154</th>\n",
       "      <td>0</td>\n",
       "      <td>3</td>\n",
       "      <td>Olsen</td>\n",
       "      <td>Mr. Ole Martin</td>\n",
       "      <td>male</td>\n",
       "      <td>NaN</td>\n",
       "      <td>0</td>\n",
       "      <td>0</td>\n",
       "      <td>Fa 265302</td>\n",
       "      <td>7.3125</td>\n",
       "      <td>NaN</td>\n",
       "      <td>S</td>\n",
       "    </tr>\n",
       "    <tr>\n",
       "      <th>155</th>\n",
       "      <td>0</td>\n",
       "      <td>1</td>\n",
       "      <td>Williams</td>\n",
       "      <td>Mr. Charles Duane</td>\n",
       "      <td>male</td>\n",
       "      <td>51.0</td>\n",
       "      <td>0</td>\n",
       "      <td>1</td>\n",
       "      <td>PC 17597</td>\n",
       "      <td>61.3792</td>\n",
       "      <td>NaN</td>\n",
       "      <td>C</td>\n",
       "    </tr>\n",
       "  </tbody>\n",
       "</table>\n",
       "<p>156 rows × 12 columns</p>\n",
       "</div>"
      ],
      "text/plain": [
       "     Survived  Pclass         Lname  \\\n",
       "0           0       3        Braund   \n",
       "1           1       1       Cumings   \n",
       "2           1       3     Heikkinen   \n",
       "3           1       1      Futrelle   \n",
       "4           0       3         Allen   \n",
       "..        ...     ...           ...   \n",
       "151         1       1         Pears   \n",
       "152         0       3           Meo   \n",
       "153         0       3  van Billiard   \n",
       "154         0       3         Olsen   \n",
       "155         0       1      Williams   \n",
       "\n",
       "                                            Name     Sex   Age  SibSp  Parch  \\\n",
       "0                                Mr. Owen Harris    male  22.0      1      0   \n",
       "1     Mrs. John Bradley (Florence Briggs Thayer)  female  38.0      1      0   \n",
       "2                                    Miss. Laina  female  26.0      0      0   \n",
       "3             Mrs. Jacques Heath (Lily May Peel)  female  35.0      1      0   \n",
       "4                              Mr. William Henry    male  35.0      0      0   \n",
       "..                                           ...     ...   ...    ...    ...   \n",
       "151                   Mrs. Thomas (Edith Wearne)  female  22.0      1      0   \n",
       "152                                  Mr. Alfonzo    male  55.5      0      0   \n",
       "153                            Mr. Austin Blyler    male  40.5      0      2   \n",
       "154                               Mr. Ole Martin    male   NaN      0      0   \n",
       "155                            Mr. Charles Duane    male  51.0      0      1   \n",
       "\n",
       "               Ticket     Fare Cabin Embarked  \n",
       "0           A/5 21171   7.2500   NaN        S  \n",
       "1            PC 17599  71.2833   C85        C  \n",
       "2    STON/O2. 3101282   7.9250   NaN        S  \n",
       "3              113803  53.1000  C123        S  \n",
       "4              373450   8.0500   NaN        S  \n",
       "..                ...      ...   ...      ...  \n",
       "151            113776  66.6000    C2        S  \n",
       "152        A.5. 11206   8.0500   NaN        S  \n",
       "153          A/5. 851  14.5000   NaN        S  \n",
       "154         Fa 265302   7.3125   NaN        S  \n",
       "155          PC 17597  61.3792   NaN        C  \n",
       "\n",
       "[156 rows x 12 columns]"
      ]
     },
     "execution_count": 6,
     "metadata": {},
     "output_type": "execute_result"
    }
   ],
   "source": [
    "# dropping: remove particular row and column\n",
    "# axis = 1 mean y axis\n",
    "# axis = 0 mean x axis\n",
    "# dropping row or column are not perment delete\n",
    "df.drop('PassengerId' , axis = 1)"
   ]
  },
  {
   "cell_type": "code",
   "execution_count": 7,
   "id": "f1fb1bca-31c9-43e2-ab4d-b5503f6aa645",
   "metadata": {},
   "outputs": [
    {
     "ename": "TypeError",
     "evalue": "'DataFrame' object is not callable",
     "output_type": "error",
     "traceback": [
      "\u001b[1;31m---------------------------------------------------------------------------\u001b[0m",
      "\u001b[1;31mTypeError\u001b[0m                                 Traceback (most recent call last)",
      "\u001b[1;32m~\\AppData\\Local\\Temp\\ipykernel_22480\\2570820763.py\u001b[0m in \u001b[0;36m<module>\u001b[1;34m\u001b[0m\n\u001b[0;32m      1\u001b[0m \u001b[1;31m#  for permanet deleting particular row and column and delete from main table by using inplace\u001b[0m\u001b[1;33m\u001b[0m\u001b[1;33m\u001b[0m\u001b[0m\n\u001b[1;32m----> 2\u001b[1;33m \u001b[0mdf\u001b[0m\u001b[1;33m(\u001b[0m\u001b[1;34m'PassengerId'\u001b[0m \u001b[1;33m,\u001b[0m \u001b[0maxis\u001b[0m \u001b[1;33m=\u001b[0m \u001b[1;36m1\u001b[0m \u001b[1;33m,\u001b[0m \u001b[0minplace\u001b[0m \u001b[1;33m=\u001b[0m \u001b[1;32mTrue\u001b[0m \u001b[1;33m)\u001b[0m\u001b[1;33m\u001b[0m\u001b[1;33m\u001b[0m\u001b[0m\n\u001b[0m\u001b[0;32m      3\u001b[0m \u001b[0mdf\u001b[0m\u001b[1;33m\u001b[0m\u001b[1;33m\u001b[0m\u001b[0m\n",
      "\u001b[1;31mTypeError\u001b[0m: 'DataFrame' object is not callable"
     ]
    }
   ],
   "source": [
    "#  for permanet deleting particular row and column and delete from main table by using inplace\n",
    "df('PassengerId' , axis = 1 , inplace = True )\n",
    "df"
   ]
  },
  {
   "cell_type": "code",
   "execution_count": null,
   "id": "6723416f-ef93-4afa-b4cc-a1ef7db868f1",
   "metadata": {},
   "outputs": [],
   "source": [
    "df1('PassengerId' , axis = 1 , inplace = True )\n"
   ]
  },
  {
   "cell_type": "code",
   "execution_count": null,
   "id": "460efd35-edc0-4b6b-a625-ca973be9b1b5",
   "metadata": {},
   "outputs": [],
   "source": [
    "# droping row\n",
    "df.drop(5, inplace = True)"
   ]
  },
  {
   "cell_type": "code",
   "execution_count": null,
   "id": "8100ea99-67f2-433b-a7f0-1bc6c1169f64",
   "metadata": {},
   "outputs": [],
   "source": [
    "df"
   ]
  },
  {
   "cell_type": "code",
   "execution_count": null,
   "id": "f485cbf0-2849-42d5-bce6-820ef085339a",
   "metadata": {},
   "outputs": [],
   "source": [
    "df = pd.read_csv(\"https://gist.githubusercontent.com/jwalsh/ce1dc0436aba5b7a5c9666f47fa5a380/raw/5ce3854392b43ff97907112d344fc008229b0445/titanic.csv\")\n",
    "df.set_index('Name' , inplace = True)\n",
    "df"
   ]
  },
  {
   "cell_type": "code",
   "execution_count": null,
   "id": "03176b7d-a4f9-45af-85b4-0479df7f6a92",
   "metadata": {},
   "outputs": [],
   "source": [
    "# https://www.geeksforgeeks.org/reset-index-in-pandas-dataframe/\n",
    "df.reset_index()"
   ]
  },
  {
   "cell_type": "code",
   "execution_count": null,
   "id": "b9b826c4-b637-4685-bad3-aae878cde1db",
   "metadata": {},
   "outputs": [],
   "source": [
    "# convert dictionary into dataframe\n",
    "# value length should be equal in key1,key2 ....\n",
    "d = {'key1' : [2,3,4,5] ,\n",
    "     'key2' : [4,7,6,4],\n",
    "     'key3' : [3,5,7,6]\n",
    "    }"
   ]
  },
  {
   "cell_type": "code",
   "execution_count": null,
   "id": "711b8f77-ddfc-4bb5-bfde-d263a4fc3e1e",
   "metadata": {},
   "outputs": [],
   "source": [
    "pd.DataFrame(d)"
   ]
  },
  {
   "cell_type": "code",
   "execution_count": null,
   "id": "0d9e16c9-29d0-455b-a721-6943276824a8",
   "metadata": {},
   "outputs": [],
   "source": [
    "df1 = pd.read_csv(\"taxonomy.csv\")\n",
    "df1"
   ]
  },
  {
   "cell_type": "code",
   "execution_count": null,
   "id": "74a2baf4-fbfe-4ac8-bb86-0f785326d55f",
   "metadata": {},
   "outputs": [],
   "source": [
    "# remove NaN from taxonomy.csv file\n",
    "df1.dropna()"
   ]
  },
  {
   "cell_type": "code",
   "execution_count": null,
   "id": "bc186b99-8405-41d7-8ddc-3bd1c1771214",
   "metadata": {},
   "outputs": [],
   "source": [
    "df1"
   ]
  },
  {
   "cell_type": "code",
   "execution_count": null,
   "id": "c869a01c-d9ad-4f21-8479-beb8f1925bd7",
   "metadata": {},
   "outputs": [],
   "source": [
    "#Permanent remove NaN from taxonomy.csv file\n",
    "df1.dropna(axis = 1 , inplace = True)"
   ]
  },
  {
   "cell_type": "code",
   "execution_count": null,
   "id": "e98cedca-2cf5-490f-a98b-482e85488d95",
   "metadata": {},
   "outputs": [],
   "source": [
    "df1"
   ]
  },
  {
   "cell_type": "code",
   "execution_count": null,
   "id": "8392a7f9-dd53-4b96-b560-b60364f15c2a",
   "metadata": {},
   "outputs": [],
   "source": [
    "df2 = pd.read_csv(\"taxonomy.csv\")\n",
    "df2"
   ]
  },
  {
   "cell_type": "code",
   "execution_count": null,
   "id": "716616ee-15c8-428d-bd68-66b6eb437cc7",
   "metadata": {},
   "outputs": [],
   "source": [
    "df2.dropna()"
   ]
  },
  {
   "cell_type": "code",
   "execution_count": null,
   "id": "12ccc156-fc97-40dd-a81e-d6e16c5e1219",
   "metadata": {},
   "outputs": [],
   "source": [
    "df2.dropna(axis = 1)"
   ]
  },
  {
   "cell_type": "code",
   "execution_count": null,
   "id": "c20f0c0b-ade9-42bb-8627-1f7df4e0fb39",
   "metadata": {},
   "outputs": [],
   "source": [
    "# fill the Nan value with other value\n",
    "df2.fillna(\"*****America*****\")"
   ]
  },
  {
   "cell_type": "code",
   "execution_count": null,
   "id": "53dc681a-e5b7-402c-a9e8-78006b9ed9e8",
   "metadata": {},
   "outputs": [],
   "source": [
    "df"
   ]
  },
  {
   "cell_type": "code",
   "execution_count": null,
   "id": "2497a4a8-50e2-4f3a-8a0e-2bfe8833a874",
   "metadata": {},
   "outputs": [],
   "source": [
    "# Reset the Namr in dataset df\n",
    "df.reset_index(inplace=True)"
   ]
  },
  {
   "cell_type": "code",
   "execution_count": null,
   "id": "44913359-6bf0-4792-bf97-616c146010ad",
   "metadata": {},
   "outputs": [],
   "source": [
    "df"
   ]
  },
  {
   "cell_type": "code",
   "execution_count": null,
   "id": "00139200-d3ec-40a2-845f-9681e9bb0de5",
   "metadata": {},
   "outputs": [],
   "source": [
    "# grouping\n",
    "g = df.groupby('Survived')"
   ]
  },
  {
   "cell_type": "code",
   "execution_count": null,
   "id": "be5a6837-b463-41b6-a690-3bc38f4d711c",
   "metadata": {},
   "outputs": [],
   "source": [
    "g"
   ]
  },
  {
   "cell_type": "code",
   "execution_count": null,
   "id": "4456efbd-710d-4a9a-a827-d6b792303c88",
   "metadata": {},
   "outputs": [],
   "source": [
    "g.sum()"
   ]
  },
  {
   "cell_type": "code",
   "execution_count": null,
   "id": "3a37d1d4-6f43-491c-803d-76525f69c053",
   "metadata": {},
   "outputs": [],
   "source": [
    "g.describe()"
   ]
  },
  {
   "cell_type": "code",
   "execution_count": null,
   "id": "c2e64e3b-b7d6-45be-b98c-ec29da86b245",
   "metadata": {},
   "outputs": [],
   "source": [
    "g.mean()"
   ]
  },
  {
   "cell_type": "code",
   "execution_count": null,
   "id": "b61e07f5-1f79-43ac-9802-bed063b8e57c",
   "metadata": {},
   "outputs": [],
   "source": [
    "# g1 = df.groupby('Pclass')"
   ]
  },
  {
   "cell_type": "code",
   "execution_count": null,
   "id": "d2d32040-ebfa-4b97-82c3-da14f96edacf",
   "metadata": {},
   "outputs": [],
   "source": [
    "g1 = df.drop('PassengerId' , axis = 1 , inplace=True)"
   ]
  },
  {
   "cell_type": "code",
   "execution_count": null,
   "id": "610fd7dc-32ef-4f91-bc86-914681744526",
   "metadata": {},
   "outputs": [],
   "source": [
    "g2 = df.groupby('Pclass')"
   ]
  },
  {
   "cell_type": "code",
   "execution_count": null,
   "id": "b4474cd5-867a-4a10-937b-7a095ca0051b",
   "metadata": {},
   "outputs": [],
   "source": [
    "g2.mean()"
   ]
  },
  {
   "cell_type": "code",
   "execution_count": null,
   "id": "0f17823b-449c-4b68-9033-202fc846b0a1",
   "metadata": {},
   "outputs": [],
   "source": [
    "g2.min()"
   ]
  },
  {
   "cell_type": "code",
   "execution_count": null,
   "id": "99cc5f3a-8b14-4f36-aa35-cdf5998a2983",
   "metadata": {},
   "outputs": [],
   "source": [
    "g2.describe()"
   ]
  },
  {
   "cell_type": "code",
   "execution_count": null,
   "id": "11c119f2-9585-46cd-ad9f-25790b440ed5",
   "metadata": {},
   "outputs": [],
   "source": [
    "g2.max()"
   ]
  },
  {
   "cell_type": "code",
   "execution_count": null,
   "id": "bb682523-5589-4a8e-b3d6-56af07d9515e",
   "metadata": {},
   "outputs": [],
   "source": [
    "g2.max()['Fare']"
   ]
  },
  {
   "cell_type": "code",
   "execution_count": null,
   "id": "f2d5d3db-3d86-45f6-ad34-407bd0210ed3",
   "metadata": {},
   "outputs": [],
   "source": [
    "# transpose the row and column or rotated the row and column to 180 degree\n",
    "g2.max().T"
   ]
  },
  {
   "cell_type": "code",
   "execution_count": null,
   "id": "fa53cd8b-26e8-4476-a650-8dbdbad7e50a",
   "metadata": {},
   "outputs": [],
   "source": [
    "g2.max().transpose()"
   ]
  },
  {
   "cell_type": "code",
   "execution_count": null,
   "id": "2e2627b3-6afe-4679-8062-0859af7a868b",
   "metadata": {},
   "outputs": [],
   "source": [
    "df"
   ]
  },
  {
   "cell_type": "code",
   "execution_count": null,
   "id": "305e39e2-adfe-43a1-902e-64d1bde0d488",
   "metadata": {},
   "outputs": [],
   "source": [
    " df5 = df[['Name' , 'Survived' , 'Pclass']][0:5]\n",
    "df6 = df[['Name' , 'Survived' , 'Pclass']][5:10]"
   ]
  },
  {
   "cell_type": "code",
   "execution_count": null,
   "id": "5428bf91-893f-4d73-b32f-915f10dab4bc",
   "metadata": {},
   "outputs": [],
   "source": [
    "df5"
   ]
  },
  {
   "cell_type": "code",
   "execution_count": null,
   "id": "b23d2d31-3484-4986-95c8-67384d4c27ff",
   "metadata": {},
   "outputs": [],
   "source": [
    "df6"
   ]
  },
  {
   "cell_type": "code",
   "execution_count": null,
   "id": "3b510277-3199-4766-bda8-023003477ed8",
   "metadata": {},
   "outputs": [],
   "source": [
    "# merge the two dataset(df5 and df6)\n",
    "# calling concatanation\n",
    "pd.concat([df5,df6])"
   ]
  },
  {
   "cell_type": "code",
   "execution_count": null,
   "id": "163a52e3-7d0b-4462-8ac6-212bfd7379f5",
   "metadata": {},
   "outputs": [],
   "source": [
    "df7 = pd.concat([df5,df6] , axis = 1)"
   ]
  },
  {
   "cell_type": "code",
   "execution_count": null,
   "id": "90a4e796-4e30-440e-adb2-a45e1b3f7000",
   "metadata": {},
   "outputs": [],
   "source": [
    "df7"
   ]
  },
  {
   "cell_type": "code",
   "execution_count": null,
   "id": "0bc337c9-0ee4-47fd-9dfd-78512957d40c",
   "metadata": {},
   "outputs": [],
   "source": [
    "# fill the Nan\n",
    "df7.fillna(\"REDME\")"
   ]
  },
  {
   "cell_type": "code",
   "execution_count": null,
   "id": "a41df6ee-c595-47e8-a2e1-5bad3f485da9",
   "metadata": {},
   "outputs": [],
   "source": [
    "df71 = df[['Name' , 'Survived' , 'Pclass']][0:10]\n",
    "df81 = df[['Name' , 'Survived' , 'Pclass']][0:10]"
   ]
  },
  {
   "cell_type": "code",
   "execution_count": null,
   "id": "eb6cf78d-0a2c-4431-827f-0ec43a385d06",
   "metadata": {},
   "outputs": [],
   "source": [
    "# merge the two dataset column wise\n",
    "pd.concat([df71,df81] , axis = 1)"
   ]
  },
  {
   "cell_type": "code",
   "execution_count": null,
   "id": "40dae740-c9c9-4598-ad59-5088e7905ab1",
   "metadata": {},
   "outputs": [],
   "source": [
    "# merge the two dataset row wise\n",
    "pd.concat([df71,df81] , axis = 0)"
   ]
  },
  {
   "cell_type": "code",
   "execution_count": null,
   "id": "83c90e0c-715e-4144-890f-745af74bd7e0",
   "metadata": {},
   "outputs": [],
   "source": [
    "data1 = pd.DataFrame({'key1':[1,2,4,5,6],\n",
    "                      'key2':[4,5,6,7,8],\n",
    "                      'key3':[3,4,5,6,6]\n",
    "}\n",
    ")\n",
    "\n",
    "data2 = pd.DataFrame({'key1':[1,2,45,6,67],\n",
    "                      'key4':[56,5,6,7,8],\n",
    "                      'key5':[3,56,5,6,6]\n",
    "}\n",
    ")\n",
    "\n"
   ]
  },
  {
   "cell_type": "code",
   "execution_count": null,
   "id": "fe9e2880-0711-4edf-8e4a-ddb56980d31b",
   "metadata": {},
   "outputs": [],
   "source": [
    "data1"
   ]
  },
  {
   "cell_type": "code",
   "execution_count": null,
   "id": "5ec49741-21d4-4d6f-b083-2f9daef62dd5",
   "metadata": {},
   "outputs": [],
   "source": [
    "data2"
   ]
  },
  {
   "cell_type": "code",
   "execution_count": null,
   "id": "0467b28b-5107-4efd-b501-e3a5c3a37d9c",
   "metadata": {},
   "outputs": [],
   "source": [
    "# perform merge operation\n",
    "pd.merge(data1,data2)"
   ]
  },
  {
   "cell_type": "code",
   "execution_count": null,
   "id": "ae14e9b3-3bdd-4e2a-8472-f27e3d451a2c",
   "metadata": {},
   "outputs": [],
   "source": [
    "'''\n",
    "Parameters\n",
    "----------\n",
    "left : DataFrame\n",
    "right : DataFrame or named Series\n",
    "    Object to merge with.\n",
    "how : {'left', 'right', 'outer', 'inner', 'cross'}, default 'inner'\n",
    "    Type of merge to be performed.\n",
    "\n",
    "    * left: use only keys from left frame, similar to a SQL left outer join;\n",
    "      preserve key order.\n",
    "    * right: use only keys from right frame, similar to a SQL right outer \n",
    "'''\n",
    "pd.merge(data1,data2, how = 'left')"
   ]
  },
  {
   "cell_type": "code",
   "execution_count": null,
   "id": "cbea1a3a-8ca2-46ad-b72e-bb7190bff3d5",
   "metadata": {},
   "outputs": [],
   "source": [
    "pd.merge(data1,data2 , how = 'right')"
   ]
  },
  {
   "cell_type": "code",
   "execution_count": null,
   "id": "d210c063-6fbb-4b89-a0c4-341e92d695ff",
   "metadata": {},
   "outputs": [],
   "source": [
    "pd.merge(data1,data2 , how = 'cross')"
   ]
  },
  {
   "cell_type": "code",
   "execution_count": null,
   "id": "94e2617e-9cb3-42a7-8f20-2572827e3e10",
   "metadata": {},
   "outputs": [],
   "source": [
    "# customized the index(or row)\n",
    "data1 = pd.DataFrame({'key1':[1,2,4,5,6],\n",
    "                      'key2':[4,5,6,7,8],\n",
    "                      'key3':[3,4,5,6,6]},\n",
    "                     \n",
    "                      index = ['a','b','c' , 'd' ,'e']\n",
    "\n",
    ")\n",
    "\n",
    "data2 = pd.DataFrame({'key5':[1,2,45,6,67],\n",
    "                      'key6':[56,5,6,7,8],\n",
    "                      'key7':[3,56,5,6,6]},\n",
    "                      index = ['a','b','c' , 'd' ,'e']\n",
    "\n",
    ")\n",
    "\n"
   ]
  },
  {
   "cell_type": "code",
   "execution_count": null,
   "id": "b8acd81f-740f-4d1e-aa8f-f898fcd920f2",
   "metadata": {},
   "outputs": [],
   "source": [
    "data1"
   ]
  },
  {
   "cell_type": "code",
   "execution_count": null,
   "id": "3972751e-4f3d-4d17-a68e-434062d15e9b",
   "metadata": {},
   "outputs": [],
   "source": [
    "data2"
   ]
  },
  {
   "cell_type": "code",
   "execution_count": null,
   "id": "fbab6a4f-0ae1-4d2c-bc2f-586abd9d5c0c",
   "metadata": {},
   "outputs": [],
   "source": [
    "# join: it work on index. join rowise\n",
    "data1.join(data2)"
   ]
  },
  {
   "cell_type": "code",
   "execution_count": null,
   "id": "ff7c9fee-5166-4534-a764-f88d594d86b2",
   "metadata": {},
   "outputs": [],
   "source": [
    "data1.join(data2 , how = 'left')"
   ]
  },
  {
   "cell_type": "code",
   "execution_count": null,
   "id": "ce0b6267-a539-4efd-afa4-e19481072983",
   "metadata": {},
   "outputs": [],
   "source": [
    "data1.join(data2 , how = 'right')"
   ]
  },
  {
   "cell_type": "code",
   "execution_count": null,
   "id": "29288ab7-7188-42f5-8614-230970fd079c",
   "metadata": {},
   "outputs": [],
   "source": [
    "data1.join(data2 , how = 'cross')"
   ]
  },
  {
   "cell_type": "code",
   "execution_count": null,
   "id": "00c2971f-118a-4a66-8c80-e387f0bef31e",
   "metadata": {},
   "outputs": [],
   "source": [
    "# apply() keyword: help to manuplate the data\n",
    "# convert fare to fare inr currency. By using lamda funcation \n",
    "df['Fare_inr'] = df['Fare'].apply(lambda x : x*80)"
   ]
  },
  {
   "cell_type": "code",
   "execution_count": null,
   "id": "c702fc01-b6a6-4eec-ada5-6d98f75c5f98",
   "metadata": {},
   "outputs": [],
   "source": [
    "df"
   ]
  },
  {
   "cell_type": "code",
   "execution_count": null,
   "id": "003c53f0-561a-41d5-b1b9-4787227c9976",
   "metadata": {},
   "outputs": [],
   "source": [
    "# or\n",
    "\n",
    "def fare_inr(x):\n",
    "    return x*80\n",
    "\n",
    "df['Fare_inr'] = df['Fare'].apply(lambda x : fare_inr(x))"
   ]
  },
  {
   "cell_type": "code",
   "execution_count": null,
   "id": "9cd74efc-0656-4a2f-bc4c-cd5aefe59c37",
   "metadata": {},
   "outputs": [],
   "source": [
    "df[['Fare_inr']]"
   ]
  },
  {
   "cell_type": "code",
   "execution_count": null,
   "id": "1c968209-bf23-4938-b358-5c39e979d12a",
   "metadata": {},
   "outputs": [],
   "source": [
    "# store the length of column\n",
    "df['store_length'] = df['Name'].apply(len)"
   ]
  },
  {
   "cell_type": "code",
   "execution_count": null,
   "id": "6f7a7954-3b45-468b-abd2-ef9bad743af6",
   "metadata": {},
   "outputs": [],
   "source": [
    "df[['Name' , 'store_length']]"
   ]
  },
  {
   "cell_type": "code",
   "execution_count": null,
   "id": "1ee176d8-30fc-4856-826a-9d8cea9769c0",
   "metadata": {},
   "outputs": [],
   "source": [
    "# manupalting the data\n",
    "def cate(x):\n",
    "    if x<10:\n",
    "        return \"cheap\"\n",
    "    elif x>10 and x<20:\n",
    "        return \"Mid\"\n",
    "    else :\n",
    "        return \"Expensive\"\n",
    "     "
   ]
  },
  {
   "cell_type": "code",
   "execution_count": null,
   "id": "73ff78e4-64cd-49ed-8d90-7bcea07eb358",
   "metadata": {},
   "outputs": [],
   "source": [
    "df['car_fare'] = df['Fare'].apply(cate)\n",
    "df"
   ]
  },
  {
   "cell_type": "code",
   "execution_count": null,
   "id": "53d31ed4-a6b8-43fc-b090-02d5f5685f23",
   "metadata": {},
   "outputs": [],
   "source": []
  },
  {
   "cell_type": "code",
   "execution_count": null,
   "id": "4e2afdb8-8386-4d98-a6b1-991b7c3754d1",
   "metadata": {},
   "outputs": [],
   "source": []
  }
 ],
 "metadata": {
  "kernelspec": {
   "display_name": "Python 3 (ipykernel)",
   "language": "python",
   "name": "python3"
  },
  "language_info": {
   "codemirror_mode": {
    "name": "ipython",
    "version": 3
   },
   "file_extension": ".py",
   "mimetype": "text/x-python",
   "name": "python",
   "nbconvert_exporter": "python",
   "pygments_lexer": "ipython3",
   "version": "3.9.13"
  },
  "toc-autonumbering": true
 },
 "nbformat": 4,
 "nbformat_minor": 5
}
