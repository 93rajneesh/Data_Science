{
 "cells": [
  {
   "cell_type": "code",
   "execution_count": 11,
   "id": "3747ec20",
   "metadata": {},
   "outputs": [
    {
     "name": "stdout",
     "output_type": "stream",
     "text": [
      "0     4\n",
      "1     8\n",
      "2    15\n",
      "3    16\n",
      "4    23\n",
      "5    42\n",
      "dtype: object\n"
     ]
    }
   ],
   "source": [
    "# Q1: Create a Pandas Series that contains the following data: 4, 8, 15, 16, 23, and 42. Then, print the series.\n",
    "import pandas as pd\n",
    "# if we use [] pandas consider as list1 Series\n",
    "list1 = ['4', '8', '15', '16', '23','42']\n",
    "\n",
    "pandas_serie = pd.Series(list1)\n",
    "print(pandas_serie)"
   ]
  },
  {
   "cell_type": "code",
   "execution_count": 10,
   "id": "fb4922a4",
   "metadata": {},
   "outputs": [
    {
     "name": "stdout",
     "output_type": "stream",
     "text": [
      "0      ad\n",
      "1      hf\n",
      "2     322\n",
      "3      24\n",
      "4    !@#$\n",
      "5     dse\n",
      "6     rew\n",
      "7      wr\n",
      "8     fsv\n",
      "9     fsf\n",
      "dtype: object\n"
     ]
    }
   ],
   "source": [
    "# Q2. Create a variable of list type containing 10 elements in it, and apply pandas.Series function on the\n",
    "# variable print it.\n",
    "\n",
    "lst = ['ad','hf',\"322\", \"24\",'!@#$' , 'dse','rew','wr' , 'fsv' , 'fsf']\n",
    "\n",
    "pseries = pd.Series(lst)\n",
    "print(pseries)\n"
   ]
  },
  {
   "cell_type": "code",
   "execution_count": 3,
   "id": "004776c1",
   "metadata": {},
   "outputs": [
    {
     "name": "stdout",
     "output_type": "stream",
     "text": [
      "     Name  Age  Gender\n",
      "0   Alice   25  Female\n",
      "1     Bob   30    Male\n",
      "2  Claire   27  Female\n"
     ]
    }
   ],
   "source": [
    "# Q3. Create a Pandas DataFrame that contains the following data:\n",
    "# Name\n",
    "# Alice\n",
    "# Bob\n",
    "# Claire\n",
    "\n",
    "# Age\n",
    "# 25\n",
    "# 30\n",
    "# 27\n",
    "\n",
    "# Gender\n",
    "# Female\n",
    "# Male\n",
    "# Female\n",
    "\n",
    "data = {'Name' :['Alice' , 'Bob','Claire'],\n",
    "       'Age' : [25,30,27],\n",
    "        'Gender' : ['Female' , 'Male' , 'Female']\n",
    "       }\n",
    "\n",
    "df = pd.DataFrame(data)\n",
    "print(df)"
   ]
  },
  {
   "cell_type": "raw",
   "id": "b9f579ca",
   "metadata": {},
   "source": [
    "# Q4. What is ‘DataFrame’ in pandas and how is it different from pandas.series? Explain with an example.\n",
    "'''\n",
    "ans: A dataframe is 2D data struture like 2D array or a tables ,rows and column.A series a 1D array holding data of any type but all the data in 1D is same. Pandas series like column in table.\n",
    "ex:\n",
    "series example\n",
    "import pandas as pd\n",
    "\n",
    "list1 = ['4', '8', '15', '16', '23','42']\n",
    "\n",
    "pandas_serie = pd.Series(list1)\n",
    "print(pandas_serie)\n",
    "\n",
    "Dataframe example\n",
    "data = {'Name' :['Alice' , 'Bob','Claire'],\n",
    "       'Age' : [25,30,27],\n",
    "        'Gender' : ['Female' , 'Male' , 'Female']\n",
    "       }\n",
    "\n",
    "df = pd.DataFrame(data)\n",
    "print(df)\n",
    "\n",
    "series vs dataframe\n",
    "Pandas series: a) 1D\n",
    "    b) Series element must be of the same data type\n",
    "    c)Size immutable-Once created,the size of series object cannot be not changed\n",
    "\n",
    "Pandas dataframe\n",
    "a)2D\n",
    "b) Series element can have of the different data type\n",
    "c)Size-mutable – Elements can be dropped or added in an existing DataFrame.\n",
    "'''\n",
    "\n"
   ]
  },
  {
   "cell_type": "markdown",
   "id": "efcbc5ab",
   "metadata": {},
   "source": []
  },
  {
   "cell_type": "raw",
   "id": "46ac6bf5",
   "metadata": {},
   "source": [
    "# Q5. What are some common functions you can use to manipulate data in a Pandas DataFrame? Can\n",
    "# you give an example of when you might use one of these functions?\n",
    "Ans:firstly import pandas ad pd\n",
    "\n",
    "1. Read data\n",
    "syntax\n",
    "dataframe_name = pd.read_fileformat(\"file_name.format\")\n",
    "example: fd = pd.read_csv(\"hello.csv\")\n",
    "\n",
    "2. Head and tail\n",
    "head- it use to return head of dataframe or it return the first row of dataframe.\n",
    "tail-it use to return tail of dataframe or it return the last row of dataframe.\n",
    "syntax: dataframe_name.head()\n",
    "dataframe_name.tail()\n",
    "\n",
    "3. shape ,size and info\n",
    "shape- it gives rows and columns\n",
    "syntax: dataframe_name.shape()\n",
    "\n",
    "size- returns the number of rows times number of columns in the data frame.\n",
    "syntax: dataframe_name.size()\n",
    "\n",
    "info:get different information such as rows from RangeIndex, Data columns and then data type of each column. It also includes the information of non-null counts.\n",
    "synatx: dataframe_name.info()\n",
    "\n",
    "and somany\n",
    "\n"
   ]
  },
  {
   "cell_type": "raw",
   "id": "b2e07ea3",
   "metadata": {},
   "source": [
    "\n",
    "# Q6. Which of the following is mutable in nature Series, DataFrame, Panel?\n",
    "Ans:Panel: it is 3D data structure with hetrogenous data. Dataframe and panel is mutable.\n",
    "\n",
    "Data Structure\tDimensions\t Data Type\t        Data\t    Size\n",
    "  Series\t     1D array\t Homogeneous data   Mutable   Immutable\n",
    " Data Frame\t     2D array\tHeterogeneous data\tMutable\t  Mutable\n",
    "  Panel\t         3D array\tHeterogeneous data\tMutable\t  Mutable"
   ]
  },
  {
   "cell_type": "code",
   "execution_count": 29,
   "id": "1f2f18a6",
   "metadata": {},
   "outputs": [
    {
     "name": "stdout",
     "output_type": "stream",
     "text": [
      "   col1 col2\n",
      "1     2   wr\n",
      "2     3   ra\n",
      "0     1  NaN\n"
     ]
    }
   ],
   "source": [
    "### Q7. Create a DataFrame using multiple Series. Explain with an example.\n",
    "import pandas as pd\n",
    "\n",
    "data1 = {'col1' : pd.Series([1,2,3]), 'col2' : pd.Series(['wr','ra','re'] , index=[1,2,3])}\n",
    "data2 = [1,2,3,4,5,6]\n",
    "\n",
    "ds = pd.DataFrame(data=data1, index = [1,2,0]) #re-indexing\n",
    "print(ds)\n"
   ]
  },
  {
   "cell_type": "code",
   "execution_count": 30,
   "id": "6a81991d",
   "metadata": {},
   "outputs": [
    {
     "name": "stdout",
     "output_type": "stream",
     "text": [
      "   name  age\n",
      "2   Bob   35\n",
      "1  Jane   30\n",
      "0  John   25\n"
     ]
    }
   ],
   "source": [
    "import pandas as pd\n",
    "\n",
    " \n",
    "\n",
    "data = {'name': ['John', 'Jane', 'Bob'], 'age': [25, 30, 35]}\n",
    "\n",
    "df = pd.DataFrame(data)\n",
    "\n",
    " \n",
    "\n",
    "df_reindexed = df.reindex([2, 1, 0])\n",
    "\n",
    " \n",
    "\n",
    "print(df_reindexed)"
   ]
  },
  {
   "cell_type": "code",
   "execution_count": 31,
   "id": "7047f883",
   "metadata": {},
   "outputs": [
    {
     "name": "stdout",
     "output_type": "stream",
     "text": [
      "John 25\n",
      "Jane 30\n",
      "Bob 35\n"
     ]
    }
   ],
   "source": [
    "data = {'name': ['John', 'Jane', 'Bob'], 'age': [25, 30, 35]}\n",
    "\n",
    "df = pd.DataFrame(data)\n",
    "\n",
    " \n",
    "\n",
    "for index, row in df.iterrows():\n",
    "\n",
    "    print(row['name'], row['age'])"
   ]
  },
  {
   "cell_type": "code",
   "execution_count": 13,
   "id": "4212dc2f",
   "metadata": {},
   "outputs": [
    {
     "name": "stdout",
     "output_type": "stream",
     "text": [
      "John 25\n",
      "John 30\n",
      "John 35\n"
     ]
    }
   ],
   "source": [
    "data = {'name': ['John', 'Jane', 'Bob'], 'age': [25, 30, 35]}\n",
    "\n",
    "df = pd.DataFrame(data)\n",
    "\n",
    "for row,index in df.iterrows():\n",
    "    print(i['name'],index['age'])"
   ]
  },
  {
   "cell_type": "code",
   "execution_count": null,
   "id": "9778ae85",
   "metadata": {},
   "outputs": [],
   "source": []
  }
 ],
 "metadata": {
  "kernelspec": {
   "display_name": "Python 3 (ipykernel)",
   "language": "python",
   "name": "python3"
  },
  "language_info": {
   "codemirror_mode": {
    "name": "ipython",
    "version": 3
   },
   "file_extension": ".py",
   "mimetype": "text/x-python",
   "name": "python",
   "nbconvert_exporter": "python",
   "pygments_lexer": "ipython3",
   "version": "3.9.13"
  }
 },
 "nbformat": 4,
 "nbformat_minor": 5
}
