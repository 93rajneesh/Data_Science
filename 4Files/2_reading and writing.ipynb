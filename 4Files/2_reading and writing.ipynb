{
 "cells": [
  {
   "cell_type": "code",
   "execution_count": 4,
   "id": "1eb789a3",
   "metadata": {},
   "outputs": [],
   "source": [
    "data = {\n",
    "    \"Country \": \"INdia\",\n",
    "    \"Contienent\" : \"Asia\",\n",
    "    \"State\" : [\"Punjab\" , \"J&K\" , \"UK\" , \"UP\" ]\n",
    "}"
   ]
  },
  {
   "cell_type": "code",
   "execution_count": 5,
   "id": "c8272e57",
   "metadata": {},
   "outputs": [],
   "source": [
    "import json\n",
    "with open(\"data.json\" ,\"w\") as f:\n",
    "    json.dump(data,f)"
   ]
  },
  {
   "cell_type": "code",
   "execution_count": 6,
   "id": "8abcbee6",
   "metadata": {},
   "outputs": [],
   "source": [
    "with open(\"data.json\",\"r\") as f:\n",
    "    data1 = json.load(f)"
   ]
  },
  {
   "cell_type": "code",
   "execution_count": 7,
   "id": "d98252b9",
   "metadata": {},
   "outputs": [
    {
     "data": {
      "text/plain": [
       "{'Country ': 'INdia',\n",
       " 'Contienent': 'Asia',\n",
       " 'State': ['Punjab', 'J&K', 'UK', 'UP']}"
      ]
     },
     "execution_count": 7,
     "metadata": {},
     "output_type": "execute_result"
    }
   ],
   "source": [
    "data1"
   ]
  },
  {
   "cell_type": "code",
   "execution_count": 72,
   "id": "9f45c9f1",
   "metadata": {},
   "outputs": [
    {
     "data": {
      "text/plain": [
       "['Punjab', 'J&K', 'UK', 'UP']"
      ]
     },
     "execution_count": 72,
     "metadata": {},
     "output_type": "execute_result"
    }
   ],
   "source": [
    "data1[\"State\"]"
   ]
  },
  {
   "cell_type": "code",
   "execution_count": 73,
   "id": "2b29f247",
   "metadata": {},
   "outputs": [
    {
     "data": {
      "text/plain": [
       "'UK'"
      ]
     },
     "execution_count": 73,
     "metadata": {},
     "output_type": "execute_result"
    }
   ],
   "source": [
    "data1['State'][2]"
   ]
  },
  {
   "cell_type": "code",
   "execution_count": 74,
   "id": "ba90918e",
   "metadata": {},
   "outputs": [],
   "source": [
    "import csv\n",
    "data = [[\"Country\",\"Contienent\",\"State\"],\n",
    "        [\"USA\" ,\"aMERICA\", \"LA\"],\n",
    "        [\"Pakistan\",\"Asia\",\"Punjab\"]]\n",
    "\n",
    "with open(\"data.csv\",\"w\") as f :\n",
    "    csvfile = csv.writer(f)\n",
    "    for i in data:\n",
    "        csvfile.writerow(i)\n"
   ]
  },
  {
   "cell_type": "code",
   "execution_count": 75,
   "id": "1c12d8d0",
   "metadata": {},
   "outputs": [
    {
     "name": "stdout",
     "output_type": "stream",
     "text": [
      "['Country', 'Contienent', 'State']\n",
      "[]\n",
      "['USA', 'aMERICA', 'LA']\n",
      "[]\n",
      "['Pakistan', 'Asia', 'Punjab']\n",
      "[]\n"
     ]
    }
   ],
   "source": [
    "# read the data\n",
    "with open(\"data.csv\" , \"r\") as f:\n",
    "    readcsv = csv.reader(f)\n",
    "    for i in readcsv:\n",
    "        print(i)\n",
    "    "
   ]
  },
  {
   "cell_type": "code",
   "execution_count": 76,
   "id": "67992913",
   "metadata": {},
   "outputs": [],
   "source": [
    "# data in binary file\n"
   ]
  },
  {
   "cell_type": "code",
   "execution_count": 85,
   "id": "ea9378e6",
   "metadata": {},
   "outputs": [],
   "source": [
    "with open(\"file.bin\" , \"wb\") as f:\n",
    "    f.write(b\"\\x01\\x02\\x03\\x05\\0x05456\")"
   ]
  },
  {
   "cell_type": "code",
   "execution_count": 86,
   "id": "52627692",
   "metadata": {},
   "outputs": [
    {
     "name": "stdout",
     "output_type": "stream",
     "text": [
      "b'\\x01\\x02\\x03\\x05\\x00x05456'\n"
     ]
    }
   ],
   "source": [
    "with open(\"file.bin\" ,\"rb\") as f:\n",
    "    print(f.read())"
   ]
  },
  {
   "cell_type": "code",
   "execution_count": null,
   "id": "ca896727",
   "metadata": {},
   "outputs": [],
   "source": []
  }
 ],
 "metadata": {
  "kernelspec": {
   "display_name": "Python 3 (ipykernel)",
   "language": "python",
   "name": "python3"
  },
  "language_info": {
   "codemirror_mode": {
    "name": "ipython",
    "version": 3
   },
   "file_extension": ".py",
   "mimetype": "text/x-python",
   "name": "python",
   "nbconvert_exporter": "python",
   "pygments_lexer": "ipython3",
   "version": "3.9.13"
  }
 },
 "nbformat": 4,
 "nbformat_minor": 5
}
