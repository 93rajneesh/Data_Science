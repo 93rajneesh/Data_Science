{
 "cells": [
  {
   "cell_type": "code",
   "execution_count": 31,
   "id": "a03ad4b7",
   "metadata": {},
   "outputs": [],
   "source": [
    "import logging\n",
    "logging.basicConfig(filename = \"test_log.log\" , level = logging.INFO)\n",
    "\n",
    "logging.info(\"log this line executation\")\n",
    "\n",
    "logging.info(\"this is my print\")\n",
    "\n",
    "logging.shutdown()\n"
   ]
  },
  {
   "cell_type": "code",
   "execution_count": 33,
   "id": "bacaeb08",
   "metadata": {},
   "outputs": [
    {
     "name": "stderr",
     "output_type": "stream",
     "text": [
      "ERROR:root:this is error\n"
     ]
    }
   ],
   "source": [
    "import logging\n",
    "logging.basicConfig(filename = \"log4.log\" ,level = logging.INFO)\n",
    "\n",
    "logging.debug(\"\\nthis is debugging\")\n",
    "logging.info(\"this is info\")\n",
    "logging.error(\"this is error\")\n",
    "logging.shutdown()"
   ]
  },
  {
   "cell_type": "code",
   "execution_count": 34,
   "id": "1249a003",
   "metadata": {},
   "outputs": [
    {
     "name": "stderr",
     "output_type": "stream",
     "text": [
      "ERROR:root:computer error\n"
     ]
    }
   ],
   "source": [
    "import logging\n",
    "logging.basicConfig( filename = \"rajneesh.log\" , level = logging.DEBUG , format = '%(asctime)s %(message)s')\n",
    "logging.info(\"rajneesh info\")\n",
    "logging.error(\"computer error\")\n",
    "logging.shutdown()"
   ]
  },
  {
   "cell_type": "code",
   "execution_count": 23,
   "id": "0473d295",
   "metadata": {},
   "outputs": [],
   "source": [
    "l = [1,2,3,4, [10,11,12],19 , \"wi\", \"ndows\" , \"intel\"]"
   ]
  },
  {
   "cell_type": "code",
   "execution_count": 36,
   "id": "2154d883",
   "metadata": {},
   "outputs": [],
   "source": [
    "l1_int = []\n",
    "l2_str = []\n",
    "import logging\n",
    "logging.basicConfig(filename = \"example.log\" , level= logging.DEBUG)\n",
    "for i in l:\n",
    "    logging.info(\"we are iterating through our list and our local var is i+ str(i)\")\n",
    "    if type(i) == list:\n",
    "        logging.info(\"inside if statement and i am trying to check list time\".format(l ))\n",
    "        for j in i:\n",
    "            logging.info(\"i am inside another for loop\")\n",
    "            if type(j) == int:\n",
    "                logging.info(\"i am inside another if \")\n",
    "                l1_int.append(j)\n",
    "    elif type(i) == int:\n",
    "        l1_int.append(i)\n",
    "    else:\n",
    "        if type(i) == str:\n",
    "            l2_str.append(i)"
   ]
  },
  {
   "cell_type": "code",
   "execution_count": 37,
   "id": "84d80b47",
   "metadata": {},
   "outputs": [
    {
     "data": {
      "text/plain": [
       "['wi', 'ndows', 'intel']"
      ]
     },
     "execution_count": 37,
     "metadata": {},
     "output_type": "execute_result"
    }
   ],
   "source": [
    "l2_str"
   ]
  },
  {
   "cell_type": "code",
   "execution_count": null,
   "id": "ebbf265c",
   "metadata": {},
   "outputs": [],
   "source": []
  }
 ],
 "metadata": {
  "kernelspec": {
   "display_name": "Python 3 (ipykernel)",
   "language": "python",
   "name": "python3"
  },
  "language_info": {
   "codemirror_mode": {
    "name": "ipython",
    "version": 3
   },
   "file_extension": ".py",
   "mimetype": "text/x-python",
   "name": "python",
   "nbconvert_exporter": "python",
   "pygments_lexer": "ipython3",
   "version": "3.9.13"
  }
 },
 "nbformat": 4,
 "nbformat_minor": 5
}
