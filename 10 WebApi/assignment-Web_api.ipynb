{
 "cells": [
  {
   "cell_type": "markdown",
   "id": "f0b5d86a-73c7-4a38-843e-083820c13553",
   "metadata": {
    "tags": []
   },
   "source": [
    "### Q1. What is an API? Give an example, where an API is used in real life.\n",
    "\n",
    "Ans: API are the mechanisms that enable the two two software to communicate to each other using set of definitons and protocols.ex the weather bureau's software system contain daily weater data. The weather app on your phone \"\"talks\" to this system via API's and show you daily weather updates on your phone."
   ]
  },
  {
   "cell_type": "markdown",
   "id": "9b4b9639",
   "metadata": {},
   "source": [
    "### Q2. Give advantages and disadvantages of using API.\n",
    "\n",
    "Ans:\n",
    "#### Advantage\n",
    "Increased Interoperability: API software enable differnt software systems to communicate with each  other, regardless of their programing language or platform. This enhances the interoperablity between systems, allowing for the exchange of data and functionality\n",
    "\n",
    "Improved Efficiency: API driven infrastructures enables developers to reuse code and functionality form existing software system, saving time and reducing the amount of code that need to be written from scratch.\n",
    "\n",
    "Better user experience: API can enbles third-party developers to create application that integrate with existing software system, providing a better user experience and increased functiona;ity.\n",
    "\n",
    "Increased flexibility: APIs provide developers with greater flexibility, enabling them to choose the best programming languahe and frameworks for their needs.\n",
    "\n",
    "New Revenue Streams: APIs can enable companies to create new revenue streams by providing third-party developers eith access to their software systems.\n",
    "\n",
    "#### Disadvantage\n",
    "\n",
    "Security Concerns: API infrastrures can be vulnerable to security breaches, such as sql injection attacks and cross-site scripting(XSS) attacks, making it crucial tomimplement security measures to project against these threats.\n",
    "\n",
    "Complexity:  API canbe complex, requring a siginficant amout of development effort to implement and maiontain.\n",
    "\n",
    "Compatibility Issue: APIs can have compatibility issues between different versions of same software system or between different system, which can lead to error and ststem failures\n",
    "\n",
    "Dependency on third-party developers: APIs on rely third-party developerss to create application that intergate with the software system. This can create dependencies that are outside of the control of the company that owns the software system."
   ]
  },
  {
   "cell_type": "markdown",
   "id": "f5d82f68",
   "metadata": {},
   "source": [
    "### Q3. What is a Web API? Differentiate between API and Web API.\n",
    "Ans:Web API is an API as the name suggests, it can be accessed over the web using the HTTP protocol. It is a framework that helps you to create and develop HTTP based RESTFUL services. The web API can be developed by using different technologies such as java, ASP.NET, etc"
   ]
  },
  {
   "cell_type": "markdown",
   "id": "9f001d5c",
   "metadata": {},
   "source": [
    "### Q4. Explain REST and SOAP Architecture. Mention shortcomings of SOAP.\n",
    "Ans: REST is set of architectural principles.SOAP(Simple object access  protocol) is a offical protocol maintained by World wide web Consortium(W3C).\n",
    "\n",
    "#### REST\n",
    "REST is a set of architectural principle attuned to needs of lightweight web services an d mobile application. When a request for data is sent to REST API,its usually done through hypertext transfer protocol(commonly HTTP).Once a request is recieved, APIs designed for REST can return message in a variety of format: HTML,XML, JSON,plain text. JSON is favored as format because it can be read by any programming language, is human and machine readable, and is lightweight.\n",
    "\n",
    "application is said to be RESTful if it follows 6 architectural guidelines. A RESTful application must have:\n",
    "\n",
    "1) a client- sever architecture composed of client, severs and resources.\n",
    "\n",
    "2) Stateless client-sever communication, meaning no client is stores on the sever between requests.\n",
    "\n",
    "3)Cacheable data to eliminate the need for some slient-sever interaction.\n",
    "\n",
    "4)A uniform interface between component so that information is transferred in a standardized form instead of specific to an application needs.\n",
    "\n",
    "5)A layered system constraint, where client-server interactions can be mediated by hierarchical layers.\n",
    "\n",
    "6)Code on demand, allowing servers to extend the functionality of a client by transferring executable code (though also reducing visibility, making this an optional guideline).\n",
    "\n",
    "#### SOAP\n",
    "SOAP is a standard protocol that was first designed so that applications built with different languages and on different platforms could communicate. Because it is a protocol, it imposes built-in rules that increase its complexity and overhead, which can lead to longer page load times. However, these standards also offer built-in compliances that can make it preferable for enterprise scenarios. The built-in compliance standards include security, atomicity, consistency, isolation, and durability (ACID), which is a set of properties for ensuring reliable database transactions.\n",
    "\n"
   ]
  },
  {
   "cell_type": "raw",
   "id": "be477b17",
   "metadata": {},
   "source": [
    "### Q5: Differentiate between REST and SOAP.\n",
    "ans: \n",
    "#### SOAP\n",
    "1) relies on soap\n",
    "2) transports data in standard XML format\n",
    "3) Because it is XML based and relies on SOAP,it works witth WSDL\n",
    "4) works over HTTP,HTTPS,STMP,XMPP\n",
    "5)Highly structurd/typed\n",
    "6)Designed with large enterprise applications in mind\n",
    "\n",
    "#### REST\n",
    "1)Relies on REST (Representational State Transfer) architecture using HTTP.\n",
    "2)Generally transports data in JSON. It is based on URI. Because REST follows stateless model, REST does not enforces message format as XML or JSON etc.\n",
    "3)It works with GET, POST, PUT, DELETE\n",
    "4)Works over HTTP and HTTPS\n",
    "5)Less structured -> less bulky data\n",
    "6)Designed with mobile devices in mind"
   ]
  }
 ],
 "metadata": {
  "kernelspec": {
   "display_name": "Python 3 (ipykernel)",
   "language": "python",
   "name": "python3"
  },
  "language_info": {
   "codemirror_mode": {
    "name": "ipython",
    "version": 3
   },
   "file_extension": ".py",
   "mimetype": "text/x-python",
   "name": "python",
   "nbconvert_exporter": "python",
   "pygments_lexer": "ipython3",
   "version": "3.9.13"
  }
 },
 "nbformat": 4,
 "nbformat_minor": 5
}
