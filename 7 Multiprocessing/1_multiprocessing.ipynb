{
 "cells": [
  {
   "cell_type": "code",
   "execution_count": 1,
   "id": "bad7dfc6",
   "metadata": {},
   "outputs": [
    {
     "name": "stdout",
     "output_type": "stream",
     "text": [
      "multiprocessing function\n",
      "this is my main function and calling multiprocessing\n"
     ]
    }
   ],
   "source": [
    "import multiprocessing\n",
    "def test():\n",
    "    print(\"multiprocessing function\")\n",
    "\n",
    "# they invoke the all python resources\n",
    "if __name__ == '__main__': \n",
    "    # calling the multiprocessing\n",
    "    m = multiprocessing.Process(target = test() )\n",
    "    print(\"this is my main function and calling multiprocessing\")\n",
    "     # start the child process\n",
    "    m.start()\n",
    "    m.join() "
   ]
  },
  {
   "cell_type": "code",
   "execution_count": null,
   "id": "b991a20e",
   "metadata": {},
   "outputs": [],
   "source": [
    "import multiprocessing\n",
    "def square(n):\n",
    "    return n*n\n",
    "\n",
    "if __name__ == '__main__':\n",
    "    with multiprocessing.Pool(processes= 4) as pool :\n",
    "        out = pool.map(square , [1,7,8,9,1,2,45])\n",
    "        print(out)"
   ]
  },
  {
   "cell_type": "code",
   "execution_count": null,
   "id": "9940fe9e",
   "metadata": {},
   "outputs": [],
   "source": []
  },
  {
   "cell_type": "code",
   "execution_count": null,
   "id": "e2bf2409",
   "metadata": {},
   "outputs": [],
   "source": []
  },
  {
   "cell_type": "code",
   "execution_count": null,
   "id": "1e3fa8b3",
   "metadata": {},
   "outputs": [],
   "source": []
  }
 ],
 "metadata": {
  "kernelspec": {
   "display_name": "Python 3 (ipykernel)",
   "language": "python",
   "name": "python3"
  },
  "language_info": {
   "codemirror_mode": {
    "name": "ipython",
    "version": 3
   },
   "file_extension": ".py",
   "mimetype": "text/x-python",
   "name": "python",
   "nbconvert_exporter": "python",
   "pygments_lexer": "ipython3",
   "version": "3.9.13"
  },
  "toc-showtags": false
 },
 "nbformat": 4,
 "nbformat_minor": 5
}
