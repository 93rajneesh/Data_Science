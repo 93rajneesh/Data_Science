{
 "cells": [
  {
   "cell_type": "code",
   "execution_count": 8,
   "id": "2d7e855f",
   "metadata": {
    "scrolled": false
   },
   "outputs": [
    {
     "ename": "NameError",
     "evalue": "name 'e' is not defined",
     "output_type": "error",
     "traceback": [
      "\u001b[1;31m---------------------------------------------------------------------------\u001b[0m",
      "\u001b[1;31mNameError\u001b[0m                                 Traceback (most recent call last)",
      "\u001b[1;32m~\\AppData\\Local\\Temp\\ipykernel_24656\\3891320093.py\u001b[0m in \u001b[0;36m<module>\u001b[1;34m\u001b[0m\n\u001b[0;32m      1\u001b[0m \u001b[0mf\u001b[0m \u001b[1;33m=\u001b[0m \u001b[0mopen\u001b[0m\u001b[1;33m(\u001b[0m\u001b[1;34m\"tec.txt\"\u001b[0m\u001b[1;33m,\u001b[0m\u001b[1;34m'r'\u001b[0m\u001b[1;33m)\u001b[0m\u001b[1;33m\u001b[0m\u001b[1;33m\u001b[0m\u001b[0m\n\u001b[1;32m----> 2\u001b[1;33m \u001b[0mprint\u001b[0m\u001b[1;33m(\u001b[0m\u001b[1;34m\"data science\"\u001b[0m\u001b[1;33m,\u001b[0m\u001b[0me\u001b[0m\u001b[1;33m)\u001b[0m\u001b[1;33m\u001b[0m\u001b[1;33m\u001b[0m\u001b[0m\n\u001b[0m",
      "\u001b[1;31mNameError\u001b[0m: name 'e' is not defined"
     ]
    }
   ],
   "source": [
    "f = open(\"tec.txt\",'r')\n",
    "print(\"data science\",)"
   ]
  },
  {
   "cell_type": "code",
   "execution_count": 13,
   "id": "7da1ed36",
   "metadata": {},
   "outputs": [
    {
     "name": "stdout",
     "output_type": "stream",
     "text": [
      "this is my exception block [Errno 2] No such file or directory: 'tet.txt'\n"
     ]
    }
   ],
   "source": [
    "try :\n",
    "    f = open(\"tet.txt\",'r')\n",
    "except Exception as e:\n",
    "    print(\"this is my exception block\",e)\n",
    "    "
   ]
  },
  {
   "cell_type": "code",
   "execution_count": 14,
   "id": "81659427",
   "metadata": {},
   "outputs": [],
   "source": [
    "try :\n",
    "    f = open(\"tec.txt\",'w')\n",
    "    f.write(\"this is text file\")\n",
    "    f.close()\n",
    "except Exception as e:\n",
    "    print(\"data science\",e)"
   ]
  },
  {
   "cell_type": "code",
   "execution_count": 17,
   "id": "0fb5fd71",
   "metadata": {},
   "outputs": [
    {
     "name": "stdout",
     "output_type": "stream",
     "text": [
      "this is will exceute once your try will execute with error\n"
     ]
    }
   ],
   "source": [
    "try:\n",
    "    f = open(\"plain.txt\",'w')\n",
    "    f.write(\"this is my block\")\n",
    "except Exception as e:\n",
    "    print(\"this is exceptiom block\")\n",
    "    \n",
    "else:\n",
    "    f.close()\n",
    "    print(\"this is will exceute once your try will execute with error\")"
   ]
  },
  {
   "cell_type": "code",
   "execution_count": 19,
   "id": "768f5447",
   "metadata": {},
   "outputs": [
    {
     "name": "stdout",
     "output_type": "stream",
     "text": [
      "this is my exception block [Errno 2] No such file or directory: 'ert.txt'\n"
     ]
    }
   ],
   "source": [
    "try :\n",
    "    f = open(\"ert.txt\",'r')\n",
    "    f.write(\"fdsk\")\n",
    "except Exception as e:\n",
    "    print(\"this is my exception block\",e)\n",
    "else:\n",
    "    print(\"this is will exceute once your try will execute with error\")"
   ]
  },
  {
   "cell_type": "code",
   "execution_count": 22,
   "id": "5ef8f0ee",
   "metadata": {},
   "outputs": [
    {
     "name": "stdout",
     "output_type": "stream",
     "text": [
      "this is always exceuted\n"
     ]
    },
    {
     "ename": "FileNotFoundError",
     "evalue": "[Errno 2] No such file or directory: 'fds.txt'",
     "output_type": "error",
     "traceback": [
      "\u001b[1;31m---------------------------------------------------------------------------\u001b[0m",
      "\u001b[1;31mFileNotFoundError\u001b[0m                         Traceback (most recent call last)",
      "\u001b[1;32m~\\AppData\\Local\\Temp\\ipykernel_24656\\3038820598.py\u001b[0m in \u001b[0;36m<module>\u001b[1;34m\u001b[0m\n\u001b[0;32m      1\u001b[0m \u001b[1;32mtry\u001b[0m\u001b[1;33m:\u001b[0m\u001b[1;33m\u001b[0m\u001b[1;33m\u001b[0m\u001b[0m\n\u001b[1;32m----> 2\u001b[1;33m     \u001b[0mf\u001b[0m \u001b[1;33m=\u001b[0m \u001b[0mopen\u001b[0m\u001b[1;33m(\u001b[0m\u001b[1;34m\"fds.txt\"\u001b[0m\u001b[1;33m,\u001b[0m\u001b[1;34m'r'\u001b[0m\u001b[1;33m)\u001b[0m\u001b[1;33m\u001b[0m\u001b[1;33m\u001b[0m\u001b[0m\n\u001b[0m\u001b[0;32m      3\u001b[0m     \u001b[0mf\u001b[0m\u001b[1;33m.\u001b[0m\u001b[0mwrite\u001b[0m\u001b[1;33m(\u001b[0m\u001b[1;34m\"fds \"\u001b[0m\u001b[1;33m)\u001b[0m\u001b[1;33m\u001b[0m\u001b[1;33m\u001b[0m\u001b[0m\n\u001b[0;32m      4\u001b[0m \u001b[1;31m# except Exception as e:\u001b[0m\u001b[1;33m\u001b[0m\u001b[1;33m\u001b[0m\u001b[0m\n\u001b[0;32m      5\u001b[0m \u001b[1;31m#     print(\"this is exception block\\n\")\u001b[0m\u001b[1;33m\u001b[0m\u001b[1;33m\u001b[0m\u001b[0m\n",
      "\u001b[1;31mFileNotFoundError\u001b[0m: [Errno 2] No such file or directory: 'fds.txt'"
     ]
    }
   ],
   "source": [
    "try:\n",
    "    f = open(\"fds.txt\",'r')\n",
    "    f.write(\"fds \")\n",
    "# except Exception as e:\n",
    "#     print(\"this is exception block\\n\")\n",
    "finally:\n",
    "    print(\"this is always exceuted\")"
   ]
  },
  {
   "cell_type": "code",
   "execution_count": 23,
   "id": "b79a924e",
   "metadata": {},
   "outputs": [
    {
     "name": "stdout",
     "output_type": "stream",
     "text": [
      "this is exception block\n",
      "\n",
      "this is always exceuted\n"
     ]
    }
   ],
   "source": [
    "try:\n",
    "    f = open(\"fds.txt\",'r')\n",
    "    f.write(\"fds \")\n",
    "except Exception as e:\n",
    "    print(\"this is exception block\\n\")\n",
    "finally:\n",
    "    print(\"this is always exceuted\")"
   ]
  },
  {
   "cell_type": "code",
   "execution_count": null,
   "id": "5ca65e9a",
   "metadata": {},
   "outputs": [],
   "source": []
  }
 ],
 "metadata": {
  "kernelspec": {
   "display_name": "Python 3 (ipykernel)",
   "language": "python",
   "name": "python3"
  },
  "language_info": {
   "codemirror_mode": {
    "name": "ipython",
    "version": 3
   },
   "file_extension": ".py",
   "mimetype": "text/x-python",
   "name": "python",
   "nbconvert_exporter": "python",
   "pygments_lexer": "ipython3",
   "version": "3.9.13"
  }
 },
 "nbformat": 4,
 "nbformat_minor": 5
}
