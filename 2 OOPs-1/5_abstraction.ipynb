{
 "cells": [
  {
   "cell_type": "code",
   "execution_count": 1,
   "id": "49d08f99",
   "metadata": {},
   "outputs": [],
   "source": [
    "import abc"
   ]
  },
  {
   "cell_type": "code",
   "execution_count": 2,
   "id": "be2249e8",
   "metadata": {},
   "outputs": [],
   "source": [
    "class data:\n",
    "    @abc.abstractmethod\n",
    "    def student_details(self):\n",
    "        pass\n",
    "    @abc.abstractmethod\n",
    "    def student_marks(self):\n",
    "        pass"
   ]
  },
  {
   "cell_type": "code",
   "execution_count": 3,
   "id": "ece34ec6",
   "metadata": {},
   "outputs": [],
   "source": [
    "class nitj_data:\n",
    "    def student_details(self):\n",
    "        return \"NITJ student details\"\n",
    "    def student_marks(self):\n",
    "        return \"NITJ student marks\""
   ]
  },
  {
   "cell_type": "code",
   "execution_count": 4,
   "id": "4636ab6d",
   "metadata": {},
   "outputs": [],
   "source": [
    "class clg_data:\n",
    "    def student_details(self):\n",
    "        return \"college student details\"\n",
    "    def student_marks(self):\n",
    "        return \"college student marks\""
   ]
  },
  {
   "cell_type": "code",
   "execution_count": 5,
   "id": "40103816",
   "metadata": {},
   "outputs": [
    {
     "data": {
      "text/plain": [
       "'NITJ student marks'"
      ]
     },
     "execution_count": 5,
     "metadata": {},
     "output_type": "execute_result"
    }
   ],
   "source": [
    "nitj = nitj_data()\n",
    "nitj.student_marks()"
   ]
  },
  {
   "cell_type": "code",
   "execution_count": 7,
   "id": "4041cd86",
   "metadata": {},
   "outputs": [
    {
     "data": {
      "text/plain": [
       "'college student details'"
      ]
     },
     "execution_count": 7,
     "metadata": {},
     "output_type": "execute_result"
    }
   ],
   "source": [
    "clg = clg_data()\n",
    "clg.student_details()"
   ]
  },
  {
   "cell_type": "code",
   "execution_count": null,
   "id": "7dcde185",
   "metadata": {},
   "outputs": [],
   "source": []
  }
 ],
 "metadata": {
  "kernelspec": {
   "display_name": "Python 3 (ipykernel)",
   "language": "python",
   "name": "python3"
  },
  "language_info": {
   "codemirror_mode": {
    "name": "ipython",
    "version": 3
   },
   "file_extension": ".py",
   "mimetype": "text/x-python",
   "name": "python",
   "nbconvert_exporter": "python",
   "pygments_lexer": "ipython3",
   "version": "3.9.13"
  }
 },
 "nbformat": 4,
 "nbformat_minor": 5
}
