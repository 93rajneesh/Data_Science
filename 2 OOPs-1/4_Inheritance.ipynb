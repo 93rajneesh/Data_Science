{
 "cells": [
  {
   "cell_type": "code",
   "execution_count": 1,
   "id": "f5e922ec",
   "metadata": {},
   "outputs": [],
   "source": [
    "class parent_test:\n",
    "    def print1(self):\n",
    "        print(\"hello world\")"
   ]
  },
  {
   "cell_type": "code",
   "execution_count": 3,
   "id": "37bd079b",
   "metadata": {},
   "outputs": [],
   "source": [
    "class child_test(parent_test):\n",
    "    pass\n",
    "    "
   ]
  },
  {
   "cell_type": "code",
   "execution_count": 4,
   "id": "e6244964",
   "metadata": {},
   "outputs": [],
   "source": [
    "c = child_test()"
   ]
  },
  {
   "cell_type": "code",
   "execution_count": 5,
   "id": "60c8de91",
   "metadata": {},
   "outputs": [
    {
     "name": "stdout",
     "output_type": "stream",
     "text": [
      "hello world\n"
     ]
    }
   ],
   "source": [
    "c.print1()"
   ]
  },
  {
   "cell_type": "code",
   "execution_count": 6,
   "id": "3c0a97b6",
   "metadata": {},
   "outputs": [],
   "source": [
    "# multilevel inheritance"
   ]
  },
  {
   "cell_type": "code",
   "execution_count": 7,
   "id": "cbc91ad7",
   "metadata": {},
   "outputs": [],
   "source": [
    "class class1:\n",
    "    def test_class1(self):\n",
    "        print(\"this is class 1\")\n",
    "\n",
    "class class2(class1):\n",
    "    def test_class2(self):\n",
    "        print(\"this is class 2\")\n",
    "\n",
    "class class3(class2):\n",
    "    def test_class3(self):\n",
    "        print(\"this is class 3\")"
   ]
  },
  {
   "cell_type": "code",
   "execution_count": 9,
   "id": "c842867b",
   "metadata": {},
   "outputs": [
    {
     "name": "stdout",
     "output_type": "stream",
     "text": [
      "this is class1\n"
     ]
    }
   ],
   "source": [
    "c = class3()\n",
    "c.test_class1()"
   ]
  },
  {
   "cell_type": "code",
   "execution_count": 10,
   "id": "f762a645",
   "metadata": {},
   "outputs": [
    {
     "name": "stdout",
     "output_type": "stream",
     "text": [
      "this is class 2\n"
     ]
    }
   ],
   "source": [
    "c.test_class2()"
   ]
  },
  {
   "cell_type": "code",
   "execution_count": 11,
   "id": "bbf4547b",
   "metadata": {},
   "outputs": [
    {
     "name": "stdout",
     "output_type": "stream",
     "text": [
      "this is class 3\n"
     ]
    }
   ],
   "source": [
    "c.test_class3()"
   ]
  },
  {
   "cell_type": "markdown",
   "id": "39ec04d1",
   "metadata": {},
   "source": [
    "### multiple inheritance\n"
   ]
  },
  {
   "cell_type": "code",
   "execution_count": 14,
   "id": "f337061d",
   "metadata": {},
   "outputs": [],
   "source": [
    "class parent_class1:\n",
    "    def test_case1(self):\n",
    "        print(\"this is class 1\")\n",
    "\n",
    "class parent_class2:\n",
    "    def test_case2(self):\n",
    "        print(\"this is class 2\")\n",
    "    \n",
    "class class4(parent_class1 , parent_class2):\n",
    "    def test_case3(self):\n",
    "        print(\"this is class 3\")"
   ]
  },
  {
   "cell_type": "code",
   "execution_count": 16,
   "id": "7a1741a3",
   "metadata": {},
   "outputs": [
    {
     "name": "stdout",
     "output_type": "stream",
     "text": [
      "this is class 1\n"
     ]
    }
   ],
   "source": [
    "c = class4()\n",
    "c.test_case1()"
   ]
  },
  {
   "cell_type": "code",
   "execution_count": null,
   "id": "ba2e6456",
   "metadata": {},
   "outputs": [],
   "source": []
  }
 ],
 "metadata": {
  "kernelspec": {
   "display_name": "Python 3 (ipykernel)",
   "language": "python",
   "name": "python3"
  },
  "language_info": {
   "codemirror_mode": {
    "name": "ipython",
    "version": 3
   },
   "file_extension": ".py",
   "mimetype": "text/x-python",
   "name": "python",
   "nbconvert_exporter": "python",
   "pygments_lexer": "ipython3",
   "version": "3.9.13"
  }
 },
 "nbformat": 4,
 "nbformat_minor": 5
}
