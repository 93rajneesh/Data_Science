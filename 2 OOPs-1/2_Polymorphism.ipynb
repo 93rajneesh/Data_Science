{
 "cells": [
  {
   "cell_type": "code",
   "execution_count": 12,
   "id": "5630fd86",
   "metadata": {},
   "outputs": [],
   "source": [
    "class webD:\n",
    "    def syllabus(self):\n",
    "        print(\"webD course\")"
   ]
  },
  {
   "cell_type": "code",
   "execution_count": 13,
   "id": "7b34f0b6",
   "metadata": {},
   "outputs": [],
   "source": [
    "class dataScience:\n",
    "    def syllabus(self):\n",
    "        print(\"Data Science course\")"
   ]
  },
  {
   "cell_type": "code",
   "execution_count": 18,
   "id": "7a970219",
   "metadata": {},
   "outputs": [],
   "source": [
    "def class_parcer(class_obj):\n",
    "    for i in class_obj:\n",
    "        i.syllabus()"
   ]
  },
  {
   "cell_type": "code",
   "execution_count": 19,
   "id": "0f0f9007",
   "metadata": {},
   "outputs": [],
   "source": [
    "webD()\n",
    "dataScience()"
   ]
  },
  {
   "cell_type": "code",
   "execution_count": 22,
   "id": "e4b4149a",
   "metadata": {},
   "outputs": [],
   "source": [
    "class_obj = [webD(), dataScience()]"
   ]
  },
  {
   "cell_type": "code",
   "execution_count": 23,
   "id": "c765ad4b",
   "metadata": {},
   "outputs": [
    {
     "name": "stdout",
     "output_type": "stream",
     "text": [
      "webD course\n",
      "Data Science course\n"
     ]
    }
   ],
   "source": [
    "class_parcer(class_obj)"
   ]
  },
  {
   "cell_type": "code",
   "execution_count": null,
   "id": "dd86e82a",
   "metadata": {},
   "outputs": [],
   "source": []
  },
  {
   "cell_type": "code",
   "execution_count": null,
   "id": "e1eb81a8",
   "metadata": {},
   "outputs": [],
   "source": []
  }
 ],
 "metadata": {
  "kernelspec": {
   "display_name": "Python 3 (ipykernel)",
   "language": "python",
   "name": "python3"
  },
  "language_info": {
   "codemirror_mode": {
    "name": "ipython",
    "version": 3
   },
   "file_extension": ".py",
   "mimetype": "text/x-python",
   "name": "python",
   "nbconvert_exporter": "python",
   "pygments_lexer": "ipython3",
   "version": "3.9.13"
  }
 },
 "nbformat": 4,
 "nbformat_minor": 5
}
