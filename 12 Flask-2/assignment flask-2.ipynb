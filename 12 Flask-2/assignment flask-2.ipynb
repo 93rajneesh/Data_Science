{
 "cells": [
  {
   "cell_type": "raw",
   "id": "b80ecfc1",
   "metadata": {},
   "source": [
    "Q1. Explain GET and POST methods.\n",
    "Ans:\n",
    "GET method\n",
    "1) Get method is mainly used at the client (Browser) side to send a request to a specified server to get certain data or resources.\n",
    "2)it is only used to view something and not to change it.\n",
    "3)it is only used to view something and not to change it.\n",
    "4)Get request is better for the data which does not need to be secure.\n",
    "example- https://www.google.com/search?q=health&source\n",
    "\n",
    "POST method\n",
    "1)used at client side to send data to a specified server in order to create or rewrite a particular resources/data.\n",
    "2)data sent to the server is stored in the request body of the HTTP request.\n",
    "3)it is not one of the most secure method because the data that is been sent is included in the body of the request and in the URL.\n",
    "4)It is more secure than the GET method.\n",
    "eg- https://accounts.google.com/v3/signin/challenge/pwd?TL=AG7eR"
   ]
  },
  {
   "cell_type": "raw",
   "id": "13f701f5",
   "metadata": {},
   "source": [
    "Q2. Why is request used in Flask?\n",
    "Ans:The Request, in Flask, is an object that contains all the data sent from the Client to Server. This data can be recovered using the GET/POST Methods.\n",
    "used to perform both sending and receiving operations from a user's browser to the server and process the request data from the server.It should be imported from the flask module."
   ]
  },
  {
   "cell_type": "raw",
   "id": "9b3dc0c7",
   "metadata": {},
   "source": [
    "Q3. Why is redirect() used in Flask?\n",
    "Ans:redirect() function is allow developers to redirect users to specified URL and assign a specified status code."
   ]
  },
  {
   "cell_type": "raw",
   "id": "4183a32c",
   "metadata": {},
   "source": [
    "Q4. What are templates in Flask? Why is the render_template() function used?\n",
    "Ans: templates- It is files that contain static data as well as placeholders for dynamic data.\n",
    "render_template() is used to generate output from a template file based on the Jinja2engine that is found in the application's templates folder.\n",
    "The static folder contains assets used by the templates, including CSS files, JavaScript files, and images."
   ]
  },
  {
   "cell_type": "raw",
   "id": "31e289eb",
   "metadata": {},
   "source": [
    "Q5. Create a simple API. Use Postman to test it. Attach the screenshot of the output in the Jupyter Notebook."
   ]
  }
 ],
 "metadata": {
  "kernelspec": {
   "display_name": "Python 3 (ipykernel)",
   "language": "python",
   "name": "python3"
  },
  "language_info": {
   "codemirror_mode": {
    "name": "ipython",
    "version": 3
   },
   "file_extension": ".py",
   "mimetype": "text/x-python",
   "name": "python",
   "nbconvert_exporter": "python",
   "pygments_lexer": "ipython3",
   "version": "3.9.13"
  }
 },
 "nbformat": 4,
 "nbformat_minor": 5
}
